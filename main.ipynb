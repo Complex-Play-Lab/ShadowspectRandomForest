{
 "cells": [
  {
   "cell_type": "markdown",
   "id": "d4356ab9-ab51-4660-8b49-0859fb38979e",
   "metadata": {},
   "source": [
    "# Import"
   ]
  },
  {
   "cell_type": "code",
   "execution_count": 2,
   "id": "83957627-70f6-4747-958f-ad88d7ab5c00",
   "metadata": {},
   "outputs": [],
   "source": [
    "from pandas import read_csv, DataFrame, options\n",
    "from scipy.stats import pearsonr, f\n",
    "from sklearn.ensemble import RandomForestRegressor\n",
    "from sklearn.inspection import permutation_importance\n",
    "from sklearn.model_selection import cross_val_predict, cross_validate, RandomizedSearchCV, GridSearchCV\n",
    "from sklearn.metrics import r2_score\n",
    "from numpy import array, mean, append, unique\n",
    "from matplotlib.pyplot import subplots\n",
    "from matplotlib.cm import get_cmap\n",
    "from os import makedirs\n",
    "from IPython.display import display, Markdown\n",
    "from statsmodels.formula.api import glm\n",
    "from math import ceil, floor, sqrt\n",
    "from pingouin import anova, cronbach_alpha, pairwise_corr, linear_regression, corr\n",
    "from xgboost import XGBRegressor\n",
    "from dalex import Explainer\n",
    "from warnings import filterwarnings\n",
    "from math import log\n",
    "filterwarnings('ignore')\n",
    "options.display.float_format = '{:.5f}'.format"
   ]
  },
  {
   "cell_type": "markdown",
   "id": "83986d87-c5cf-4feb-b786-dd44cc4bfc9c",
   "metadata": {},
   "source": [
    "# Setup\n",
    "## Load data and setup output dir"
   ]
  },
  {
   "cell_type": "code",
   "execution_count": 2,
   "id": "3fa69b4c-8a45-4a37-b912-8903f313bb9f",
   "metadata": {},
   "outputs": [],
   "source": [
    "data = read_csv(\"data/anon.csv\", sep=\"\\t\")\n",
    "makedirs(\"output\", exist_ok=True)"
   ]
  },
  {
   "cell_type": "markdown",
   "id": "0d021220-035d-4833-b57e-8d918b399b23",
   "metadata": {},
   "source": [
    "## Factoring categorical data"
   ]
  },
  {
   "cell_type": "code",
   "execution_count": 3,
   "id": "ce66d455-bfab-4e95-9ca4-dfb8c22dde09",
   "metadata": {},
   "outputs": [],
   "source": [
    "data[\"q15_gpa\"] = data[\"q15\"].map({\n",
    "    \"A\": 4,\n",
    "    \"B\": 3,\n",
    "    \"C\": 2,\n",
    "    \"D\": 1,\n",
    "    \"F\": 0\n",
    "})\n",
    "\n",
    "data[\"gender_number\"] = data[\"gender\"].map({\n",
    "    \"Male\": 0,\n",
    "    \"Female\": 1\n",
    "})\n",
    "\n",
    "data[\"hand_number\"] = data[\"hand\"].map({\n",
    "    \"Right-handed\": 0,\n",
    "    \"Left-handed\": 1\n",
    "})\n",
    "\n",
    "data[\"gamer_number\"] = data[\"q9\"].map({\n",
    "    \"A frequent video game player\": 1,\n",
    "    \"An occasional video game player\": 1,\n",
    "    \"A novice video game player\": 0,\n",
    "    \"A non-video game player\": 0\n",
    "})"
   ]
  },
  {
   "cell_type": "markdown",
   "id": "8109e4c9-dff1-4927-9608-8bbc59d6042f",
   "metadata": {},
   "source": [
    "## Composite values"
   ]
  },
  {
   "cell_type": "code",
   "execution_count": 4,
   "id": "363a975b-1c14-40dd-b528-f149a96f3d4f",
   "metadata": {},
   "outputs": [],
   "source": [
    "agree_map = {\n",
    "    \"Strongly agree\": 2,\n",
    "    \"Somewhat agree\": 1,\n",
    "    \"Neither agree nor disagree\": 0,\n",
    "    \"Somewhate disagree\": -1,\n",
    "    \"Strongly disagree\": -2,\n",
    "}\n",
    "\n",
    "data[\"enjoyment\"] = data[\"q1_1\"].map(agree_map).fillna(0) + data[\"q1_2\"].map(agree_map).fillna(0) - data[\"q1_3\"].map(agree_map).fillna(0) + data[\"q1_4\"].map(agree_map).fillna(0) + data[\"q1_5\"].map(agree_map).fillna(0) + data[\"q1_6\"].map(agree_map).fillna(0)\n",
    "data[\"math_efficacy\"] = data[\"q13_1\"].map(agree_map).fillna(0) + data[\"q13_2\"].map(agree_map).fillna(0) + data[\"q13_3\"].map(agree_map).fillna(0) + data[\"q13_4\"].map(agree_map).fillna(0) + data[\"q13_5\"].map(agree_map).fillna(0) + data[\"q1_6\"].map(agree_map).fillna(0)\n",
    "data[\"math_anxiety\"] = data[\"q14_1\"].map(agree_map).fillna(0) + data[\"q14_2\"].map(agree_map).fillna(0) + data[\"q14_3\"].map(agree_map).fillna(0) + data[\"q14_4\"].map(agree_map).fillna(0) + data[\"q14_5\"].map(agree_map).fillna(0) + data[\"q1_6\"].map(agree_map).fillna(0)\n",
    "data[\"comp_average\"] = data[\"comp_mg1\"] + data[\"comp_gmd4\"] + data[\"comp_co5\"] + data[\"comp_co6\"]"
   ]
  },
  {
   "cell_type": "markdown",
   "id": "0f300d06-08db-46cd-a966-28e120d19e46",
   "metadata": {},
   "source": [
    "# Features and Labels"
   ]
  },
  {
   "cell_type": "code",
   "execution_count": 5,
   "id": "9dd69eda-68ac-45f9-bd88-f2d16c7af4ad",
   "metadata": {},
   "outputs": [],
   "source": [
    "# What columns do we care about and what dependent variable col are we trying to predict?\n",
    "features = [\n",
    "    # \"total_events\", # colinear with the other total_x features\n",
    "    \"total_breaks\",\n",
    "    \"total_submit\",\n",
    "    \"total_snapshot\",\n",
    "    \"total_view\",\n",
    "    \"total_manipulate\",\n",
    "    \"n_puzzle\",\n",
    "    # \"n_puz_no_basic\", # redundant with n_puzzle and p_puz_no_basic\n",
    "    \"p_puz_no_basic\",\n",
    "    \"n_complete\",\n",
    "    \"n_tutorial\",\n",
    "    # \"n_interm\", # missing 15+%\n",
    "    # \"n_adv\", # missing over 30 values\n",
    "    # \"total_active\", # colinear with the other x_active\n",
    "    \"complete_active\",\n",
    "    \"incomplete_active\",\n",
    "    \"tutorial_atime_comp\",\n",
    "    # \"int_atime_comp\", # missing over 30 values\n",
    "    # \"adv_atime_comp\", # missing over 30 values\n",
    "    # \"tutorial_atime_incomp\", # missing over 30 values\n",
    "    # \"int_atime_incomp\", # missing over 30 values\n",
    "    # \"adv_atime_incomp\", # missing over 30 values\n",
    "    \"cumu_a_time\",\n",
    "    \"persistence_score\",\n",
    "    \"non_per\",\n",
    "    \"productive\",\n",
    "    \"unproductive\",\n",
    "    \"rapid\",\n",
    "    \"no_beh\",\n",
    "    \"avg_revisit\",\n",
    "    \"n_attempt\",\n",
    "    \"n_failed_att\",\n",
    "    \"revisits\",\n",
    "    \"diff_event1\",\n",
    "    # \"diff_event2\", # missing 15+%\n",
    "    # \"diff_event3\", # missing over 30 values\n",
    "    \"different_event\",\n",
    "    # \"sbst\", # dependent variable\n",
    "    # \"gender_number\", # external measure\n",
    "    # \"hand_number\", # external measure\n",
    "    # \"gamer_number\", # missing 15+%\n",
    "    \"enjoyment\",\n",
    "    \"comp_average\",\n",
    "    \"comp_mg1\",\n",
    "    \"comp_gmd4\",\n",
    "    \"comp_co5\",\n",
    "    \"comp_co6\",\n",
    "    # \"sbst, # external measure\n",
    "    # \"sri\" # external measure\n",
    "]\n",
    "\n",
    "labels = [\"sbst\", \"sri\"]\n",
    "protecteds = [\"gender_number\", \"hand_number\"] #, \"gamer_number\"]\n",
    "corr_extras = [\"so\", \"mr\", \"sv\"]\n",
    "everything = features + labels + corr_extras"
   ]
  },
  {
   "cell_type": "markdown",
   "id": "f6f0f2e9-0ee5-4f3b-a711-effc0350ee65",
   "metadata": {},
   "source": [
    "# Descriptive Stats"
   ]
  },
  {
   "cell_type": "markdown",
   "id": "91c1eefd-25a7-433b-94be-856bb71b91a4",
   "metadata": {},
   "source": [
    "## Count missing values"
   ]
  },
  {
   "cell_type": "code",
   "execution_count": 6,
   "id": "c894332d-f5d6-4622-956a-72d02be7f45e",
   "metadata": {},
   "outputs": [
    {
     "name": "stdout",
     "output_type": "stream",
     "text": [
      "Variable: total_breaks         Count Non-Missing: 47   Count Missing: 0    Percent Missing: 0.0\n",
      "Variable: total_submit         Count Non-Missing: 47   Count Missing: 0    Percent Missing: 0.0\n",
      "Variable: total_snapshot       Count Non-Missing: 47   Count Missing: 0    Percent Missing: 0.0\n",
      "Variable: total_view           Count Non-Missing: 47   Count Missing: 0    Percent Missing: 0.0\n",
      "Variable: total_manipulate     Count Non-Missing: 47   Count Missing: 0    Percent Missing: 0.0\n",
      "Variable: n_puzzle             Count Non-Missing: 47   Count Missing: 0    Percent Missing: 0.0\n",
      "Variable: p_puz_no_basic       Count Non-Missing: 47   Count Missing: 0    Percent Missing: 0.0\n",
      "Variable: n_complete           Count Non-Missing: 47   Count Missing: 0    Percent Missing: 0.0\n",
      "Variable: n_tutorial           Count Non-Missing: 47   Count Missing: 0    Percent Missing: 0.0\n",
      "Variable: complete_active      Count Non-Missing: 45   Count Missing: 2    Percent Missing: 4.255\n",
      "Variable: incomplete_active    Count Non-Missing: 44   Count Missing: 3    Percent Missing: 6.383\n",
      "Variable: tutorial_atime_comp  Count Non-Missing: 45   Count Missing: 2    Percent Missing: 4.255\n",
      "Variable: cumu_a_time          Count Non-Missing: 47   Count Missing: 0    Percent Missing: 0.0\n",
      "Variable: persistence_score    Count Non-Missing: 47   Count Missing: 0    Percent Missing: 0.0\n",
      "Variable: non_per              Count Non-Missing: 47   Count Missing: 0    Percent Missing: 0.0\n",
      "Variable: productive           Count Non-Missing: 47   Count Missing: 0    Percent Missing: 0.0\n",
      "Variable: unproductive         Count Non-Missing: 47   Count Missing: 0    Percent Missing: 0.0\n",
      "Variable: rapid                Count Non-Missing: 47   Count Missing: 0    Percent Missing: 0.0\n",
      "Variable: no_beh               Count Non-Missing: 47   Count Missing: 0    Percent Missing: 0.0\n",
      "Variable: avg_revisit          Count Non-Missing: 40   Count Missing: 7    Percent Missing: 14.89\n",
      "Variable: n_attempt            Count Non-Missing: 46   Count Missing: 1    Percent Missing: 2.128\n",
      "Variable: n_failed_att         Count Non-Missing: 46   Count Missing: 1    Percent Missing: 2.128\n",
      "Variable: revisits             Count Non-Missing: 46   Count Missing: 1    Percent Missing: 2.128\n",
      "Variable: diff_event1          Count Non-Missing: 47   Count Missing: 0    Percent Missing: 0.0\n",
      "Variable: different_event      Count Non-Missing: 47   Count Missing: 0    Percent Missing: 0.0\n",
      "Variable: enjoyment            Count Non-Missing: 47   Count Missing: 0    Percent Missing: 0.0\n",
      "Variable: comp_average         Count Non-Missing: 45   Count Missing: 2    Percent Missing: 4.255\n",
      "Variable: comp_mg1             Count Non-Missing: 45   Count Missing: 2    Percent Missing: 4.255\n",
      "Variable: comp_gmd4            Count Non-Missing: 45   Count Missing: 2    Percent Missing: 4.255\n",
      "Variable: comp_co5             Count Non-Missing: 45   Count Missing: 2    Percent Missing: 4.255\n",
      "Variable: comp_co6             Count Non-Missing: 45   Count Missing: 2    Percent Missing: 4.255\n",
      "Variable: sbst                 Count Non-Missing: 42   Count Missing: 5    Percent Missing: 10.64\n",
      "Variable: sri                  Count Non-Missing: 44   Count Missing: 3    Percent Missing: 6.383\n",
      "Variable: so                   Count Non-Missing: 44   Count Missing: 3    Percent Missing: 6.383\n",
      "Variable: mr                   Count Non-Missing: 44   Count Missing: 3    Percent Missing: 6.383\n",
      "Variable: sv                   Count Non-Missing: 44   Count Missing: 3    Percent Missing: 6.383\n"
     ]
    }
   ],
   "source": [
    "for col in everything:\n",
    "    num = data[col].isna().sum()\n",
    "    percent = num / len(data) * 100\n",
    "    print(f\"Variable: {col:20} Count Non-Missing: {len(data)-num:<4} Count Missing: {num:<4} Percent Missing: {percent:.4}\")"
   ]
  },
  {
   "cell_type": "markdown",
   "id": "f3fd77c0-c2de-4bf7-8fd3-242c0ec62fb6",
   "metadata": {},
   "source": [
    "## Histogram"
   ]
  },
  {
   "cell_type": "code",
   "execution_count": 7,
   "id": "451ab765-e55b-479c-a7d9-a95c6609146b",
   "metadata": {},
   "outputs": [
    {
     "data": {
      "image/png": "[encoded data removed]",
      "text/plain": [
       "<Figure size 1296x1296 with 36 Axes>"
      ]
     },
     "metadata": {
      "needs_background": "light"
     },
     "output_type": "display_data"
    }
   ],
   "source": [
    "N = ceil(sqrt(len(features + labels)))\n",
    "fig, axs = subplots(N, N)\n",
    "fig.set_size_inches(3*N, 3*N)\n",
    "fig.tight_layout(pad=3.0)\n",
    "for i, col in enumerate(features + labels):\n",
    "    data[col].plot(kind=\"hist\", ax=axs[i//N][i%N], title=col, bins=25)\n",
    "\n",
    "fig.savefig(\"output/hists.png\")"
   ]
  },
  {
   "cell_type": "markdown",
   "id": "fb6ac09a-9909-4da0-99cb-e5cc84da077a",
   "metadata": {},
   "source": [
    "## Percentages in binary categories"
   ]
  },
  {
   "cell_type": "code",
   "execution_count": 8,
   "id": "d5ea1e08-25dc-46a9-b659-a48039e44b27",
   "metadata": {},
   "outputs": [
    {
     "name": "stdout",
     "output_type": "stream",
     "text": [
      "Percent of students that are female: 51.06\n",
      "Percent of students that are left-handed: 19.15\n",
      "Percent of students that are gamers: 36.17\n"
     ]
    }
   ],
   "source": [
    "# gender\n",
    "percent_female = len(data[data[\"gender_number\"] == 1]) / len(data) * 100\n",
    "print(f\"Percent of students that are female: {percent_female:.4}\")\n",
    "\n",
    "# handedness\n",
    "percent_left = len(data[data[\"hand_number\"] == 1]) / len(data) * 100\n",
    "print(f\"Percent of students that are left-handed: {percent_left:.4}\")\n",
    "\n",
    "# handedness\n",
    "percent_gamer = len(data[data[\"gamer_number\"] == 1]) / len(data) * 100\n",
    "print(f\"Percent of students that are gamers: {percent_gamer:.4}\")"
   ]
  },
  {
   "cell_type": "markdown",
   "id": "d7589d45-3ea5-4428-a6f4-41cdc464d5dd",
   "metadata": {},
   "source": [
    "# Analysis"
   ]
  },
  {
   "cell_type": "markdown",
   "id": "9d4e5ff6-e9b7-4825-813b-322af2d71cf4",
   "metadata": {},
   "source": [
    "## Correlation"
   ]
  },
  {
   "cell_type": "code",
   "execution_count": 9,
   "id": "92e39ce1-143e-420f-94cb-a10d277b78e8",
   "metadata": {},
   "outputs": [
    {
     "data": {
      "text/html": [
       "<div>\n",
       "<style scoped>\n",
       "    .dataframe tbody tr th:only-of-type {\n",
       "        vertical-align: middle;\n",
       "    }\n",
       "\n",
       "    .dataframe tbody tr th {\n",
       "        vertical-align: top;\n",
       "    }\n",
       "\n",
       "    .dataframe thead th {\n",
       "        text-align: right;\n",
       "    }\n",
       "</style>\n",
       "<table border=\"1\" class=\"dataframe\">\n",
       "  <thead>\n",
       "    <tr style=\"text-align: right;\">\n",
       "      <th></th>\n",
       "      <th>X</th>\n",
       "      <th>Y</th>\n",
       "      <th>method</th>\n",
       "      <th>alternative</th>\n",
       "      <th>n</th>\n",
       "      <th>r</th>\n",
       "      <th>CI95%</th>\n",
       "      <th>p-unc</th>\n",
       "      <th>BF10</th>\n",
       "      <th>power</th>\n",
       "    </tr>\n",
       "  </thead>\n",
       "  <tbody>\n",
       "    <tr>\n",
       "      <th>0</th>\n",
       "      <td>total_breaks</td>\n",
       "      <td>total_submit</td>\n",
       "      <td>pearson</td>\n",
       "      <td>two-sided</td>\n",
       "      <td>47</td>\n",
       "      <td>0.81080</td>\n",
       "      <td>[0.68, 0.89]</td>\n",
       "      <td>0.00000</td>\n",
       "      <td>1.947e+09</td>\n",
       "      <td>1.00000</td>\n",
       "    </tr>\n",
       "    <tr>\n",
       "      <th>1</th>\n",
       "      <td>total_breaks</td>\n",
       "      <td>total_snapshot</td>\n",
       "      <td>pearson</td>\n",
       "      <td>two-sided</td>\n",
       "      <td>47</td>\n",
       "      <td>0.43005</td>\n",
       "      <td>[0.16, 0.64]</td>\n",
       "      <td>0.00255</td>\n",
       "      <td>15.021</td>\n",
       "      <td>0.86848</td>\n",
       "    </tr>\n",
       "    <tr>\n",
       "      <th>2</th>\n",
       "      <td>total_breaks</td>\n",
       "      <td>total_view</td>\n",
       "      <td>pearson</td>\n",
       "      <td>two-sided</td>\n",
       "      <td>47</td>\n",
       "      <td>0.32167</td>\n",
       "      <td>[0.04, 0.56]</td>\n",
       "      <td>0.02746</td>\n",
       "      <td>1.922</td>\n",
       "      <td>0.60744</td>\n",
       "    </tr>\n",
       "    <tr>\n",
       "      <th>3</th>\n",
       "      <td>total_breaks</td>\n",
       "      <td>total_manipulate</td>\n",
       "      <td>pearson</td>\n",
       "      <td>two-sided</td>\n",
       "      <td>47</td>\n",
       "      <td>0.75261</td>\n",
       "      <td>[0.59, 0.85]</td>\n",
       "      <td>0.00000</td>\n",
       "      <td>1.22e+07</td>\n",
       "      <td>1.00000</td>\n",
       "    </tr>\n",
       "    <tr>\n",
       "      <th>4</th>\n",
       "      <td>total_breaks</td>\n",
       "      <td>n_puzzle</td>\n",
       "      <td>pearson</td>\n",
       "      <td>two-sided</td>\n",
       "      <td>47</td>\n",
       "      <td>0.63588</td>\n",
       "      <td>[0.43, 0.78]</td>\n",
       "      <td>0.00000</td>\n",
       "      <td>1.3e+04</td>\n",
       "      <td>0.99892</td>\n",
       "    </tr>\n",
       "    <tr>\n",
       "      <th>...</th>\n",
       "      <td>...</td>\n",
       "      <td>...</td>\n",
       "      <td>...</td>\n",
       "      <td>...</td>\n",
       "      <td>...</td>\n",
       "      <td>...</td>\n",
       "      <td>...</td>\n",
       "      <td>...</td>\n",
       "      <td>...</td>\n",
       "      <td>...</td>\n",
       "    </tr>\n",
       "    <tr>\n",
       "      <th>625</th>\n",
       "      <td>sri</td>\n",
       "      <td>mr</td>\n",
       "      <td>pearson</td>\n",
       "      <td>two-sided</td>\n",
       "      <td>44</td>\n",
       "      <td>0.89109</td>\n",
       "      <td>[0.81, 0.94]</td>\n",
       "      <td>0.00000</td>\n",
       "      <td>1.082e+13</td>\n",
       "      <td>1.00000</td>\n",
       "    </tr>\n",
       "    <tr>\n",
       "      <th>626</th>\n",
       "      <td>sri</td>\n",
       "      <td>sv</td>\n",
       "      <td>pearson</td>\n",
       "      <td>two-sided</td>\n",
       "      <td>44</td>\n",
       "      <td>0.86592</td>\n",
       "      <td>[0.77, 0.93]</td>\n",
       "      <td>0.00000</td>\n",
       "      <td>2.203e+11</td>\n",
       "      <td>1.00000</td>\n",
       "    </tr>\n",
       "    <tr>\n",
       "      <th>627</th>\n",
       "      <td>so</td>\n",
       "      <td>mr</td>\n",
       "      <td>pearson</td>\n",
       "      <td>two-sided</td>\n",
       "      <td>44</td>\n",
       "      <td>0.61059</td>\n",
       "      <td>[0.38, 0.77]</td>\n",
       "      <td>0.00001</td>\n",
       "      <td>2199.77</td>\n",
       "      <td>0.99570</td>\n",
       "    </tr>\n",
       "    <tr>\n",
       "      <th>628</th>\n",
       "      <td>so</td>\n",
       "      <td>sv</td>\n",
       "      <td>pearson</td>\n",
       "      <td>two-sided</td>\n",
       "      <td>44</td>\n",
       "      <td>0.61764</td>\n",
       "      <td>[0.39, 0.77]</td>\n",
       "      <td>0.00001</td>\n",
       "      <td>2907.53</td>\n",
       "      <td>0.99654</td>\n",
       "    </tr>\n",
       "    <tr>\n",
       "      <th>629</th>\n",
       "      <td>mr</td>\n",
       "      <td>sv</td>\n",
       "      <td>pearson</td>\n",
       "      <td>two-sided</td>\n",
       "      <td>44</td>\n",
       "      <td>0.69591</td>\n",
       "      <td>[0.5, 0.82]</td>\n",
       "      <td>0.00000</td>\n",
       "      <td>1.115e+05</td>\n",
       "      <td>0.99984</td>\n",
       "    </tr>\n",
       "  </tbody>\n",
       "</table>\n",
       "<p>630 rows × 10 columns</p>\n",
       "</div>"
      ],
      "text/plain": [
       "                X                 Y   method alternative   n       r  \\\n",
       "0    total_breaks      total_submit  pearson   two-sided  47 0.81080   \n",
       "1    total_breaks    total_snapshot  pearson   two-sided  47 0.43005   \n",
       "2    total_breaks        total_view  pearson   two-sided  47 0.32167   \n",
       "3    total_breaks  total_manipulate  pearson   two-sided  47 0.75261   \n",
       "4    total_breaks          n_puzzle  pearson   two-sided  47 0.63588   \n",
       "..            ...               ...      ...         ...  ..     ...   \n",
       "625           sri                mr  pearson   two-sided  44 0.89109   \n",
       "626           sri                sv  pearson   two-sided  44 0.86592   \n",
       "627            so                mr  pearson   two-sided  44 0.61059   \n",
       "628            so                sv  pearson   two-sided  44 0.61764   \n",
       "629            mr                sv  pearson   two-sided  44 0.69591   \n",
       "\n",
       "            CI95%   p-unc       BF10   power  \n",
       "0    [0.68, 0.89] 0.00000  1.947e+09 1.00000  \n",
       "1    [0.16, 0.64] 0.00255     15.021 0.86848  \n",
       "2    [0.04, 0.56] 0.02746      1.922 0.60744  \n",
       "3    [0.59, 0.85] 0.00000   1.22e+07 1.00000  \n",
       "4    [0.43, 0.78] 0.00000    1.3e+04 0.99892  \n",
       "..            ...     ...        ...     ...  \n",
       "625  [0.81, 0.94] 0.00000  1.082e+13 1.00000  \n",
       "626  [0.77, 0.93] 0.00000  2.203e+11 1.00000  \n",
       "627  [0.38, 0.77] 0.00001    2199.77 0.99570  \n",
       "628  [0.39, 0.77] 0.00001    2907.53 0.99654  \n",
       "629   [0.5, 0.82] 0.00000  1.115e+05 0.99984  \n",
       "\n",
       "[630 rows x 10 columns]"
      ]
     },
     "metadata": {},
     "output_type": "display_data"
    }
   ],
   "source": [
    "pw = pairwise_corr(data[features + labels + corr_extras])\n",
    "pw.to_csv(\"output/corr.csv\", sep=\"\\t\")\n",
    "display(pw)"
   ]
  },
  {
   "cell_type": "markdown",
   "id": "f3e1e28d-bf02-43b1-b193-ce0439d272cc",
   "metadata": {},
   "source": [
    "## Cronbach's Alpha"
   ]
  },
  {
   "cell_type": "code",
   "execution_count": 10,
   "id": "5238e768-1563-4a0b-a50a-ef277f08c003",
   "metadata": {},
   "outputs": [
    {
     "name": "stdout",
     "output_type": "stream",
     "text": [
      "Cronbach's Alpha for SRI facets: 0.8359066056875625\n",
      "Cronbach's Alpha for SBST facets: 0.8990425510278549\n"
     ]
    }
   ],
   "source": [
    "alpha, _ = cronbach_alpha(data=data[[\"so\", \"mr\", \"sv\"]])\n",
    "print(f\"Cronbach's Alpha for SRI facets: {alpha}\")\n",
    "\n",
    "alpha, _ = cronbach_alpha(data=data[[f\"sbst{i}\" for i in range(1,31)]])\n",
    "print(f\"Cronbach's Alpha for SBST facets: {alpha}\")"
   ]
  },
  {
   "cell_type": "markdown",
   "id": "07db19f3-56be-4a72-a039-2428c5fc022b",
   "metadata": {},
   "source": [
    "## ANOVA"
   ]
  },
  {
   "cell_type": "code",
   "execution_count": 11,
   "id": "1a4077cf-b13c-4a94-96e9-a502c4239aee",
   "metadata": {},
   "outputs": [
    {
     "name": "stdout",
     "output_type": "stream",
     "text": [
      "ANOVA of sri between gender:\n"
     ]
    },
    {
     "data": {
      "text/html": [
       "<div>\n",
       "<style scoped>\n",
       "    .dataframe tbody tr th:only-of-type {\n",
       "        vertical-align: middle;\n",
       "    }\n",
       "\n",
       "    .dataframe tbody tr th {\n",
       "        vertical-align: top;\n",
       "    }\n",
       "\n",
       "    .dataframe thead th {\n",
       "        text-align: right;\n",
       "    }\n",
       "</style>\n",
       "<table border=\"1\" class=\"dataframe\">\n",
       "  <thead>\n",
       "    <tr style=\"text-align: right;\">\n",
       "      <th></th>\n",
       "      <th>Source</th>\n",
       "      <th>ddof1</th>\n",
       "      <th>ddof2</th>\n",
       "      <th>F</th>\n",
       "      <th>p-unc</th>\n",
       "      <th>np2</th>\n",
       "    </tr>\n",
       "  </thead>\n",
       "  <tbody>\n",
       "    <tr>\n",
       "      <th>0</th>\n",
       "      <td>gender</td>\n",
       "      <td>1</td>\n",
       "      <td>42</td>\n",
       "      <td>1.77761</td>\n",
       "      <td>0.18963</td>\n",
       "      <td>0.04061</td>\n",
       "    </tr>\n",
       "  </tbody>\n",
       "</table>\n",
       "</div>"
      ],
      "text/plain": [
       "   Source  ddof1  ddof2       F   p-unc     np2\n",
       "0  gender      1     42 1.77761 0.18963 0.04061"
      ]
     },
     "metadata": {},
     "output_type": "display_data"
    },
    {
     "name": "stdout",
     "output_type": "stream",
     "text": [
      "\n",
      "ANOVA of sbst between gender:\n"
     ]
    },
    {
     "data": {
      "text/html": [
       "<div>\n",
       "<style scoped>\n",
       "    .dataframe tbody tr th:only-of-type {\n",
       "        vertical-align: middle;\n",
       "    }\n",
       "\n",
       "    .dataframe tbody tr th {\n",
       "        vertical-align: top;\n",
       "    }\n",
       "\n",
       "    .dataframe thead th {\n",
       "        text-align: right;\n",
       "    }\n",
       "</style>\n",
       "<table border=\"1\" class=\"dataframe\">\n",
       "  <thead>\n",
       "    <tr style=\"text-align: right;\">\n",
       "      <th></th>\n",
       "      <th>Source</th>\n",
       "      <th>ddof1</th>\n",
       "      <th>ddof2</th>\n",
       "      <th>F</th>\n",
       "      <th>p-unc</th>\n",
       "      <th>np2</th>\n",
       "    </tr>\n",
       "  </thead>\n",
       "  <tbody>\n",
       "    <tr>\n",
       "      <th>0</th>\n",
       "      <td>gender</td>\n",
       "      <td>1</td>\n",
       "      <td>39</td>\n",
       "      <td>1.83402</td>\n",
       "      <td>0.18345</td>\n",
       "      <td>0.04491</td>\n",
       "    </tr>\n",
       "  </tbody>\n",
       "</table>\n",
       "</div>"
      ],
      "text/plain": [
       "   Source  ddof1  ddof2       F   p-unc     np2\n",
       "0  gender      1     39 1.83402 0.18345 0.04491"
      ]
     },
     "metadata": {},
     "output_type": "display_data"
    },
    {
     "name": "stdout",
     "output_type": "stream",
     "text": [
      "\n",
      "ANOVA of n_complete between gender:\n"
     ]
    },
    {
     "data": {
      "text/html": [
       "<div>\n",
       "<style scoped>\n",
       "    .dataframe tbody tr th:only-of-type {\n",
       "        vertical-align: middle;\n",
       "    }\n",
       "\n",
       "    .dataframe tbody tr th {\n",
       "        vertical-align: top;\n",
       "    }\n",
       "\n",
       "    .dataframe thead th {\n",
       "        text-align: right;\n",
       "    }\n",
       "</style>\n",
       "<table border=\"1\" class=\"dataframe\">\n",
       "  <thead>\n",
       "    <tr style=\"text-align: right;\">\n",
       "      <th></th>\n",
       "      <th>Source</th>\n",
       "      <th>ddof1</th>\n",
       "      <th>ddof2</th>\n",
       "      <th>F</th>\n",
       "      <th>p-unc</th>\n",
       "      <th>np2</th>\n",
       "    </tr>\n",
       "  </thead>\n",
       "  <tbody>\n",
       "    <tr>\n",
       "      <th>0</th>\n",
       "      <td>gender</td>\n",
       "      <td>1</td>\n",
       "      <td>42</td>\n",
       "      <td>0.61479</td>\n",
       "      <td>0.43739</td>\n",
       "      <td>0.01443</td>\n",
       "    </tr>\n",
       "  </tbody>\n",
       "</table>\n",
       "</div>"
      ],
      "text/plain": [
       "   Source  ddof1  ddof2       F   p-unc     np2\n",
       "0  gender      1     42 0.61479 0.43739 0.01443"
      ]
     },
     "metadata": {},
     "output_type": "display_data"
    },
    {
     "name": "stdout",
     "output_type": "stream",
     "text": [
      "\n",
      "ANOVA of sri between handedness:\n"
     ]
    },
    {
     "data": {
      "text/html": [
       "<div>\n",
       "<style scoped>\n",
       "    .dataframe tbody tr th:only-of-type {\n",
       "        vertical-align: middle;\n",
       "    }\n",
       "\n",
       "    .dataframe tbody tr th {\n",
       "        vertical-align: top;\n",
       "    }\n",
       "\n",
       "    .dataframe thead th {\n",
       "        text-align: right;\n",
       "    }\n",
       "</style>\n",
       "<table border=\"1\" class=\"dataframe\">\n",
       "  <thead>\n",
       "    <tr style=\"text-align: right;\">\n",
       "      <th></th>\n",
       "      <th>Source</th>\n",
       "      <th>ddof1</th>\n",
       "      <th>ddof2</th>\n",
       "      <th>F</th>\n",
       "      <th>p-unc</th>\n",
       "      <th>np2</th>\n",
       "    </tr>\n",
       "  </thead>\n",
       "  <tbody>\n",
       "    <tr>\n",
       "      <th>0</th>\n",
       "      <td>hand_number</td>\n",
       "      <td>1</td>\n",
       "      <td>42</td>\n",
       "      <td>0.53698</td>\n",
       "      <td>0.46776</td>\n",
       "      <td>0.01262</td>\n",
       "    </tr>\n",
       "  </tbody>\n",
       "</table>\n",
       "</div>"
      ],
      "text/plain": [
       "        Source  ddof1  ddof2       F   p-unc     np2\n",
       "0  hand_number      1     42 0.53698 0.46776 0.01262"
      ]
     },
     "metadata": {},
     "output_type": "display_data"
    },
    {
     "name": "stdout",
     "output_type": "stream",
     "text": [
      "\n",
      "ANOVA of sbst between handedness:\n"
     ]
    },
    {
     "data": {
      "text/html": [
       "<div>\n",
       "<style scoped>\n",
       "    .dataframe tbody tr th:only-of-type {\n",
       "        vertical-align: middle;\n",
       "    }\n",
       "\n",
       "    .dataframe tbody tr th {\n",
       "        vertical-align: top;\n",
       "    }\n",
       "\n",
       "    .dataframe thead th {\n",
       "        text-align: right;\n",
       "    }\n",
       "</style>\n",
       "<table border=\"1\" class=\"dataframe\">\n",
       "  <thead>\n",
       "    <tr style=\"text-align: right;\">\n",
       "      <th></th>\n",
       "      <th>Source</th>\n",
       "      <th>ddof1</th>\n",
       "      <th>ddof2</th>\n",
       "      <th>F</th>\n",
       "      <th>p-unc</th>\n",
       "      <th>np2</th>\n",
       "    </tr>\n",
       "  </thead>\n",
       "  <tbody>\n",
       "    <tr>\n",
       "      <th>0</th>\n",
       "      <td>hand_number</td>\n",
       "      <td>1</td>\n",
       "      <td>39</td>\n",
       "      <td>0.18447</td>\n",
       "      <td>0.66992</td>\n",
       "      <td>0.00471</td>\n",
       "    </tr>\n",
       "  </tbody>\n",
       "</table>\n",
       "</div>"
      ],
      "text/plain": [
       "        Source  ddof1  ddof2       F   p-unc     np2\n",
       "0  hand_number      1     39 0.18447 0.66992 0.00471"
      ]
     },
     "metadata": {},
     "output_type": "display_data"
    },
    {
     "name": "stdout",
     "output_type": "stream",
     "text": [
      "\n",
      "ANOVA of n_complete between handedness:\n"
     ]
    },
    {
     "data": {
      "text/html": [
       "<div>\n",
       "<style scoped>\n",
       "    .dataframe tbody tr th:only-of-type {\n",
       "        vertical-align: middle;\n",
       "    }\n",
       "\n",
       "    .dataframe tbody tr th {\n",
       "        vertical-align: top;\n",
       "    }\n",
       "\n",
       "    .dataframe thead th {\n",
       "        text-align: right;\n",
       "    }\n",
       "</style>\n",
       "<table border=\"1\" class=\"dataframe\">\n",
       "  <thead>\n",
       "    <tr style=\"text-align: right;\">\n",
       "      <th></th>\n",
       "      <th>Source</th>\n",
       "      <th>ddof1</th>\n",
       "      <th>ddof2</th>\n",
       "      <th>F</th>\n",
       "      <th>p-unc</th>\n",
       "      <th>np2</th>\n",
       "    </tr>\n",
       "  </thead>\n",
       "  <tbody>\n",
       "    <tr>\n",
       "      <th>0</th>\n",
       "      <td>hand_number</td>\n",
       "      <td>1</td>\n",
       "      <td>42</td>\n",
       "      <td>1.30183</td>\n",
       "      <td>0.26034</td>\n",
       "      <td>0.03006</td>\n",
       "    </tr>\n",
       "  </tbody>\n",
       "</table>\n",
       "</div>"
      ],
      "text/plain": [
       "        Source  ddof1  ddof2       F   p-unc     np2\n",
       "0  hand_number      1     42 1.30183 0.26034 0.03006"
      ]
     },
     "metadata": {},
     "output_type": "display_data"
    },
    {
     "name": "stdout",
     "output_type": "stream",
     "text": [
      "\n",
      "ANOVA of sri between gamerness:\n"
     ]
    },
    {
     "data": {
      "text/html": [
       "<div>\n",
       "<style scoped>\n",
       "    .dataframe tbody tr th:only-of-type {\n",
       "        vertical-align: middle;\n",
       "    }\n",
       "\n",
       "    .dataframe tbody tr th {\n",
       "        vertical-align: top;\n",
       "    }\n",
       "\n",
       "    .dataframe thead th {\n",
       "        text-align: right;\n",
       "    }\n",
       "</style>\n",
       "<table border=\"1\" class=\"dataframe\">\n",
       "  <thead>\n",
       "    <tr style=\"text-align: right;\">\n",
       "      <th></th>\n",
       "      <th>Source</th>\n",
       "      <th>ddof1</th>\n",
       "      <th>ddof2</th>\n",
       "      <th>F</th>\n",
       "      <th>p-unc</th>\n",
       "      <th>np2</th>\n",
       "    </tr>\n",
       "  </thead>\n",
       "  <tbody>\n",
       "    <tr>\n",
       "      <th>0</th>\n",
       "      <td>gamer_number</td>\n",
       "      <td>1</td>\n",
       "      <td>26</td>\n",
       "      <td>0.15639</td>\n",
       "      <td>0.69573</td>\n",
       "      <td>0.00598</td>\n",
       "    </tr>\n",
       "  </tbody>\n",
       "</table>\n",
       "</div>"
      ],
      "text/plain": [
       "         Source  ddof1  ddof2       F   p-unc     np2\n",
       "0  gamer_number      1     26 0.15639 0.69573 0.00598"
      ]
     },
     "metadata": {},
     "output_type": "display_data"
    },
    {
     "name": "stdout",
     "output_type": "stream",
     "text": [
      "\n",
      "ANOVA of sbst between gamerness:\n"
     ]
    },
    {
     "data": {
      "text/html": [
       "<div>\n",
       "<style scoped>\n",
       "    .dataframe tbody tr th:only-of-type {\n",
       "        vertical-align: middle;\n",
       "    }\n",
       "\n",
       "    .dataframe tbody tr th {\n",
       "        vertical-align: top;\n",
       "    }\n",
       "\n",
       "    .dataframe thead th {\n",
       "        text-align: right;\n",
       "    }\n",
       "</style>\n",
       "<table border=\"1\" class=\"dataframe\">\n",
       "  <thead>\n",
       "    <tr style=\"text-align: right;\">\n",
       "      <th></th>\n",
       "      <th>Source</th>\n",
       "      <th>ddof1</th>\n",
       "      <th>ddof2</th>\n",
       "      <th>F</th>\n",
       "      <th>p-unc</th>\n",
       "      <th>np2</th>\n",
       "    </tr>\n",
       "  </thead>\n",
       "  <tbody>\n",
       "    <tr>\n",
       "      <th>0</th>\n",
       "      <td>gamer_number</td>\n",
       "      <td>1</td>\n",
       "      <td>27</td>\n",
       "      <td>0.30389</td>\n",
       "      <td>0.58599</td>\n",
       "      <td>0.01113</td>\n",
       "    </tr>\n",
       "  </tbody>\n",
       "</table>\n",
       "</div>"
      ],
      "text/plain": [
       "         Source  ddof1  ddof2       F   p-unc     np2\n",
       "0  gamer_number      1     27 0.30389 0.58599 0.01113"
      ]
     },
     "metadata": {},
     "output_type": "display_data"
    },
    {
     "name": "stdout",
     "output_type": "stream",
     "text": [
      "\n",
      "ANOVA of n_complete between gamerness:\n"
     ]
    },
    {
     "data": {
      "text/html": [
       "<div>\n",
       "<style scoped>\n",
       "    .dataframe tbody tr th:only-of-type {\n",
       "        vertical-align: middle;\n",
       "    }\n",
       "\n",
       "    .dataframe tbody tr th {\n",
       "        vertical-align: top;\n",
       "    }\n",
       "\n",
       "    .dataframe thead th {\n",
       "        text-align: right;\n",
       "    }\n",
       "</style>\n",
       "<table border=\"1\" class=\"dataframe\">\n",
       "  <thead>\n",
       "    <tr style=\"text-align: right;\">\n",
       "      <th></th>\n",
       "      <th>Source</th>\n",
       "      <th>ddof1</th>\n",
       "      <th>ddof2</th>\n",
       "      <th>F</th>\n",
       "      <th>p-unc</th>\n",
       "      <th>np2</th>\n",
       "    </tr>\n",
       "  </thead>\n",
       "  <tbody>\n",
       "    <tr>\n",
       "      <th>0</th>\n",
       "      <td>gamer_number</td>\n",
       "      <td>1</td>\n",
       "      <td>27</td>\n",
       "      <td>1.67202</td>\n",
       "      <td>0.20694</td>\n",
       "      <td>0.05832</td>\n",
       "    </tr>\n",
       "  </tbody>\n",
       "</table>\n",
       "</div>"
      ],
      "text/plain": [
       "         Source  ddof1  ddof2       F   p-unc     np2\n",
       "0  gamer_number      1     27 1.67202 0.20694 0.05832"
      ]
     },
     "metadata": {},
     "output_type": "display_data"
    },
    {
     "name": "stdout",
     "output_type": "stream",
     "text": [
      "\n"
     ]
    }
   ],
   "source": [
    "# SRI and gender\n",
    "aov = anova(data=data, dv=\"sri\", between=\"gender\")\n",
    "print(\"ANOVA of sri between gender:\")\n",
    "display(aov)\n",
    "print()\n",
    "\n",
    "# SBST and gender\n",
    "aov = anova(data=data, dv=\"sbst\", between=\"gender\")\n",
    "print(\"ANOVA of sbst between gender:\")\n",
    "display(aov)\n",
    "print()\n",
    "\n",
    "# n_complete and gender\n",
    "aov = anova(data=data, dv=\"n_complete\", between=\"gender\")\n",
    "print(\"ANOVA of n_complete between gender:\")\n",
    "display(aov)\n",
    "print()\n",
    "\n",
    "\n",
    "# SRI and hand\n",
    "aov = anova(data=data, dv=\"sri\", between=\"hand_number\")\n",
    "print(\"ANOVA of sri between handedness:\")\n",
    "display(aov)\n",
    "print()\n",
    "\n",
    "# SBST and hand\n",
    "aov = anova(data=data, dv=\"sbst\", between=\"hand_number\")\n",
    "print(\"ANOVA of sbst between handedness:\")\n",
    "display(aov)\n",
    "print()\n",
    "\n",
    "# n_complete and hand\n",
    "aov = anova(data=data, dv=\"n_complete\", between=\"hand_number\")\n",
    "print(\"ANOVA of n_complete between handedness:\")\n",
    "display(aov)\n",
    "print()\n",
    "\n",
    "\n",
    "# SRI and gamer\n",
    "aov = anova(data=data, dv=\"sri\", between=\"gamer_number\")\n",
    "print(\"ANOVA of sri between gamerness:\")\n",
    "display(aov)\n",
    "print()\n",
    "\n",
    "# SBST and gamer\n",
    "aov = anova(data=data, dv=\"sbst\", between=\"gamer_number\")\n",
    "print(\"ANOVA of sbst between gamerness:\")\n",
    "display(aov)\n",
    "print()\n",
    "\n",
    "# n_complete and gamer\n",
    "aov = anova(data=data, dv=\"n_complete\", between=\"gamer_number\")\n",
    "print(\"ANOVA of n_complete between gamerness:\")\n",
    "display(aov)\n",
    "print()"
   ]
  },
  {
   "cell_type": "markdown",
   "id": "61d8d3d7-3e2b-4416-9782-4caa01377b3f",
   "metadata": {},
   "source": [
    "## Linear Regression"
   ]
  },
  {
   "cell_type": "code",
   "execution_count": 12,
   "id": "0073e30f-cd1c-4dea-86df-15304b5d289e",
   "metadata": {},
   "outputs": [
    {
     "data": {
      "text/html": [
       "<div>\n",
       "<style scoped>\n",
       "    .dataframe tbody tr th:only-of-type {\n",
       "        vertical-align: middle;\n",
       "    }\n",
       "\n",
       "    .dataframe tbody tr th {\n",
       "        vertical-align: top;\n",
       "    }\n",
       "\n",
       "    .dataframe thead th {\n",
       "        text-align: right;\n",
       "    }\n",
       "</style>\n",
       "<table border=\"1\" class=\"dataframe\">\n",
       "  <thead>\n",
       "    <tr style=\"text-align: right;\">\n",
       "      <th></th>\n",
       "      <th>names</th>\n",
       "      <th>coef</th>\n",
       "      <th>se</th>\n",
       "      <th>T</th>\n",
       "      <th>pval</th>\n",
       "      <th>r2</th>\n",
       "      <th>adj_r2</th>\n",
       "      <th>CI[2.5%]</th>\n",
       "      <th>CI[97.5%]</th>\n",
       "    </tr>\n",
       "  </thead>\n",
       "  <tbody>\n",
       "    <tr>\n",
       "      <th>0</th>\n",
       "      <td>Intercept</td>\n",
       "      <td>47161036.26002</td>\n",
       "      <td>21.45260</td>\n",
       "      <td>2198383.68002</td>\n",
       "      <td>0.00000</td>\n",
       "      <td>0.91540</td>\n",
       "      <td>0.40779</td>\n",
       "      <td>47160981.11436</td>\n",
       "      <td>47161091.40567</td>\n",
       "    </tr>\n",
       "    <tr>\n",
       "      <th>1</th>\n",
       "      <td>total_breaks</td>\n",
       "      <td>0.67712</td>\n",
       "      <td>0.36043</td>\n",
       "      <td>1.87863</td>\n",
       "      <td>0.11909</td>\n",
       "      <td>0.91540</td>\n",
       "      <td>0.40779</td>\n",
       "      <td>-0.24940</td>\n",
       "      <td>1.60365</td>\n",
       "    </tr>\n",
       "    <tr>\n",
       "      <th>2</th>\n",
       "      <td>total_submit</td>\n",
       "      <td>-0.22965</td>\n",
       "      <td>0.11466</td>\n",
       "      <td>-2.00282</td>\n",
       "      <td>0.10157</td>\n",
       "      <td>0.91540</td>\n",
       "      <td>0.40779</td>\n",
       "      <td>-0.52439</td>\n",
       "      <td>0.06510</td>\n",
       "    </tr>\n",
       "    <tr>\n",
       "      <th>3</th>\n",
       "      <td>total_snapshot</td>\n",
       "      <td>-0.06178</td>\n",
       "      <td>0.03947</td>\n",
       "      <td>-1.56527</td>\n",
       "      <td>0.17829</td>\n",
       "      <td>0.91540</td>\n",
       "      <td>0.40779</td>\n",
       "      <td>-0.16324</td>\n",
       "      <td>0.03968</td>\n",
       "    </tr>\n",
       "    <tr>\n",
       "      <th>4</th>\n",
       "      <td>total_view</td>\n",
       "      <td>0.05495</td>\n",
       "      <td>0.03383</td>\n",
       "      <td>1.62425</td>\n",
       "      <td>0.16525</td>\n",
       "      <td>0.91540</td>\n",
       "      <td>0.40779</td>\n",
       "      <td>-0.03202</td>\n",
       "      <td>0.14193</td>\n",
       "    </tr>\n",
       "    <tr>\n",
       "      <th>5</th>\n",
       "      <td>total_manipulate</td>\n",
       "      <td>0.02605</td>\n",
       "      <td>0.01474</td>\n",
       "      <td>1.76787</td>\n",
       "      <td>0.13732</td>\n",
       "      <td>0.91540</td>\n",
       "      <td>0.40779</td>\n",
       "      <td>-0.01183</td>\n",
       "      <td>0.06393</td>\n",
       "    </tr>\n",
       "    <tr>\n",
       "      <th>6</th>\n",
       "      <td>n_puzzle</td>\n",
       "      <td>-9.94878</td>\n",
       "      <td>4.22897</td>\n",
       "      <td>-2.35253</td>\n",
       "      <td>0.06535</td>\n",
       "      <td>0.91540</td>\n",
       "      <td>0.40779</td>\n",
       "      <td>-20.81970</td>\n",
       "      <td>0.92213</td>\n",
       "    </tr>\n",
       "    <tr>\n",
       "      <th>7</th>\n",
       "      <td>p_puz_no_basic</td>\n",
       "      <td>53.18118</td>\n",
       "      <td>73.52956</td>\n",
       "      <td>0.72326</td>\n",
       "      <td>0.50193</td>\n",
       "      <td>0.91540</td>\n",
       "      <td>0.40779</td>\n",
       "      <td>-135.83258</td>\n",
       "      <td>242.19494</td>\n",
       "    </tr>\n",
       "    <tr>\n",
       "      <th>8</th>\n",
       "      <td>n_complete</td>\n",
       "      <td>6.34675</td>\n",
       "      <td>5.57749</td>\n",
       "      <td>1.13792</td>\n",
       "      <td>0.30672</td>\n",
       "      <td>0.91540</td>\n",
       "      <td>0.40779</td>\n",
       "      <td>-7.99065</td>\n",
       "      <td>20.68416</td>\n",
       "    </tr>\n",
       "    <tr>\n",
       "      <th>9</th>\n",
       "      <td>n_tutorial</td>\n",
       "      <td>-9.99797</td>\n",
       "      <td>9.38271</td>\n",
       "      <td>-1.06557</td>\n",
       "      <td>0.33534</td>\n",
       "      <td>0.91540</td>\n",
       "      <td>0.40779</td>\n",
       "      <td>-34.11700</td>\n",
       "      <td>14.12105</td>\n",
       "    </tr>\n",
       "    <tr>\n",
       "      <th>10</th>\n",
       "      <td>complete_active</td>\n",
       "      <td>-0.00820</td>\n",
       "      <td>0.00459</td>\n",
       "      <td>-1.78890</td>\n",
       "      <td>0.13365</td>\n",
       "      <td>0.91540</td>\n",
       "      <td>0.40779</td>\n",
       "      <td>-0.01999</td>\n",
       "      <td>0.00358</td>\n",
       "    </tr>\n",
       "    <tr>\n",
       "      <th>11</th>\n",
       "      <td>incomplete_active</td>\n",
       "      <td>-0.00418</td>\n",
       "      <td>0.00410</td>\n",
       "      <td>-1.01901</td>\n",
       "      <td>0.35495</td>\n",
       "      <td>0.91540</td>\n",
       "      <td>0.40779</td>\n",
       "      <td>-0.01471</td>\n",
       "      <td>0.00636</td>\n",
       "    </tr>\n",
       "    <tr>\n",
       "      <th>12</th>\n",
       "      <td>tutorial_atime_comp</td>\n",
       "      <td>0.00159</td>\n",
       "      <td>0.00505</td>\n",
       "      <td>0.31445</td>\n",
       "      <td>0.76588</td>\n",
       "      <td>0.91540</td>\n",
       "      <td>0.40779</td>\n",
       "      <td>-0.01139</td>\n",
       "      <td>0.01456</td>\n",
       "    </tr>\n",
       "    <tr>\n",
       "      <th>13</th>\n",
       "      <td>cumu_a_time</td>\n",
       "      <td>0.47029</td>\n",
       "      <td>0.72571</td>\n",
       "      <td>0.64804</td>\n",
       "      <td>0.54554</td>\n",
       "      <td>0.91540</td>\n",
       "      <td>0.40779</td>\n",
       "      <td>-1.39520</td>\n",
       "      <td>2.33578</td>\n",
       "    </tr>\n",
       "    <tr>\n",
       "      <th>14</th>\n",
       "      <td>persistence_score</td>\n",
       "      <td>-0.56515</td>\n",
       "      <td>0.72327</td>\n",
       "      <td>-0.78138</td>\n",
       "      <td>0.46994</td>\n",
       "      <td>0.91540</td>\n",
       "      <td>0.40779</td>\n",
       "      <td>-2.42436</td>\n",
       "      <td>1.29407</td>\n",
       "    </tr>\n",
       "    <tr>\n",
       "      <th>15</th>\n",
       "      <td>non_per</td>\n",
       "      <td>-47160962.45444</td>\n",
       "      <td>30.14066</td>\n",
       "      <td>-1564695.50236</td>\n",
       "      <td>0.00000</td>\n",
       "      <td>0.91540</td>\n",
       "      <td>0.40779</td>\n",
       "      <td>-47161039.93349</td>\n",
       "      <td>-47160884.97540</td>\n",
       "    </tr>\n",
       "    <tr>\n",
       "      <th>16</th>\n",
       "      <td>productive</td>\n",
       "      <td>-47161005.58137</td>\n",
       "      <td>25.67650</td>\n",
       "      <td>-1836738.09325</td>\n",
       "      <td>0.00000</td>\n",
       "      <td>0.91540</td>\n",
       "      <td>0.40779</td>\n",
       "      <td>-47161071.58491</td>\n",
       "      <td>-47160939.57782</td>\n",
       "    </tr>\n",
       "    <tr>\n",
       "      <th>17</th>\n",
       "      <td>unproductive</td>\n",
       "      <td>-47161061.51362</td>\n",
       "      <td>33.29972</td>\n",
       "      <td>-1416260.04964</td>\n",
       "      <td>0.00000</td>\n",
       "      <td>0.91540</td>\n",
       "      <td>0.40779</td>\n",
       "      <td>-47161147.11327</td>\n",
       "      <td>-47160975.91396</td>\n",
       "    </tr>\n",
       "    <tr>\n",
       "      <th>18</th>\n",
       "      <td>rapid</td>\n",
       "      <td>-47161075.88171</td>\n",
       "      <td>34.54365</td>\n",
       "      <td>-1365260.33886</td>\n",
       "      <td>0.00000</td>\n",
       "      <td>0.91540</td>\n",
       "      <td>0.40779</td>\n",
       "      <td>-47161164.67899</td>\n",
       "      <td>-47160987.08443</td>\n",
       "    </tr>\n",
       "    <tr>\n",
       "      <th>19</th>\n",
       "      <td>no_beh</td>\n",
       "      <td>-47160980.29216</td>\n",
       "      <td>23.54801</td>\n",
       "      <td>-2002758.83138</td>\n",
       "      <td>0.00000</td>\n",
       "      <td>0.91540</td>\n",
       "      <td>0.40779</td>\n",
       "      <td>-47161040.82424</td>\n",
       "      <td>-47160919.76008</td>\n",
       "    </tr>\n",
       "    <tr>\n",
       "      <th>20</th>\n",
       "      <td>avg_revisit</td>\n",
       "      <td>-21.39953</td>\n",
       "      <td>20.49128</td>\n",
       "      <td>-1.04432</td>\n",
       "      <td>0.34417</td>\n",
       "      <td>0.91540</td>\n",
       "      <td>0.40779</td>\n",
       "      <td>-74.07405</td>\n",
       "      <td>31.27499</td>\n",
       "    </tr>\n",
       "    <tr>\n",
       "      <th>21</th>\n",
       "      <td>n_attempt</td>\n",
       "      <td>8.88089</td>\n",
       "      <td>5.17244</td>\n",
       "      <td>1.71696</td>\n",
       "      <td>0.14663</td>\n",
       "      <td>0.91540</td>\n",
       "      <td>0.40779</td>\n",
       "      <td>-4.41529</td>\n",
       "      <td>22.17707</td>\n",
       "    </tr>\n",
       "    <tr>\n",
       "      <th>22</th>\n",
       "      <td>n_failed_att</td>\n",
       "      <td>-2.52269</td>\n",
       "      <td>2.78659</td>\n",
       "      <td>-0.90530</td>\n",
       "      <td>0.40681</td>\n",
       "      <td>0.91540</td>\n",
       "      <td>0.40779</td>\n",
       "      <td>-9.68585</td>\n",
       "      <td>4.64046</td>\n",
       "    </tr>\n",
       "    <tr>\n",
       "      <th>23</th>\n",
       "      <td>revisits</td>\n",
       "      <td>-6.76388</td>\n",
       "      <td>3.29300</td>\n",
       "      <td>-2.05401</td>\n",
       "      <td>0.09516</td>\n",
       "      <td>0.91540</td>\n",
       "      <td>0.40779</td>\n",
       "      <td>-15.22881</td>\n",
       "      <td>1.70106</td>\n",
       "    </tr>\n",
       "    <tr>\n",
       "      <th>24</th>\n",
       "      <td>diff_event1</td>\n",
       "      <td>0.35106</td>\n",
       "      <td>0.30243</td>\n",
       "      <td>1.16080</td>\n",
       "      <td>0.29813</td>\n",
       "      <td>0.91540</td>\n",
       "      <td>0.40779</td>\n",
       "      <td>-0.42636</td>\n",
       "      <td>1.12847</td>\n",
       "    </tr>\n",
       "    <tr>\n",
       "      <th>25</th>\n",
       "      <td>different_event</td>\n",
       "      <td>-0.17071</td>\n",
       "      <td>0.23139</td>\n",
       "      <td>-0.73778</td>\n",
       "      <td>0.49380</td>\n",
       "      <td>0.91540</td>\n",
       "      <td>0.40779</td>\n",
       "      <td>-0.76551</td>\n",
       "      <td>0.42408</td>\n",
       "    </tr>\n",
       "    <tr>\n",
       "      <th>26</th>\n",
       "      <td>enjoyment</td>\n",
       "      <td>0.90967</td>\n",
       "      <td>0.72980</td>\n",
       "      <td>1.24647</td>\n",
       "      <td>0.26780</td>\n",
       "      <td>0.91540</td>\n",
       "      <td>0.40779</td>\n",
       "      <td>-0.96633</td>\n",
       "      <td>2.78568</td>\n",
       "    </tr>\n",
       "    <tr>\n",
       "      <th>27</th>\n",
       "      <td>comp_average</td>\n",
       "      <td>-33.01002</td>\n",
       "      <td>31.73436</td>\n",
       "      <td>-1.04020</td>\n",
       "      <td>0.34591</td>\n",
       "      <td>0.91540</td>\n",
       "      <td>0.40779</td>\n",
       "      <td>-114.58578</td>\n",
       "      <td>48.56574</td>\n",
       "    </tr>\n",
       "    <tr>\n",
       "      <th>28</th>\n",
       "      <td>comp_mg1</td>\n",
       "      <td>-55.46667</td>\n",
       "      <td>25.83099</td>\n",
       "      <td>-2.14729</td>\n",
       "      <td>0.08453</td>\n",
       "      <td>0.91540</td>\n",
       "      <td>0.40779</td>\n",
       "      <td>-121.86734</td>\n",
       "      <td>10.93401</td>\n",
       "    </tr>\n",
       "    <tr>\n",
       "      <th>29</th>\n",
       "      <td>comp_gmd4</td>\n",
       "      <td>-819.07906</td>\n",
       "      <td>428.19633</td>\n",
       "      <td>-1.91286</td>\n",
       "      <td>0.11397</td>\n",
       "      <td>0.91540</td>\n",
       "      <td>0.40779</td>\n",
       "      <td>-1919.79276</td>\n",
       "      <td>281.63464</td>\n",
       "    </tr>\n",
       "    <tr>\n",
       "      <th>30</th>\n",
       "      <td>comp_co5</td>\n",
       "      <td>854.67633</td>\n",
       "      <td>417.63712</td>\n",
       "      <td>2.04646</td>\n",
       "      <td>0.09608</td>\n",
       "      <td>0.91540</td>\n",
       "      <td>0.40779</td>\n",
       "      <td>-218.89406</td>\n",
       "      <td>1928.24672</td>\n",
       "    </tr>\n",
       "    <tr>\n",
       "      <th>31</th>\n",
       "      <td>comp_co6</td>\n",
       "      <td>-13.14063</td>\n",
       "      <td>158.77094</td>\n",
       "      <td>-0.08276</td>\n",
       "      <td>0.93725</td>\n",
       "      <td>0.91540</td>\n",
       "      <td>0.40779</td>\n",
       "      <td>-421.27431</td>\n",
       "      <td>394.99306</td>\n",
       "    </tr>\n",
       "  </tbody>\n",
       "</table>\n",
       "</div>"
      ],
      "text/plain": [
       "                  names            coef        se              T    pval  \\\n",
       "0             Intercept  47161036.26002  21.45260  2198383.68002 0.00000   \n",
       "1          total_breaks         0.67712   0.36043        1.87863 0.11909   \n",
       "2          total_submit        -0.22965   0.11466       -2.00282 0.10157   \n",
       "3        total_snapshot        -0.06178   0.03947       -1.56527 0.17829   \n",
       "4            total_view         0.05495   0.03383        1.62425 0.16525   \n",
       "5      total_manipulate         0.02605   0.01474        1.76787 0.13732   \n",
       "6              n_puzzle        -9.94878   4.22897       -2.35253 0.06535   \n",
       "7        p_puz_no_basic        53.18118  73.52956        0.72326 0.50193   \n",
       "8            n_complete         6.34675   5.57749        1.13792 0.30672   \n",
       "9            n_tutorial        -9.99797   9.38271       -1.06557 0.33534   \n",
       "10      complete_active        -0.00820   0.00459       -1.78890 0.13365   \n",
       "11    incomplete_active        -0.00418   0.00410       -1.01901 0.35495   \n",
       "12  tutorial_atime_comp         0.00159   0.00505        0.31445 0.76588   \n",
       "13          cumu_a_time         0.47029   0.72571        0.64804 0.54554   \n",
       "14    persistence_score        -0.56515   0.72327       -0.78138 0.46994   \n",
       "15              non_per -47160962.45444  30.14066 -1564695.50236 0.00000   \n",
       "16           productive -47161005.58137  25.67650 -1836738.09325 0.00000   \n",
       "17         unproductive -47161061.51362  33.29972 -1416260.04964 0.00000   \n",
       "18                rapid -47161075.88171  34.54365 -1365260.33886 0.00000   \n",
       "19               no_beh -47160980.29216  23.54801 -2002758.83138 0.00000   \n",
       "20          avg_revisit       -21.39953  20.49128       -1.04432 0.34417   \n",
       "21            n_attempt         8.88089   5.17244        1.71696 0.14663   \n",
       "22         n_failed_att        -2.52269   2.78659       -0.90530 0.40681   \n",
       "23             revisits        -6.76388   3.29300       -2.05401 0.09516   \n",
       "24          diff_event1         0.35106   0.30243        1.16080 0.29813   \n",
       "25      different_event        -0.17071   0.23139       -0.73778 0.49380   \n",
       "26            enjoyment         0.90967   0.72980        1.24647 0.26780   \n",
       "27         comp_average       -33.01002  31.73436       -1.04020 0.34591   \n",
       "28             comp_mg1       -55.46667  25.83099       -2.14729 0.08453   \n",
       "29            comp_gmd4      -819.07906 428.19633       -1.91286 0.11397   \n",
       "30             comp_co5       854.67633 417.63712        2.04646 0.09608   \n",
       "31             comp_co6       -13.14063 158.77094       -0.08276 0.93725   \n",
       "\n",
       "        r2  adj_r2        CI[2.5%]       CI[97.5%]  \n",
       "0  0.91540 0.40779  47160981.11436  47161091.40567  \n",
       "1  0.91540 0.40779        -0.24940         1.60365  \n",
       "2  0.91540 0.40779        -0.52439         0.06510  \n",
       "3  0.91540 0.40779        -0.16324         0.03968  \n",
       "4  0.91540 0.40779        -0.03202         0.14193  \n",
       "5  0.91540 0.40779        -0.01183         0.06393  \n",
       "6  0.91540 0.40779       -20.81970         0.92213  \n",
       "7  0.91540 0.40779      -135.83258       242.19494  \n",
       "8  0.91540 0.40779        -7.99065        20.68416  \n",
       "9  0.91540 0.40779       -34.11700        14.12105  \n",
       "10 0.91540 0.40779        -0.01999         0.00358  \n",
       "11 0.91540 0.40779        -0.01471         0.00636  \n",
       "12 0.91540 0.40779        -0.01139         0.01456  \n",
       "13 0.91540 0.40779        -1.39520         2.33578  \n",
       "14 0.91540 0.40779        -2.42436         1.29407  \n",
       "15 0.91540 0.40779 -47161039.93349 -47160884.97540  \n",
       "16 0.91540 0.40779 -47161071.58491 -47160939.57782  \n",
       "17 0.91540 0.40779 -47161147.11327 -47160975.91396  \n",
       "18 0.91540 0.40779 -47161164.67899 -47160987.08443  \n",
       "19 0.91540 0.40779 -47161040.82424 -47160919.76008  \n",
       "20 0.91540 0.40779       -74.07405        31.27499  \n",
       "21 0.91540 0.40779        -4.41529        22.17707  \n",
       "22 0.91540 0.40779        -9.68585         4.64046  \n",
       "23 0.91540 0.40779       -15.22881         1.70106  \n",
       "24 0.91540 0.40779        -0.42636         1.12847  \n",
       "25 0.91540 0.40779        -0.76551         0.42408  \n",
       "26 0.91540 0.40779        -0.96633         2.78568  \n",
       "27 0.91540 0.40779      -114.58578        48.56574  \n",
       "28 0.91540 0.40779      -121.86734        10.93401  \n",
       "29 0.91540 0.40779     -1919.79276       281.63464  \n",
       "30 0.91540 0.40779      -218.89406      1928.24672  \n",
       "31 0.91540 0.40779      -421.27431       394.99306  "
      ]
     },
     "execution_count": 12,
     "metadata": {},
     "output_type": "execute_result"
    }
   ],
   "source": [
    "linear_regression(data[features], data[\"sri\"], remove_na=True, as_dataframe=True)"
   ]
  },
  {
   "cell_type": "code",
   "execution_count": 13,
   "id": "e3f6cbac-aa1b-4805-ad9a-194f629f6cde",
   "metadata": {},
   "outputs": [
    {
     "data": {
      "text/html": [
       "<div>\n",
       "<style scoped>\n",
       "    .dataframe tbody tr th:only-of-type {\n",
       "        vertical-align: middle;\n",
       "    }\n",
       "\n",
       "    .dataframe tbody tr th {\n",
       "        vertical-align: top;\n",
       "    }\n",
       "\n",
       "    .dataframe thead th {\n",
       "        text-align: right;\n",
       "    }\n",
       "</style>\n",
       "<table border=\"1\" class=\"dataframe\">\n",
       "  <thead>\n",
       "    <tr style=\"text-align: right;\">\n",
       "      <th></th>\n",
       "      <th>names</th>\n",
       "      <th>coef</th>\n",
       "      <th>se</th>\n",
       "      <th>T</th>\n",
       "      <th>pval</th>\n",
       "      <th>r2</th>\n",
       "      <th>adj_r2</th>\n",
       "      <th>CI[2.5%]</th>\n",
       "      <th>CI[97.5%]</th>\n",
       "      <th>relimp</th>\n",
       "      <th>relimp_perc</th>\n",
       "    </tr>\n",
       "  </thead>\n",
       "  <tbody>\n",
       "    <tr>\n",
       "      <th>0</th>\n",
       "      <td>Intercept</td>\n",
       "      <td>-22689795.68706</td>\n",
       "      <td>5.00750</td>\n",
       "      <td>-4531159.44128</td>\n",
       "      <td>0.00000</td>\n",
       "      <td>0.43137</td>\n",
       "      <td>0.25490</td>\n",
       "      <td>-22689805.92855</td>\n",
       "      <td>-22689785.44556</td>\n",
       "      <td>NaN</td>\n",
       "      <td>NaN</td>\n",
       "    </tr>\n",
       "    <tr>\n",
       "      <th>1</th>\n",
       "      <td>n_puzzle</td>\n",
       "      <td>-0.48357</td>\n",
       "      <td>0.87724</td>\n",
       "      <td>-0.55124</td>\n",
       "      <td>0.58569</td>\n",
       "      <td>0.43137</td>\n",
       "      <td>0.25490</td>\n",
       "      <td>-2.27773</td>\n",
       "      <td>1.31059</td>\n",
       "      <td>0.02566</td>\n",
       "      <td>6.16155</td>\n",
       "    </tr>\n",
       "    <tr>\n",
       "      <th>2</th>\n",
       "      <td>p_puz_no_basic</td>\n",
       "      <td>17.78262</td>\n",
       "      <td>22.26820</td>\n",
       "      <td>0.79857</td>\n",
       "      <td>0.43103</td>\n",
       "      <td>0.43137</td>\n",
       "      <td>0.25490</td>\n",
       "      <td>-27.76095</td>\n",
       "      <td>63.32620</td>\n",
       "      <td>0.03528</td>\n",
       "      <td>8.47026</td>\n",
       "    </tr>\n",
       "    <tr>\n",
       "      <th>3</th>\n",
       "      <td>complete_active</td>\n",
       "      <td>0.00009</td>\n",
       "      <td>0.00091</td>\n",
       "      <td>0.10237</td>\n",
       "      <td>0.91916</td>\n",
       "      <td>0.43137</td>\n",
       "      <td>0.25490</td>\n",
       "      <td>-0.00177</td>\n",
       "      <td>0.00196</td>\n",
       "      <td>0.02900</td>\n",
       "      <td>6.96307</td>\n",
       "    </tr>\n",
       "    <tr>\n",
       "      <th>4</th>\n",
       "      <td>incomplete_active</td>\n",
       "      <td>-0.00092</td>\n",
       "      <td>0.00093</td>\n",
       "      <td>-0.98818</td>\n",
       "      <td>0.33124</td>\n",
       "      <td>0.43137</td>\n",
       "      <td>0.25490</td>\n",
       "      <td>-0.00283</td>\n",
       "      <td>0.00099</td>\n",
       "      <td>0.03105</td>\n",
       "      <td>7.45667</td>\n",
       "    </tr>\n",
       "    <tr>\n",
       "      <th>5</th>\n",
       "      <td>non_per</td>\n",
       "      <td>22689805.52932</td>\n",
       "      <td>9.11422</td>\n",
       "      <td>2489493.90963</td>\n",
       "      <td>0.00000</td>\n",
       "      <td>0.43137</td>\n",
       "      <td>0.25490</td>\n",
       "      <td>22689786.88864</td>\n",
       "      <td>22689824.17000</td>\n",
       "      <td>0.01294</td>\n",
       "      <td>3.10816</td>\n",
       "    </tr>\n",
       "    <tr>\n",
       "      <th>6</th>\n",
       "      <td>productive</td>\n",
       "      <td>22689821.71555</td>\n",
       "      <td>8.91533</td>\n",
       "      <td>2545034.80572</td>\n",
       "      <td>0.00000</td>\n",
       "      <td>0.43137</td>\n",
       "      <td>0.25490</td>\n",
       "      <td>22689803.48165</td>\n",
       "      <td>22689839.94944</td>\n",
       "      <td>0.02408</td>\n",
       "      <td>5.78184</td>\n",
       "    </tr>\n",
       "    <tr>\n",
       "      <th>7</th>\n",
       "      <td>unproductive</td>\n",
       "      <td>22689798.12474</td>\n",
       "      <td>12.27378</td>\n",
       "      <td>1848640.36189</td>\n",
       "      <td>0.00000</td>\n",
       "      <td>0.43137</td>\n",
       "      <td>0.25490</td>\n",
       "      <td>22689773.02205</td>\n",
       "      <td>22689823.22743</td>\n",
       "      <td>0.08403</td>\n",
       "      <td>20.17750</td>\n",
       "    </tr>\n",
       "    <tr>\n",
       "      <th>8</th>\n",
       "      <td>rapid</td>\n",
       "      <td>22689852.40943</td>\n",
       "      <td>10.90052</td>\n",
       "      <td>2081539.07828</td>\n",
       "      <td>0.00000</td>\n",
       "      <td>0.43137</td>\n",
       "      <td>0.25490</td>\n",
       "      <td>22689830.11537</td>\n",
       "      <td>22689874.70349</td>\n",
       "      <td>0.15359</td>\n",
       "      <td>36.88046</td>\n",
       "    </tr>\n",
       "    <tr>\n",
       "      <th>9</th>\n",
       "      <td>no_beh</td>\n",
       "      <td>22689809.05642</td>\n",
       "      <td>5.94610</td>\n",
       "      <td>3815914.20950</td>\n",
       "      <td>0.00000</td>\n",
       "      <td>0.43137</td>\n",
       "      <td>0.25490</td>\n",
       "      <td>22689796.89528</td>\n",
       "      <td>22689821.21756</td>\n",
       "      <td>0.02082</td>\n",
       "      <td>5.00048</td>\n",
       "    </tr>\n",
       "  </tbody>\n",
       "</table>\n",
       "</div>"
      ],
      "text/plain": [
       "               names            coef       se              T    pval      r2  \\\n",
       "0          Intercept -22689795.68706  5.00750 -4531159.44128 0.00000 0.43137   \n",
       "1           n_puzzle        -0.48357  0.87724       -0.55124 0.58569 0.43137   \n",
       "2     p_puz_no_basic        17.78262 22.26820        0.79857 0.43103 0.43137   \n",
       "3    complete_active         0.00009  0.00091        0.10237 0.91916 0.43137   \n",
       "4  incomplete_active        -0.00092  0.00093       -0.98818 0.33124 0.43137   \n",
       "5            non_per  22689805.52932  9.11422  2489493.90963 0.00000 0.43137   \n",
       "6         productive  22689821.71555  8.91533  2545034.80572 0.00000 0.43137   \n",
       "7       unproductive  22689798.12474 12.27378  1848640.36189 0.00000 0.43137   \n",
       "8              rapid  22689852.40943 10.90052  2081539.07828 0.00000 0.43137   \n",
       "9             no_beh  22689809.05642  5.94610  3815914.20950 0.00000 0.43137   \n",
       "\n",
       "   adj_r2        CI[2.5%]       CI[97.5%]  relimp  relimp_perc  \n",
       "0 0.25490 -22689805.92855 -22689785.44556     NaN          NaN  \n",
       "1 0.25490        -2.27773         1.31059 0.02566      6.16155  \n",
       "2 0.25490       -27.76095        63.32620 0.03528      8.47026  \n",
       "3 0.25490        -0.00177         0.00196 0.02900      6.96307  \n",
       "4 0.25490        -0.00283         0.00099 0.03105      7.45667  \n",
       "5 0.25490  22689786.88864  22689824.17000 0.01294      3.10816  \n",
       "6 0.25490  22689803.48165  22689839.94944 0.02408      5.78184  \n",
       "7 0.25490  22689773.02205  22689823.22743 0.08403     20.17750  \n",
       "8 0.25490  22689830.11537  22689874.70349 0.15359     36.88046  \n",
       "9 0.25490  22689796.89528  22689821.21756 0.02082      5.00048  "
      ]
     },
     "execution_count": 13,
     "metadata": {},
     "output_type": "execute_result"
    }
   ],
   "source": [
    "lr_features = [\"n_puzzle\", \"p_puz_no_basic\", \"complete_active\", \"incomplete_active\", \"non_per\", \"productive\", \"unproductive\", \"rapid\", \"no_beh\"]\n",
    "linear_regression(data[lr_features], data[\"sri\"], remove_na=True, as_dataframe=True, relimp=True)"
   ]
  },
  {
   "cell_type": "markdown",
   "id": "12ae9b03-e91a-41b1-a010-a24a942e89ec",
   "metadata": {},
   "source": [
    "## Random Forest and XGB"
   ]
  },
  {
   "cell_type": "markdown",
   "id": "c016c669-e6a6-4e55-b282-5d52bf0fc008",
   "metadata": {},
   "source": [
    "### Helper"
   ]
  },
  {
   "cell_type": "code",
   "execution_count": 22,
   "id": "29b460ae-81ff-42b3-b148-a9d7d2635c02",
   "metadata": {},
   "outputs": [],
   "source": [
    "# specify the models\n",
    "label_dict = {\n",
    "    label: data[data[label] > 0][everything + protecteds].dropna()\n",
    "    for label in labels\n",
    "}\n",
    "\n",
    "model_dict = {\n",
    "    \"xgb\": XGBRegressor(tree_method=\"hist\", random_state=42),\n",
    "    \"rf\": RandomForestRegressor(n_estimators=1000, random_state=42)\n",
    "}\n",
    "\n",
    "param_dict = { # TODO\n",
    "    \"xgb\": {},\n",
    "    \"rf\": {\n",
    "        # 'bootstrap': [True, False], # omitting\n",
    "        # 'max_depth': [10, 20, 30, 40, 50, 60, 70, 80, 90, 100, None], # narrowed with grid search\n",
    "        \"max_depth\": [5, 10, 20],\n",
    "        # 'max_features': ['auto', 'sqrt'], # narrowed with grid search\n",
    "        \"max_features\": [\"sqrt\"],\n",
    "        # 'min_samples_leaf': [1, 2, 4], # omitting\n",
    "        # 'min_samples_split': [2, 5, 10], # omitting\n",
    "        # 'n_estimators': [200, 400, 600, 800, 1000, 1200, 1400, 1600, 1800, 2000] # narrowed with random search\n",
    "        # 'n_estimators': [200, 400, 600, 800] # narrowed with grid search\n",
    "        # 'n_estimators': [100, 200, 400, 600] # narrowed with grid search\n",
    "        \"n_estimators\": [150, 200, 250, 300, 350, 400, 450, 500]\n",
    "    }\n",
    "}\n",
    "\n",
    "# Helper to compare r^2 values using fisher z transforms\n",
    "def fzt(r2_score_1, n_1, r2_score_2, n_2):\n",
    "    r1 = sqrt(r2_score_1)\n",
    "    r2 = sqrt(r2_score_2)\n",
    "    z1 = log((1+r1) / (1-r1)) / 2\n",
    "    z2 = log((1+r2) / (1-r2)) / 2\n",
    "    z_score = (z1 - z2) / sqrt((1 / (n_1-3)) + (1 / (n_2-3)))\n",
    "    return z_score\n",
    "\n",
    "# Helper to run all the steps for a given dependent variable and regressor\n",
    "def run_regressor(m, label, features, protecteds):\n",
    "    \n",
    "    # Heading\n",
    "    display(Markdown(f\"---\\n\\n# {m} {label}\"))\n",
    "    \n",
    "    # Conventional Shorthand\n",
    "    model = model_dict[m]\n",
    "    subdata = label_dict[label]\n",
    "    X = subdata[features]\n",
    "    y = subdata[label]\n",
    "    \n",
    "    # Hyperparameter tuning\n",
    "    parameters = param_dict[m]\n",
    "    # search = RandomizedSearchCV(model, parameters, scoring=\"r2\", n_iter=200, cv=2, verbose=2, random_state=42, n_jobs=-1)\n",
    "    search = GridSearchCV(model, parameters, scoring=\"r2\", cv=5, verbose=2, n_jobs=-1)\n",
    "    search.fit(X, y)\n",
    "    display(Markdown(f\"**Hyperparameters:**\"))\n",
    "    display(DataFrame(search.best_params_, index=[0]))\n",
    "    model.set_params(**search.best_params_)\n",
    "    \n",
    "    # Fit model\n",
    "    yhat = cross_val_predict(model, X, y, cv=5)\n",
    "    model.fit(X, y)\n",
    "    \n",
    "    # Check goodness\n",
    "    errors = abs(yhat - y)\n",
    "    mae = round(mean(errors), 2)\n",
    "    display(Markdown(f\"**Mean Absolute Error:** {mae} degrees.\"))\n",
    "    display(Markdown(f\"**Pearson:**\"))\n",
    "    display(corr(yhat, y))\n",
    "    display(Markdown(f\"**R^2 Score:**\"))\n",
    "    display(r2_score(y, yhat))\n",
    "    \n",
    "    # Explain features\n",
    "    explain = Explainer(model, X, y, verbose=False)\n",
    "    explain.model_parts().plot()\n",
    "    \n",
    "    # Check fairness\n",
    "    for col in protecteds:\n",
    "        display(Markdown(f\"## {col}\"))\n",
    "        for c in unique(subdata[col].values):\n",
    "            display(Markdown(f\"### where {col}=={c}\"))\n",
    "            rows = subdata[col] == c\n",
    "            try:\n",
    "                mae = round(mean(errors[rows]), 2)\n",
    "                display(Markdown(f\"**Mean Absolute Error:** {mae} degrees.\"))\n",
    "                display(Markdown(f\"**Pearson:**\"))\n",
    "                display(corr(yhat[rows], y[rows]))\n",
    "                display(Markdown(f\"**R^2 Score:**\"))\n",
    "                display(r2_score(y[rows], yhat[rows]))\n",
    "            except Exception as e:\n",
    "                print(f\"(Unable to run a regression on {col}, there are probably not enough values in one of the test subgroups.\")"
   ]
  },
  {
   "cell_type": "markdown",
   "id": "4930317f-23a6-46f7-8952-fdba00684550",
   "metadata": {},
   "source": [
    "### Run"
   ]
  },
  {
   "cell_type": "code",
   "execution_count": 23,
   "id": "cbf2f713-9a1f-4a7e-8853-90a65a81f415",
   "metadata": {},
   "outputs": [
    {
     "data": {
      "text/markdown": [
       "---\n",
       "\n",
       "# rf sri"
      ],
      "text/plain": [
       "<IPython.core.display.Markdown object>"
      ]
     },
     "metadata": {},
     "output_type": "display_data"
    },
    {
     "name": "stdout",
     "output_type": "stream",
     "text": [
      "Fitting 5 folds for each of 24 candidates, totalling 120 fits\n",
      "[CV] END ...max_depth=5, max_features=sqrt, n_estimators=150; total time=   0.3s\n",
      "[CV] END ...max_depth=5, max_features=sqrt, n_estimators=150; total time=   0.3s\n",
      "[CV] END ...max_depth=5, max_features=sqrt, n_estimators=150; total time=   0.2s\n",
      "[CV] END ...max_depth=5, max_features=sqrt, n_estimators=150; total time=   0.2s\n",
      "[CV] END ...max_depth=5, max_features=sqrt, n_estimators=150; total time=   0.3s\n",
      "[CV] END ...max_depth=5, max_features=sqrt, n_estimators=200; total time=   0.5s\n",
      "[CV] END ...max_depth=5, max_features=sqrt, n_estimators=200; total time=   0.4s\n",
      "[CV] END ...max_depth=5, max_features=sqrt, n_estimators=200; total time=   0.4s\n",
      "[CV] END ...max_depth=5, max_features=sqrt, n_estimators=200; total time=   0.4s\n",
      "[CV] END ...max_depth=5, max_features=sqrt, n_estimators=200; total time=   0.3s\n",
      "[CV] END ...max_depth=5, max_features=sqrt, n_estimators=250; total time=   0.5s\n",
      "[CV] END ...max_depth=5, max_features=sqrt, n_estimators=250; total time=   0.5s\n",
      "[CV] END ...max_depth=5, max_features=sqrt, n_estimators=250; total time=   0.5s\n",
      "[CV] END ...max_depth=5, max_features=sqrt, n_estimators=250; total time=   0.6s\n",
      "[CV] END ...max_depth=5, max_features=sqrt, n_estimators=250; total time=   0.5s\n",
      "[CV] END ...max_depth=5, max_features=sqrt, n_estimators=300; total time=   0.5s\n",
      "[CV] END ...max_depth=5, max_features=sqrt, n_estimators=300; total time=   0.5s\n",
      "[CV] END ...max_depth=5, max_features=sqrt, n_estimators=300; total time=   0.5s\n",
      "[CV] END ...max_depth=5, max_features=sqrt, n_estimators=300; total time=   0.5s\n",
      "[CV] END ...max_depth=5, max_features=sqrt, n_estimators=300; total time=   0.5s\n",
      "[CV] END ...max_depth=5, max_features=sqrt, n_estimators=350; total time=   0.7s\n",
      "[CV] END ...max_depth=5, max_features=sqrt, n_estimators=350; total time=   0.6s\n",
      "[CV] END ...max_depth=5, max_features=sqrt, n_estimators=350; total time=   0.6s\n",
      "[CV] END ...max_depth=5, max_features=sqrt, n_estimators=350; total time=   0.6s\n",
      "[CV] END ...max_depth=5, max_features=sqrt, n_estimators=350; total time=   0.6s\n",
      "[CV] END ...max_depth=5, max_features=sqrt, n_estimators=400; total time=   0.7s\n",
      "[CV] END ...max_depth=5, max_features=sqrt, n_estimators=400; total time=   0.8s\n",
      "[CV] END ...max_depth=5, max_features=sqrt, n_estimators=400; total time=   0.7s\n",
      "[CV] END ...max_depth=5, max_features=sqrt, n_estimators=400; total time=   0.8s\n",
      "[CV] END ...max_depth=5, max_features=sqrt, n_estimators=400; total time=   0.8s\n",
      "[CV] END ...max_depth=5, max_features=sqrt, n_estimators=450; total time=   0.8s\n",
      "[CV] END ...max_depth=5, max_features=sqrt, n_estimators=450; total time=   0.6s\n",
      "[CV] END ...max_depth=5, max_features=sqrt, n_estimators=450; total time=   0.7s\n",
      "[CV] END ...max_depth=5, max_features=sqrt, n_estimators=450; total time=   0.7s\n",
      "[CV] END ...max_depth=5, max_features=sqrt, n_estimators=450; total time=   0.6s\n",
      "[CV] END ...max_depth=5, max_features=sqrt, n_estimators=500; total time=   0.8s\n",
      "[CV] END ...max_depth=5, max_features=sqrt, n_estimators=500; total time=   0.8s\n",
      "[CV] END ...max_depth=5, max_features=sqrt, n_estimators=500; total time=   0.9s\n",
      "[CV] END ...max_depth=5, max_features=sqrt, n_estimators=500; total time=   1.1s\n",
      "[CV] END ...max_depth=5, max_features=sqrt, n_estimators=500; total time=   0.9s\n",
      "[CV] END ..max_depth=10, max_features=sqrt, n_estimators=150; total time=   0.3s\n",
      "[CV] END ..max_depth=10, max_features=sqrt, n_estimators=150; total time=   0.3s\n",
      "[CV] END ..max_depth=10, max_features=sqrt, n_estimators=150; total time=   0.3s\n",
      "[CV] END ..max_depth=10, max_features=sqrt, n_estimators=150; total time=   0.3s\n",
      "[CV] END ..max_depth=10, max_features=sqrt, n_estimators=150; total time=   0.3s\n",
      "[CV] END ..max_depth=10, max_features=sqrt, n_estimators=200; total time=   0.4s\n",
      "[CV] END ..max_depth=10, max_features=sqrt, n_estimators=200; total time=   0.3s\n",
      "[CV] END ..max_depth=10, max_features=sqrt, n_estimators=200; total time=   0.3s\n",
      "[CV] END ..max_depth=10, max_features=sqrt, n_estimators=200; total time=   0.3s\n",
      "[CV] END ..max_depth=10, max_features=sqrt, n_estimators=200; total time=   0.3s\n",
      "[CV] END ..max_depth=10, max_features=sqrt, n_estimators=250; total time=   0.4s\n",
      "[CV] END ..max_depth=10, max_features=sqrt, n_estimators=250; total time=   0.4s\n",
      "[CV] END ..max_depth=10, max_features=sqrt, n_estimators=250; total time=   0.4s\n",
      "[CV] END ..max_depth=10, max_features=sqrt, n_estimators=250; total time=   0.4s\n",
      "[CV] END ..max_depth=10, max_features=sqrt, n_estimators=250; total time=   0.4s\n",
      "[CV] END ..max_depth=10, max_features=sqrt, n_estimators=300; total time=   0.5s\n",
      "[CV] END ..max_depth=10, max_features=sqrt, n_estimators=300; total time=   0.5s\n",
      "[CV] END ..max_depth=10, max_features=sqrt, n_estimators=300; total time=   0.5s\n",
      "[CV] END ..max_depth=10, max_features=sqrt, n_estimators=300; total time=   0.5s\n",
      "[CV] END ..max_depth=10, max_features=sqrt, n_estimators=300; total time=   0.5s\n",
      "[CV] END ..max_depth=10, max_features=sqrt, n_estimators=350; total time=   0.6s\n",
      "[CV] END ..max_depth=10, max_features=sqrt, n_estimators=350; total time=   0.5s\n",
      "[CV] END ..max_depth=10, max_features=sqrt, n_estimators=350; total time=   0.5s\n",
      "[CV] END ..max_depth=10, max_features=sqrt, n_estimators=350; total time=   0.6s\n",
      "[CV] END ..max_depth=10, max_features=sqrt, n_estimators=350; total time=   0.6s\n",
      "[CV] END ..max_depth=10, max_features=sqrt, n_estimators=400; total time=   0.7s\n",
      "[CV] END ..max_depth=10, max_features=sqrt, n_estimators=400; total time=   0.7s\n",
      "[CV] END ..max_depth=10, max_features=sqrt, n_estimators=400; total time=   0.7s\n",
      "[CV] END ..max_depth=10, max_features=sqrt, n_estimators=400; total time=   0.6s\n",
      "[CV] END ..max_depth=10, max_features=sqrt, n_estimators=400; total time=   0.6s\n",
      "[CV] END ..max_depth=10, max_features=sqrt, n_estimators=450; total time=   0.9s\n",
      "[CV] END ..max_depth=10, max_features=sqrt, n_estimators=450; total time=   0.9s\n",
      "[CV] END ..max_depth=10, max_features=sqrt, n_estimators=450; total time=   0.9s\n",
      "[CV] END ..max_depth=10, max_features=sqrt, n_estimators=450; total time=   0.8s\n",
      "[CV] END ..max_depth=10, max_features=sqrt, n_estimators=450; total time=   0.7s\n",
      "[CV] END ..max_depth=10, max_features=sqrt, n_estimators=500; total time=   0.8s\n",
      "[CV] END ..max_depth=10, max_features=sqrt, n_estimators=500; total time=   0.8s\n",
      "[CV] END ..max_depth=10, max_features=sqrt, n_estimators=500; total time=   0.9s\n",
      "[CV] END ..max_depth=10, max_features=sqrt, n_estimators=500; total time=   0.9s\n",
      "[CV] END ..max_depth=10, max_features=sqrt, n_estimators=500; total time=   0.8s\n",
      "[CV] END ..max_depth=20, max_features=sqrt, n_estimators=150; total time=   0.3s\n",
      "[CV] END ..max_depth=20, max_features=sqrt, n_estimators=150; total time=   0.3s\n",
      "[CV] END ..max_depth=20, max_features=sqrt, n_estimators=150; total time=   0.3s\n",
      "[CV] END ..max_depth=20, max_features=sqrt, n_estimators=150; total time=   0.3s\n",
      "[CV] END ..max_depth=20, max_features=sqrt, n_estimators=150; total time=   0.3s\n",
      "[CV] END ..max_depth=20, max_features=sqrt, n_estimators=200; total time=   0.3s\n",
      "[CV] END ..max_depth=20, max_features=sqrt, n_estimators=200; total time=   0.3s\n",
      "[CV] END ..max_depth=20, max_features=sqrt, n_estimators=200; total time=   0.3s\n",
      "[CV] END ..max_depth=20, max_features=sqrt, n_estimators=200; total time=   0.3s\n",
      "[CV] END ..max_depth=20, max_features=sqrt, n_estimators=200; total time=   0.3s\n",
      "[CV] END ..max_depth=20, max_features=sqrt, n_estimators=250; total time=   0.4s\n",
      "[CV] END ..max_depth=20, max_features=sqrt, n_estimators=250; total time=   0.5s\n",
      "[CV] END ..max_depth=20, max_features=sqrt, n_estimators=250; total time=   0.4s\n",
      "[CV] END ..max_depth=20, max_features=sqrt, n_estimators=250; total time=   0.4s\n",
      "[CV] END ..max_depth=20, max_features=sqrt, n_estimators=250; total time=   0.4s\n",
      "[CV] END ..max_depth=20, max_features=sqrt, n_estimators=300; total time=   0.5s\n",
      "[CV] END ..max_depth=20, max_features=sqrt, n_estimators=300; total time=   0.5s\n",
      "[CV] END ..max_depth=20, max_features=sqrt, n_estimators=300; total time=   0.5s\n",
      "[CV] END ..max_depth=20, max_features=sqrt, n_estimators=300; total time=   0.4s\n",
      "[CV] END ..max_depth=20, max_features=sqrt, n_estimators=300; total time=   0.5s\n",
      "[CV] END ..max_depth=20, max_features=sqrt, n_estimators=350; total time=   0.6s\n",
      "[CV] END ..max_depth=20, max_features=sqrt, n_estimators=350; total time=   0.6s\n",
      "[CV] END ..max_depth=20, max_features=sqrt, n_estimators=350; total time=   0.7s\n",
      "[CV] END ..max_depth=20, max_features=sqrt, n_estimators=350; total time=   0.8s\n",
      "[CV] END ..max_depth=20, max_features=sqrt, n_estimators=350; total time=   0.6s\n",
      "[CV] END ..max_depth=20, max_features=sqrt, n_estimators=400; total time=   0.7s\n",
      "[CV] END ..max_depth=20, max_features=sqrt, n_estimators=400; total time=   0.7s\n",
      "[CV] END ..max_depth=20, max_features=sqrt, n_estimators=400; total time=   0.6s\n",
      "[CV] END ..max_depth=20, max_features=sqrt, n_estimators=400; total time=   0.6s\n",
      "[CV] END ..max_depth=20, max_features=sqrt, n_estimators=400; total time=   0.7s\n",
      "[CV] END ..max_depth=20, max_features=sqrt, n_estimators=450; total time=   0.7s\n",
      "[CV] END ..max_depth=20, max_features=sqrt, n_estimators=450; total time=   0.7s\n",
      "[CV] END ..max_depth=20, max_features=sqrt, n_estimators=450; total time=   0.7s\n",
      "[CV] END ..max_depth=20, max_features=sqrt, n_estimators=450; total time=   0.7s\n",
      "[CV] END ..max_depth=20, max_features=sqrt, n_estimators=450; total time=   0.9s\n",
      "[CV] END ..max_depth=20, max_features=sqrt, n_estimators=500; total time=   0.9s\n",
      "[CV] END ..max_depth=20, max_features=sqrt, n_estimators=500; total time=   0.9s\n",
      "[CV] END ..max_depth=20, max_features=sqrt, n_estimators=500; total time=   0.8s\n",
      "[CV] END ..max_depth=20, max_features=sqrt, n_estimators=500; total time=   0.9s\n",
      "[CV] END ..max_depth=20, max_features=sqrt, n_estimators=500; total time=   1.0s\n"
     ]
    },
    {
     "data": {
      "text/markdown": [
       "**Hyperparameters:**"
      ],
      "text/plain": [
       "<IPython.core.display.Markdown object>"
      ]
     },
     "metadata": {},
     "output_type": "display_data"
    },
    {
     "data": {
      "text/html": [
       "<div>\n",
       "<style scoped>\n",
       "    .dataframe tbody tr th:only-of-type {\n",
       "        vertical-align: middle;\n",
       "    }\n",
       "\n",
       "    .dataframe tbody tr th {\n",
       "        vertical-align: top;\n",
       "    }\n",
       "\n",
       "    .dataframe thead th {\n",
       "        text-align: right;\n",
       "    }\n",
       "</style>\n",
       "<table border=\"1\" class=\"dataframe\">\n",
       "  <thead>\n",
       "    <tr style=\"text-align: right;\">\n",
       "      <th></th>\n",
       "      <th>max_depth</th>\n",
       "      <th>max_features</th>\n",
       "      <th>n_estimators</th>\n",
       "    </tr>\n",
       "  </thead>\n",
       "  <tbody>\n",
       "    <tr>\n",
       "      <th>0</th>\n",
       "      <td>10</td>\n",
       "      <td>sqrt</td>\n",
       "      <td>400</td>\n",
       "    </tr>\n",
       "  </tbody>\n",
       "</table>\n",
       "</div>"
      ],
      "text/plain": [
       "   max_depth max_features  n_estimators\n",
       "0         10         sqrt           400"
      ]
     },
     "metadata": {},
     "output_type": "display_data"
    },
    {
     "data": {
      "text/markdown": [
       "**Mean Absolute Error:** 3.84 degrees."
      ],
      "text/plain": [
       "<IPython.core.display.Markdown object>"
      ]
     },
     "metadata": {},
     "output_type": "display_data"
    },
    {
     "data": {
      "text/markdown": [
       "**Pearson:**"
      ],
      "text/plain": [
       "<IPython.core.display.Markdown object>"
      ]
     },
     "metadata": {},
     "output_type": "display_data"
    },
    {
     "data": {
      "text/html": [
       "<div>\n",
       "<style scoped>\n",
       "    .dataframe tbody tr th:only-of-type {\n",
       "        vertical-align: middle;\n",
       "    }\n",
       "\n",
       "    .dataframe tbody tr th {\n",
       "        vertical-align: top;\n",
       "    }\n",
       "\n",
       "    .dataframe thead th {\n",
       "        text-align: right;\n",
       "    }\n",
       "</style>\n",
       "<table border=\"1\" class=\"dataframe\">\n",
       "  <thead>\n",
       "    <tr style=\"text-align: right;\">\n",
       "      <th></th>\n",
       "      <th>n</th>\n",
       "      <th>r</th>\n",
       "      <th>CI95%</th>\n",
       "      <th>p-val</th>\n",
       "      <th>BF10</th>\n",
       "      <th>power</th>\n",
       "    </tr>\n",
       "  </thead>\n",
       "  <tbody>\n",
       "    <tr>\n",
       "      <th>pearson</th>\n",
       "      <td>33</td>\n",
       "      <td>0.67272</td>\n",
       "      <td>[0.43, 0.83]</td>\n",
       "      <td>0.00002</td>\n",
       "      <td>1432.664</td>\n",
       "      <td>0.99479</td>\n",
       "    </tr>\n",
       "  </tbody>\n",
       "</table>\n",
       "</div>"
      ],
      "text/plain": [
       "          n       r         CI95%   p-val      BF10   power\n",
       "pearson  33 0.67272  [0.43, 0.83] 0.00002  1432.664 0.99479"
      ]
     },
     "metadata": {},
     "output_type": "display_data"
    },
    {
     "data": {
      "text/markdown": [
       "**R^2 Score:**"
      ],
      "text/plain": [
       "<IPython.core.display.Markdown object>"
      ]
     },
     "metadata": {},
     "output_type": "display_data"
    },
    {
     "data": {
      "text/plain": [
       "0.4401943513584422"
      ]
     },
     "metadata": {},
     "output_type": "display_data"
    },
    {
     "data": {
      "application/vnd.plotly.v1+json": {
       "config": {
        "displaylogo": false,
        "modeBarButtonsToRemove": [
         "sendDataToCloud",
         "lasso2d",
         "autoScale2d",
         "select2d",
         "zoom2d",
         "pan2d",
         "zoomIn2d",
         "zoomOut2d",
         "resetScale2d",
         "toggleSpikelines",
         "hoverCompareCartesian",
         "hoverClosestCartesian"
        ],
        "plotlyServerURL": "https://plot.ly",
        "staticPlot": false,
        "toImageButtonOptions": {
         "height": null,
         "width": null
        }
       },
       "data": [
        {
         "base": 1.7173265455396511,
         "hoverinfo": "text",
         "hoverlabel": {
          "bgcolor": "rgba(0, 0, 0, 0.8)"
         },
         "hovertext": [
          "Model: RandomForestRegressor loss after<br>variable: comp_co5 is permuted: 2.363<br>Drop-out loss change: +0.645",
          "Model: RandomForestRegressor loss after<br>variable: comp_gmd4 is permuted: 2.195<br>Drop-out loss change: +0.477",
          "Model: RandomForestRegressor loss after<br>variable: cumu_a_time is permuted: 2.19<br>Drop-out loss change: +0.472",
          "Model: RandomForestRegressor loss after<br>variable: comp_co6 is permuted: 2.137<br>Drop-out loss change: +0.42",
          "Model: RandomForestRegressor loss after<br>variable: comp_average is permuted: 2.069<br>Drop-out loss change: +0.352",
          "Model: RandomForestRegressor loss after<br>variable: incomplete_active is permuted: 1.995<br>Drop-out loss change: +0.278",
          "Model: RandomForestRegressor loss after<br>variable: persistence_score is permuted: 1.992<br>Drop-out loss change: +0.274",
          "Model: RandomForestRegressor loss after<br>variable: n_complete is permuted: 1.96<br>Drop-out loss change: +0.242",
          "Model: RandomForestRegressor loss after<br>variable: total_breaks is permuted: 1.954<br>Drop-out loss change: +0.237",
          "Model: RandomForestRegressor loss after<br>variable: unproductive is permuted: 1.948<br>Drop-out loss change: +0.23"
         ],
         "marker": {
          "color": "#46bac2"
         },
         "orientation": "h",
         "showlegend": false,
         "text": [
          "+0.645",
          "+0.477",
          "+0.472",
          "+0.42",
          "+0.352",
          "+0.278",
          "+0.274",
          "+0.242",
          "+0.237",
          "+0.23"
         ],
         "textposition": "outside",
         "type": "bar",
         "x": [
          0.645419289557335,
          0.47738074495523586,
          0.4724001925600092,
          0.4199875380157292,
          0.3518443515072236,
          0.2779571208040905,
          0.274265496867089,
          0.2423564409139345,
          0.2365865921497381,
          0.2302607177619278
         ],
         "xaxis": "x",
         "y": [
          "comp_co5",
          "comp_gmd4",
          "cumu_a_time",
          "comp_co6",
          "comp_average",
          "incomplete_active",
          "persistence_score",
          "n_complete",
          "total_breaks",
          "unproductive"
         ],
         "yaxis": "y"
        }
       ],
       "layout": {
        "annotations": [
         {
          "font": {
           "size": 16
          },
          "showarrow": false,
          "text": "RandomForestRegressor",
          "x": 0.5,
          "xanchor": "center",
          "xref": "paper",
          "y": 1,
          "yanchor": "bottom",
          "yref": "paper"
         },
         {
          "font": {
           "size": 16
          },
          "showarrow": false,
          "text": "drop-out loss",
          "x": 0.5,
          "xanchor": "center",
          "xref": "paper",
          "y": 0,
          "yanchor": "top",
          "yref": "paper",
          "yshift": -30
         }
        ],
        "autosize": true,
        "font": {
         "color": "#371ea3"
        },
        "margin": {
         "b": 71,
         "r": 30,
         "t": 78
        },
        "shapes": [
         {
          "line": {
           "color": "#371ea3",
           "dash": "dot",
           "width": 1.5
          },
          "type": "line",
          "x0": 1.7173265455396511,
          "x1": 1.7173265455396511,
          "xref": "x",
          "y0": -1,
          "y1": 10,
          "yref": "y"
         }
        ],
        "template": {
         "data": {
          "scatter": [
           {
            "type": "scatter"
           }
          ]
         }
        },
        "title": {
         "text": "Variable Importance",
         "x": 0.15
        },
        "xaxis": {
         "anchor": "y",
         "automargin": true,
         "domain": [
          0,
          1
         ],
         "fixedrange": true,
         "gridwidth": 2,
         "range": [
          1.6205136521060508,
          2.4595587285305864
         ],
         "tickcolor": "white",
         "ticklen": 3,
         "ticks": "outside",
         "type": "linear",
         "zeroline": false
        },
        "yaxis": {
         "anchor": "x",
         "automargin": true,
         "autorange": true,
         "domain": [
          0,
          1
         ],
         "fixedrange": true,
         "gridwidth": 2,
         "range": [
          10.035483870967742,
          -1.0354838709677419
         ],
         "tickcolor": "white",
         "ticklen": 10,
         "ticks": "outside",
         "type": "category"
        }
       }
      },
      "image/png": "[encoded data removed]",
      "text/html": [
       "<div>                            <div id=\"22a49978-0b7a-46e1-a6f9-41b4bdf96c3a\" class=\"plotly-graph-div\" style=\"height:383.0px; width:100%;\"></div>            <script type=\"text/javascript\">                require([\"plotly\"], function(Plotly) {                    window.PLOTLYENV=window.PLOTLYENV || {};                                    if (document.getElementById(\"22a49978-0b7a-46e1-a6f9-41b4bdf96c3a\")) {                    Plotly.newPlot(                        \"22a49978-0b7a-46e1-a6f9-41b4bdf96c3a\",                        [{\"base\":1.7173265455396511,\"hoverinfo\":\"text\",\"hoverlabel\":{\"bgcolor\":\"rgba(0,0,0,0.8)\"},\"hovertext\":[\"Model: RandomForestRegressor loss after<br>variable: comp_co5 is permuted: 2.363<br>Drop-out loss change: +0.645\",\"Model: RandomForestRegressor loss after<br>variable: comp_gmd4 is permuted: 2.195<br>Drop-out loss change: +0.477\",\"Model: RandomForestRegressor loss after<br>variable: cumu_a_time is permuted: 2.19<br>Drop-out loss change: +0.472\",\"Model: RandomForestRegressor loss after<br>variable: comp_co6 is permuted: 2.137<br>Drop-out loss change: +0.42\",\"Model: RandomForestRegressor loss after<br>variable: comp_average is permuted: 2.069<br>Drop-out loss change: +0.352\",\"Model: RandomForestRegressor loss after<br>variable: incomplete_active is permuted: 1.995<br>Drop-out loss change: +0.278\",\"Model: RandomForestRegressor loss after<br>variable: persistence_score is permuted: 1.992<br>Drop-out loss change: +0.274\",\"Model: RandomForestRegressor loss after<br>variable: n_complete is permuted: 1.96<br>Drop-out loss change: +0.242\",\"Model: RandomForestRegressor loss after<br>variable: total_breaks is permuted: 1.954<br>Drop-out loss change: +0.237\",\"Model: RandomForestRegressor loss after<br>variable: unproductive is permuted: 1.948<br>Drop-out loss change: +0.23\"],\"marker\":{\"color\":\"#46bac2\"},\"orientation\":\"h\",\"showlegend\":false,\"text\":[\"+0.645\",\"+0.477\",\"+0.472\",\"+0.42\",\"+0.352\",\"+0.278\",\"+0.274\",\"+0.242\",\"+0.237\",\"+0.23\"],\"textposition\":\"outside\",\"x\":[0.645419289557335,0.47738074495523586,0.4724001925600092,0.4199875380157292,0.3518443515072236,0.2779571208040905,0.274265496867089,0.2423564409139345,0.2365865921497381,0.2302607177619278],\"y\":[\"comp_co5\",\"comp_gmd4\",\"cumu_a_time\",\"comp_co6\",\"comp_average\",\"incomplete_active\",\"persistence_score\",\"n_complete\",\"total_breaks\",\"unproductive\"],\"type\":\"bar\",\"xaxis\":\"x\",\"yaxis\":\"y\"}],                        {\"template\":{\"data\":{\"scatter\":[{\"type\":\"scatter\"}]}},\"xaxis\":{\"anchor\":\"y\",\"domain\":[0.0,1.0],\"type\":\"linear\",\"gridwidth\":2,\"zeroline\":false,\"automargin\":true,\"ticks\":\"outside\",\"tickcolor\":\"white\",\"ticklen\":3,\"fixedrange\":true,\"range\":[1.6205136521060508,2.4595587285305864]},\"yaxis\":{\"anchor\":\"x\",\"domain\":[0.0,1.0],\"type\":\"category\",\"autorange\":\"reversed\",\"gridwidth\":2,\"automargin\":true,\"ticks\":\"outside\",\"tickcolor\":\"white\",\"ticklen\":10,\"fixedrange\":true},\"annotations\":[{\"font\":{\"size\":16},\"showarrow\":false,\"text\":\"RandomForestRegressor\",\"x\":0.5,\"xanchor\":\"center\",\"xref\":\"paper\",\"y\":1.0,\"yanchor\":\"bottom\",\"yref\":\"paper\"},{\"font\":{\"size\":16},\"showarrow\":false,\"text\":\"drop-out loss\",\"x\":0.5,\"xanchor\":\"center\",\"xref\":\"paper\",\"y\":0,\"yanchor\":\"top\",\"yref\":\"paper\",\"yshift\":-30}],\"shapes\":[{\"line\":{\"color\":\"#371ea3\",\"dash\":\"dot\",\"width\":1.5},\"type\":\"line\",\"x0\":1.7173265455396511,\"x1\":1.7173265455396511,\"xref\":\"x\",\"y0\":-1,\"y1\":10,\"yref\":\"y\"}],\"title\":{\"text\":\"Variable Importance\",\"x\":0.15},\"font\":{\"color\":\"#371ea3\"},\"margin\":{\"t\":78,\"b\":71,\"r\":30},\"height\":383.0},                        {\"displaylogo\": false, \"staticPlot\": false, \"toImageButtonOptions\": {\"height\": null, \"width\": null}, \"modeBarButtonsToRemove\": [\"sendDataToCloud\", \"lasso2d\", \"autoScale2d\", \"select2d\", \"zoom2d\", \"pan2d\", \"zoomIn2d\", \"zoomOut2d\", \"resetScale2d\", \"toggleSpikelines\", \"hoverCompareCartesian\", \"hoverClosestCartesian\"], \"responsive\": true}                    ).then(function(){\n",
       "                            \n",
       "var gd = document.getElementById('22a49978-0b7a-46e1-a6f9-41b4bdf96c3a');\n",
       "var x = new MutationObserver(function (mutations, observer) {{\n",
       "        var display = window.getComputedStyle(gd).display;\n",
       "        if (!display || display === 'none') {{\n",
       "            console.log([gd, 'removed!']);\n",
       "            Plotly.purge(gd);\n",
       "            observer.disconnect();\n",
       "        }}\n",
       "}});\n",
       "\n",
       "// Listen for the removal of the full notebook cells\n",
       "var notebookContainer = gd.closest('#notebook-container');\n",
       "if (notebookContainer) {{\n",
       "    x.observe(notebookContainer, {childList: true});\n",
       "}}\n",
       "\n",
       "// Listen for the clearing of the current output cell\n",
       "var outputEl = gd.closest('.output');\n",
       "if (outputEl) {{\n",
       "    x.observe(outputEl, {childList: true});\n",
       "}}\n",
       "\n",
       "                        })                };                });            </script>        </div>"
      ]
     },
     "metadata": {},
     "output_type": "display_data"
    },
    {
     "data": {
      "text/markdown": [
       "## gender_number"
      ],
      "text/plain": [
       "<IPython.core.display.Markdown object>"
      ]
     },
     "metadata": {},
     "output_type": "display_data"
    },
    {
     "data": {
      "text/markdown": [
       "### where gender_number==0.0"
      ],
      "text/plain": [
       "<IPython.core.display.Markdown object>"
      ]
     },
     "metadata": {},
     "output_type": "display_data"
    },
    {
     "data": {
      "text/markdown": [
       "**Mean Absolute Error:** 5.17 degrees."
      ],
      "text/plain": [
       "<IPython.core.display.Markdown object>"
      ]
     },
     "metadata": {},
     "output_type": "display_data"
    },
    {
     "data": {
      "text/markdown": [
       "**Pearson:**"
      ],
      "text/plain": [
       "<IPython.core.display.Markdown object>"
      ]
     },
     "metadata": {},
     "output_type": "display_data"
    },
    {
     "data": {
      "text/html": [
       "<div>\n",
       "<style scoped>\n",
       "    .dataframe tbody tr th:only-of-type {\n",
       "        vertical-align: middle;\n",
       "    }\n",
       "\n",
       "    .dataframe tbody tr th {\n",
       "        vertical-align: top;\n",
       "    }\n",
       "\n",
       "    .dataframe thead th {\n",
       "        text-align: right;\n",
       "    }\n",
       "</style>\n",
       "<table border=\"1\" class=\"dataframe\">\n",
       "  <thead>\n",
       "    <tr style=\"text-align: right;\">\n",
       "      <th></th>\n",
       "      <th>n</th>\n",
       "      <th>r</th>\n",
       "      <th>CI95%</th>\n",
       "      <th>p-val</th>\n",
       "      <th>BF10</th>\n",
       "      <th>power</th>\n",
       "    </tr>\n",
       "  </thead>\n",
       "  <tbody>\n",
       "    <tr>\n",
       "      <th>pearson</th>\n",
       "      <td>12</td>\n",
       "      <td>0.48695</td>\n",
       "      <td>[-0.12, 0.83]</td>\n",
       "      <td>0.10838</td>\n",
       "      <td>1.134</td>\n",
       "      <td>0.37966</td>\n",
       "    </tr>\n",
       "  </tbody>\n",
       "</table>\n",
       "</div>"
      ],
      "text/plain": [
       "          n       r          CI95%   p-val   BF10   power\n",
       "pearson  12 0.48695  [-0.12, 0.83] 0.10838  1.134 0.37966"
      ]
     },
     "metadata": {},
     "output_type": "display_data"
    },
    {
     "data": {
      "text/markdown": [
       "**R^2 Score:**"
      ],
      "text/plain": [
       "<IPython.core.display.Markdown object>"
      ]
     },
     "metadata": {},
     "output_type": "display_data"
    },
    {
     "data": {
      "text/plain": [
       "0.13102847343841217"
      ]
     },
     "metadata": {},
     "output_type": "display_data"
    },
    {
     "data": {
      "text/markdown": [
       "### where gender_number==1.0"
      ],
      "text/plain": [
       "<IPython.core.display.Markdown object>"
      ]
     },
     "metadata": {},
     "output_type": "display_data"
    },
    {
     "data": {
      "text/markdown": [
       "**Mean Absolute Error:** 3.07 degrees."
      ],
      "text/plain": [
       "<IPython.core.display.Markdown object>"
      ]
     },
     "metadata": {},
     "output_type": "display_data"
    },
    {
     "data": {
      "text/markdown": [
       "**Pearson:**"
      ],
      "text/plain": [
       "<IPython.core.display.Markdown object>"
      ]
     },
     "metadata": {},
     "output_type": "display_data"
    },
    {
     "data": {
      "text/html": [
       "<div>\n",
       "<style scoped>\n",
       "    .dataframe tbody tr th:only-of-type {\n",
       "        vertical-align: middle;\n",
       "    }\n",
       "\n",
       "    .dataframe tbody tr th {\n",
       "        vertical-align: top;\n",
       "    }\n",
       "\n",
       "    .dataframe thead th {\n",
       "        text-align: right;\n",
       "    }\n",
       "</style>\n",
       "<table border=\"1\" class=\"dataframe\">\n",
       "  <thead>\n",
       "    <tr style=\"text-align: right;\">\n",
       "      <th></th>\n",
       "      <th>n</th>\n",
       "      <th>r</th>\n",
       "      <th>CI95%</th>\n",
       "      <th>p-val</th>\n",
       "      <th>BF10</th>\n",
       "      <th>power</th>\n",
       "    </tr>\n",
       "  </thead>\n",
       "  <tbody>\n",
       "    <tr>\n",
       "      <th>pearson</th>\n",
       "      <td>21</td>\n",
       "      <td>0.67351</td>\n",
       "      <td>[0.34, 0.86]</td>\n",
       "      <td>0.00082</td>\n",
       "      <td>50.655</td>\n",
       "      <td>0.94205</td>\n",
       "    </tr>\n",
       "  </tbody>\n",
       "</table>\n",
       "</div>"
      ],
      "text/plain": [
       "          n       r         CI95%   p-val    BF10   power\n",
       "pearson  21 0.67351  [0.34, 0.86] 0.00082  50.655 0.94205"
      ]
     },
     "metadata": {},
     "output_type": "display_data"
    },
    {
     "data": {
      "text/markdown": [
       "**R^2 Score:**"
      ],
      "text/plain": [
       "<IPython.core.display.Markdown object>"
      ]
     },
     "metadata": {},
     "output_type": "display_data"
    },
    {
     "data": {
      "text/plain": [
       "0.4022447501421237"
      ]
     },
     "metadata": {},
     "output_type": "display_data"
    },
    {
     "data": {
      "text/markdown": [
       "## hand_number"
      ],
      "text/plain": [
       "<IPython.core.display.Markdown object>"
      ]
     },
     "metadata": {},
     "output_type": "display_data"
    },
    {
     "data": {
      "text/markdown": [
       "### where hand_number==0.0"
      ],
      "text/plain": [
       "<IPython.core.display.Markdown object>"
      ]
     },
     "metadata": {},
     "output_type": "display_data"
    },
    {
     "data": {
      "text/markdown": [
       "**Mean Absolute Error:** 3.33 degrees."
      ],
      "text/plain": [
       "<IPython.core.display.Markdown object>"
      ]
     },
     "metadata": {},
     "output_type": "display_data"
    },
    {
     "data": {
      "text/markdown": [
       "**Pearson:**"
      ],
      "text/plain": [
       "<IPython.core.display.Markdown object>"
      ]
     },
     "metadata": {},
     "output_type": "display_data"
    },
    {
     "data": {
      "text/html": [
       "<div>\n",
       "<style scoped>\n",
       "    .dataframe tbody tr th:only-of-type {\n",
       "        vertical-align: middle;\n",
       "    }\n",
       "\n",
       "    .dataframe tbody tr th {\n",
       "        vertical-align: top;\n",
       "    }\n",
       "\n",
       "    .dataframe thead th {\n",
       "        text-align: right;\n",
       "    }\n",
       "</style>\n",
       "<table border=\"1\" class=\"dataframe\">\n",
       "  <thead>\n",
       "    <tr style=\"text-align: right;\">\n",
       "      <th></th>\n",
       "      <th>n</th>\n",
       "      <th>r</th>\n",
       "      <th>CI95%</th>\n",
       "      <th>p-val</th>\n",
       "      <th>BF10</th>\n",
       "      <th>power</th>\n",
       "    </tr>\n",
       "  </thead>\n",
       "  <tbody>\n",
       "    <tr>\n",
       "      <th>pearson</th>\n",
       "      <td>25</td>\n",
       "      <td>0.69957</td>\n",
       "      <td>[0.42, 0.86]</td>\n",
       "      <td>0.00010</td>\n",
       "      <td>314.677</td>\n",
       "      <td>0.98489</td>\n",
       "    </tr>\n",
       "  </tbody>\n",
       "</table>\n",
       "</div>"
      ],
      "text/plain": [
       "          n       r         CI95%   p-val     BF10   power\n",
       "pearson  25 0.69957  [0.42, 0.86] 0.00010  314.677 0.98489"
      ]
     },
     "metadata": {},
     "output_type": "display_data"
    },
    {
     "data": {
      "text/markdown": [
       "**R^2 Score:**"
      ],
      "text/plain": [
       "<IPython.core.display.Markdown object>"
      ]
     },
     "metadata": {},
     "output_type": "display_data"
    },
    {
     "data": {
      "text/plain": [
       "0.47205611782079737"
      ]
     },
     "metadata": {},
     "output_type": "display_data"
    },
    {
     "data": {
      "text/markdown": [
       "### where hand_number==1.0"
      ],
      "text/plain": [
       "<IPython.core.display.Markdown object>"
      ]
     },
     "metadata": {},
     "output_type": "display_data"
    },
    {
     "data": {
      "text/markdown": [
       "**Mean Absolute Error:** 5.42 degrees."
      ],
      "text/plain": [
       "<IPython.core.display.Markdown object>"
      ]
     },
     "metadata": {},
     "output_type": "display_data"
    },
    {
     "data": {
      "text/markdown": [
       "**Pearson:**"
      ],
      "text/plain": [
       "<IPython.core.display.Markdown object>"
      ]
     },
     "metadata": {},
     "output_type": "display_data"
    },
    {
     "data": {
      "text/html": [
       "<div>\n",
       "<style scoped>\n",
       "    .dataframe tbody tr th:only-of-type {\n",
       "        vertical-align: middle;\n",
       "    }\n",
       "\n",
       "    .dataframe tbody tr th {\n",
       "        vertical-align: top;\n",
       "    }\n",
       "\n",
       "    .dataframe thead th {\n",
       "        text-align: right;\n",
       "    }\n",
       "</style>\n",
       "<table border=\"1\" class=\"dataframe\">\n",
       "  <thead>\n",
       "    <tr style=\"text-align: right;\">\n",
       "      <th></th>\n",
       "      <th>n</th>\n",
       "      <th>r</th>\n",
       "      <th>CI95%</th>\n",
       "      <th>p-val</th>\n",
       "      <th>BF10</th>\n",
       "      <th>power</th>\n",
       "    </tr>\n",
       "  </thead>\n",
       "  <tbody>\n",
       "    <tr>\n",
       "      <th>pearson</th>\n",
       "      <td>8</td>\n",
       "      <td>0.62527</td>\n",
       "      <td>[-0.14, 0.92]</td>\n",
       "      <td>0.09735</td>\n",
       "      <td>1.416</td>\n",
       "      <td>0.40959</td>\n",
       "    </tr>\n",
       "  </tbody>\n",
       "</table>\n",
       "</div>"
      ],
      "text/plain": [
       "         n       r          CI95%   p-val   BF10   power\n",
       "pearson  8 0.62527  [-0.14, 0.92] 0.09735  1.416 0.40959"
      ]
     },
     "metadata": {},
     "output_type": "display_data"
    },
    {
     "data": {
      "text/markdown": [
       "**R^2 Score:**"
      ],
      "text/plain": [
       "<IPython.core.display.Markdown object>"
      ]
     },
     "metadata": {},
     "output_type": "display_data"
    },
    {
     "data": {
      "text/plain": [
       "0.37749359964359963"
      ]
     },
     "metadata": {},
     "output_type": "display_data"
    }
   ],
   "source": [
    "run_regressor(\"rf\", \"sri\", features, protecteds)"
   ]
  },
  {
   "cell_type": "code",
   "execution_count": 24,
   "id": "93ed8b13-1726-43f0-b3be-1aeb5216eff8",
   "metadata": {},
   "outputs": [
    {
     "data": {
      "text/markdown": [
       "---\n",
       "\n",
       "# rf sbst"
      ],
      "text/plain": [
       "<IPython.core.display.Markdown object>"
      ]
     },
     "metadata": {},
     "output_type": "display_data"
    },
    {
     "name": "stdout",
     "output_type": "stream",
     "text": [
      "Fitting 5 folds for each of 24 candidates, totalling 120 fits\n",
      "[CV] END ...max_depth=5, max_features=sqrt, n_estimators=150; total time=   0.3s\n",
      "[CV] END ...max_depth=5, max_features=sqrt, n_estimators=150; total time=   0.3s\n",
      "[CV] END ...max_depth=5, max_features=sqrt, n_estimators=150; total time=   0.3s\n",
      "[CV] END ...max_depth=5, max_features=sqrt, n_estimators=150; total time=   0.3s\n",
      "[CV] END ...max_depth=5, max_features=sqrt, n_estimators=150; total time=   0.3s\n",
      "[CV] END ...max_depth=5, max_features=sqrt, n_estimators=200; total time=   0.4s\n",
      "[CV] END ...max_depth=5, max_features=sqrt, n_estimators=200; total time=   0.4s\n",
      "[CV] END ...max_depth=5, max_features=sqrt, n_estimators=200; total time=   0.4s\n",
      "[CV] END ...max_depth=5, max_features=sqrt, n_estimators=200; total time=   0.3s\n",
      "[CV] END ...max_depth=5, max_features=sqrt, n_estimators=200; total time=   0.3s\n",
      "[CV] END ...max_depth=5, max_features=sqrt, n_estimators=250; total time=   0.4s\n",
      "[CV] END ...max_depth=5, max_features=sqrt, n_estimators=250; total time=   0.5s\n",
      "[CV] END ...max_depth=5, max_features=sqrt, n_estimators=250; total time=   0.4s\n",
      "[CV] END ...max_depth=5, max_features=sqrt, n_estimators=250; total time=   0.4s\n",
      "[CV] END ...max_depth=5, max_features=sqrt, n_estimators=250; total time=   0.4s\n",
      "[CV] END ...max_depth=5, max_features=sqrt, n_estimators=300; total time=   0.6s\n",
      "[CV] END ...max_depth=5, max_features=sqrt, n_estimators=300; total time=   0.5s\n",
      "[CV] END ...max_depth=5, max_features=sqrt, n_estimators=300; total time=   0.5s\n",
      "[CV] END ...max_depth=5, max_features=sqrt, n_estimators=300; total time=   0.5s\n",
      "[CV] END ...max_depth=5, max_features=sqrt, n_estimators=300; total time=   0.4s\n",
      "[CV] END ...max_depth=5, max_features=sqrt, n_estimators=350; total time=   0.5s\n",
      "[CV] END ...max_depth=5, max_features=sqrt, n_estimators=350; total time=   0.5s\n",
      "[CV] END ...max_depth=5, max_features=sqrt, n_estimators=350; total time=   0.5s\n",
      "[CV] END ...max_depth=5, max_features=sqrt, n_estimators=350; total time=   0.6s\n",
      "[CV] END ...max_depth=5, max_features=sqrt, n_estimators=350; total time=   0.6s\n",
      "[CV] END ...max_depth=5, max_features=sqrt, n_estimators=400; total time=   0.7s\n",
      "[CV] END ...max_depth=5, max_features=sqrt, n_estimators=400; total time=   0.8s\n",
      "[CV] END ...max_depth=5, max_features=sqrt, n_estimators=400; total time=   0.7s\n",
      "[CV] END ...max_depth=5, max_features=sqrt, n_estimators=400; total time=   0.7s\n",
      "[CV] END ...max_depth=5, max_features=sqrt, n_estimators=400; total time=   0.7s\n",
      "[CV] END ...max_depth=5, max_features=sqrt, n_estimators=450; total time=   0.7s\n",
      "[CV] END ...max_depth=5, max_features=sqrt, n_estimators=450; total time=   0.8s\n",
      "[CV] END ...max_depth=5, max_features=sqrt, n_estimators=450; total time=   0.8s\n",
      "[CV] END ...max_depth=5, max_features=sqrt, n_estimators=450; total time=   0.7s\n",
      "[CV] END ...max_depth=5, max_features=sqrt, n_estimators=450; total time=   0.8s\n",
      "[CV] END ...max_depth=5, max_features=sqrt, n_estimators=500; total time=   0.9s\n",
      "[CV] END ...max_depth=5, max_features=sqrt, n_estimators=500; total time=   0.8s\n",
      "[CV] END ...max_depth=5, max_features=sqrt, n_estimators=500; total time=   0.9s\n",
      "[CV] END ...max_depth=5, max_features=sqrt, n_estimators=500; total time=   1.0s\n",
      "[CV] END ...max_depth=5, max_features=sqrt, n_estimators=500; total time=   1.0s\n",
      "[CV] END ..max_depth=10, max_features=sqrt, n_estimators=150; total time=   0.3s\n",
      "[CV] END ..max_depth=10, max_features=sqrt, n_estimators=150; total time=   0.2s\n",
      "[CV] END ..max_depth=10, max_features=sqrt, n_estimators=150; total time=   0.3s\n",
      "[CV] END ..max_depth=10, max_features=sqrt, n_estimators=150; total time=   0.2s\n",
      "[CV] END ..max_depth=10, max_features=sqrt, n_estimators=150; total time=   0.2s\n",
      "[CV] END ..max_depth=10, max_features=sqrt, n_estimators=200; total time=   0.3s\n",
      "[CV] END ..max_depth=10, max_features=sqrt, n_estimators=200; total time=   0.3s\n",
      "[CV] END ..max_depth=10, max_features=sqrt, n_estimators=200; total time=   0.3s\n",
      "[CV] END ..max_depth=10, max_features=sqrt, n_estimators=200; total time=   0.3s\n",
      "[CV] END ..max_depth=10, max_features=sqrt, n_estimators=200; total time=   0.3s\n",
      "[CV] END ..max_depth=10, max_features=sqrt, n_estimators=250; total time=   0.4s\n",
      "[CV] END ..max_depth=10, max_features=sqrt, n_estimators=250; total time=   0.4s\n",
      "[CV] END ..max_depth=10, max_features=sqrt, n_estimators=250; total time=   0.4s\n",
      "[CV] END ..max_depth=10, max_features=sqrt, n_estimators=250; total time=   0.4s\n",
      "[CV] END ..max_depth=10, max_features=sqrt, n_estimators=250; total time=   0.4s\n",
      "[CV] END ..max_depth=10, max_features=sqrt, n_estimators=300; total time=   0.5s\n",
      "[CV] END ..max_depth=10, max_features=sqrt, n_estimators=300; total time=   0.6s\n",
      "[CV] END ..max_depth=10, max_features=sqrt, n_estimators=300; total time=   0.6s\n",
      "[CV] END ..max_depth=10, max_features=sqrt, n_estimators=300; total time=   0.6s\n",
      "[CV] END ..max_depth=10, max_features=sqrt, n_estimators=300; total time=   0.5s\n",
      "[CV] END ..max_depth=10, max_features=sqrt, n_estimators=350; total time=   0.7s\n",
      "[CV] END ..max_depth=10, max_features=sqrt, n_estimators=350; total time=   0.7s\n",
      "[CV] END ..max_depth=10, max_features=sqrt, n_estimators=350; total time=   0.8s\n",
      "[CV] END ..max_depth=10, max_features=sqrt, n_estimators=350; total time=   0.8s\n",
      "[CV] END ..max_depth=10, max_features=sqrt, n_estimators=350; total time=   0.7s\n",
      "[CV] END ..max_depth=10, max_features=sqrt, n_estimators=400; total time=   0.7s\n",
      "[CV] END ..max_depth=10, max_features=sqrt, n_estimators=400; total time=   0.8s\n",
      "[CV] END ..max_depth=10, max_features=sqrt, n_estimators=400; total time=   0.7s\n",
      "[CV] END ..max_depth=10, max_features=sqrt, n_estimators=400; total time=   0.8s\n",
      "[CV] END ..max_depth=10, max_features=sqrt, n_estimators=400; total time=   0.9s\n",
      "[CV] END ..max_depth=10, max_features=sqrt, n_estimators=450; total time=   0.8s\n",
      "[CV] END ..max_depth=10, max_features=sqrt, n_estimators=450; total time=   0.9s\n",
      "[CV] END ..max_depth=10, max_features=sqrt, n_estimators=450; total time=   1.3s\n",
      "[CV] END ..max_depth=10, max_features=sqrt, n_estimators=450; total time=   1.2s\n",
      "[CV] END ..max_depth=10, max_features=sqrt, n_estimators=450; total time=   1.0s\n",
      "[CV] END ..max_depth=10, max_features=sqrt, n_estimators=500; total time=   1.1s\n",
      "[CV] END ..max_depth=10, max_features=sqrt, n_estimators=500; total time=   1.0s\n",
      "[CV] END ..max_depth=10, max_features=sqrt, n_estimators=500; total time=   0.8s\n",
      "[CV] END ..max_depth=10, max_features=sqrt, n_estimators=500; total time=   1.0s\n",
      "[CV] END ..max_depth=10, max_features=sqrt, n_estimators=500; total time=   1.0s\n",
      "[CV] END ..max_depth=20, max_features=sqrt, n_estimators=150; total time=   0.3s\n",
      "[CV] END ..max_depth=20, max_features=sqrt, n_estimators=150; total time=   0.3s\n",
      "[CV] END ..max_depth=20, max_features=sqrt, n_estimators=150; total time=   0.3s\n",
      "[CV] END ..max_depth=20, max_features=sqrt, n_estimators=150; total time=   0.2s\n",
      "[CV] END ..max_depth=20, max_features=sqrt, n_estimators=150; total time=   0.2s\n",
      "[CV] END ..max_depth=20, max_features=sqrt, n_estimators=200; total time=   0.3s\n",
      "[CV] END ..max_depth=20, max_features=sqrt, n_estimators=200; total time=   0.4s\n",
      "[CV] END ..max_depth=20, max_features=sqrt, n_estimators=200; total time=   0.4s\n",
      "[CV] END ..max_depth=20, max_features=sqrt, n_estimators=200; total time=   0.3s\n",
      "[CV] END ..max_depth=20, max_features=sqrt, n_estimators=200; total time=   0.3s\n",
      "[CV] END ..max_depth=20, max_features=sqrt, n_estimators=250; total time=   0.4s\n",
      "[CV] END ..max_depth=20, max_features=sqrt, n_estimators=250; total time=   0.5s\n",
      "[CV] END ..max_depth=20, max_features=sqrt, n_estimators=250; total time=   0.5s\n",
      "[CV] END ..max_depth=20, max_features=sqrt, n_estimators=250; total time=   0.4s\n",
      "[CV] END ..max_depth=20, max_features=sqrt, n_estimators=250; total time=   0.4s\n",
      "[CV] END ..max_depth=20, max_features=sqrt, n_estimators=300; total time=   0.4s\n",
      "[CV] END ..max_depth=20, max_features=sqrt, n_estimators=300; total time=   0.4s\n",
      "[CV] END ..max_depth=20, max_features=sqrt, n_estimators=300; total time=   0.5s\n",
      "[CV] END ..max_depth=20, max_features=sqrt, n_estimators=300; total time=   0.5s\n",
      "[CV] END ..max_depth=20, max_features=sqrt, n_estimators=300; total time=   0.5s\n",
      "[CV] END ..max_depth=20, max_features=sqrt, n_estimators=350; total time=   0.6s\n",
      "[CV] END ..max_depth=20, max_features=sqrt, n_estimators=350; total time=   0.6s\n",
      "[CV] END ..max_depth=20, max_features=sqrt, n_estimators=350; total time=   0.6s\n",
      "[CV] END ..max_depth=20, max_features=sqrt, n_estimators=350; total time=   0.5s\n",
      "[CV] END ..max_depth=20, max_features=sqrt, n_estimators=350; total time=   0.5s\n",
      "[CV] END ..max_depth=20, max_features=sqrt, n_estimators=400; total time=   0.6s\n",
      "[CV] END ..max_depth=20, max_features=sqrt, n_estimators=400; total time=   0.6s\n",
      "[CV] END ..max_depth=20, max_features=sqrt, n_estimators=400; total time=   0.6s\n",
      "[CV] END ..max_depth=20, max_features=sqrt, n_estimators=400; total time=   0.6s\n",
      "[CV] END ..max_depth=20, max_features=sqrt, n_estimators=400; total time=   0.6s\n",
      "[CV] END ..max_depth=20, max_features=sqrt, n_estimators=450; total time=   0.7s\n",
      "[CV] END ..max_depth=20, max_features=sqrt, n_estimators=450; total time=   0.6s\n",
      "[CV] END ..max_depth=20, max_features=sqrt, n_estimators=450; total time=   0.7s\n",
      "[CV] END ..max_depth=20, max_features=sqrt, n_estimators=450; total time=   0.7s\n",
      "[CV] END ..max_depth=20, max_features=sqrt, n_estimators=450; total time=   0.7s\n",
      "[CV] END ..max_depth=20, max_features=sqrt, n_estimators=500; total time=   0.7s\n",
      "[CV] END ..max_depth=20, max_features=sqrt, n_estimators=500; total time=   0.7s\n",
      "[CV] END ..max_depth=20, max_features=sqrt, n_estimators=500; total time=   0.9s\n",
      "[CV] END ..max_depth=20, max_features=sqrt, n_estimators=500; total time=   0.7s\n",
      "[CV] END ..max_depth=20, max_features=sqrt, n_estimators=500; total time=   0.7s\n"
     ]
    },
    {
     "data": {
      "text/markdown": [
       "**Hyperparameters:**"
      ],
      "text/plain": [
       "<IPython.core.display.Markdown object>"
      ]
     },
     "metadata": {},
     "output_type": "display_data"
    },
    {
     "data": {
      "text/html": [
       "<div>\n",
       "<style scoped>\n",
       "    .dataframe tbody tr th:only-of-type {\n",
       "        vertical-align: middle;\n",
       "    }\n",
       "\n",
       "    .dataframe tbody tr th {\n",
       "        vertical-align: top;\n",
       "    }\n",
       "\n",
       "    .dataframe thead th {\n",
       "        text-align: right;\n",
       "    }\n",
       "</style>\n",
       "<table border=\"1\" class=\"dataframe\">\n",
       "  <thead>\n",
       "    <tr style=\"text-align: right;\">\n",
       "      <th></th>\n",
       "      <th>max_depth</th>\n",
       "      <th>max_features</th>\n",
       "      <th>n_estimators</th>\n",
       "    </tr>\n",
       "  </thead>\n",
       "  <tbody>\n",
       "    <tr>\n",
       "      <th>0</th>\n",
       "      <td>5</td>\n",
       "      <td>sqrt</td>\n",
       "      <td>150</td>\n",
       "    </tr>\n",
       "  </tbody>\n",
       "</table>\n",
       "</div>"
      ],
      "text/plain": [
       "   max_depth max_features  n_estimators\n",
       "0          5         sqrt           150"
      ]
     },
     "metadata": {},
     "output_type": "display_data"
    },
    {
     "data": {
      "text/markdown": [
       "**Mean Absolute Error:** 5.1 degrees."
      ],
      "text/plain": [
       "<IPython.core.display.Markdown object>"
      ]
     },
     "metadata": {},
     "output_type": "display_data"
    },
    {
     "data": {
      "text/markdown": [
       "**Pearson:**"
      ],
      "text/plain": [
       "<IPython.core.display.Markdown object>"
      ]
     },
     "metadata": {},
     "output_type": "display_data"
    },
    {
     "data": {
      "text/html": [
       "<div>\n",
       "<style scoped>\n",
       "    .dataframe tbody tr th:only-of-type {\n",
       "        vertical-align: middle;\n",
       "    }\n",
       "\n",
       "    .dataframe tbody tr th {\n",
       "        vertical-align: top;\n",
       "    }\n",
       "\n",
       "    .dataframe thead th {\n",
       "        text-align: right;\n",
       "    }\n",
       "</style>\n",
       "<table border=\"1\" class=\"dataframe\">\n",
       "  <thead>\n",
       "    <tr style=\"text-align: right;\">\n",
       "      <th></th>\n",
       "      <th>n</th>\n",
       "      <th>r</th>\n",
       "      <th>CI95%</th>\n",
       "      <th>p-val</th>\n",
       "      <th>BF10</th>\n",
       "      <th>power</th>\n",
       "    </tr>\n",
       "  </thead>\n",
       "  <tbody>\n",
       "    <tr>\n",
       "      <th>pearson</th>\n",
       "      <td>34</td>\n",
       "      <td>0.56131</td>\n",
       "      <td>[0.28, 0.76]</td>\n",
       "      <td>0.00055</td>\n",
       "      <td>64.875</td>\n",
       "      <td>0.94712</td>\n",
       "    </tr>\n",
       "  </tbody>\n",
       "</table>\n",
       "</div>"
      ],
      "text/plain": [
       "          n       r         CI95%   p-val    BF10   power\n",
       "pearson  34 0.56131  [0.28, 0.76] 0.00055  64.875 0.94712"
      ]
     },
     "metadata": {},
     "output_type": "display_data"
    },
    {
     "data": {
      "text/markdown": [
       "**R^2 Score:**"
      ],
      "text/plain": [
       "<IPython.core.display.Markdown object>"
      ]
     },
     "metadata": {},
     "output_type": "display_data"
    },
    {
     "data": {
      "text/plain": [
       "0.31179281889864563"
      ]
     },
     "metadata": {},
     "output_type": "display_data"
    },
    {
     "data": {
      "application/vnd.plotly.v1+json": {
       "config": {
        "displaylogo": false,
        "modeBarButtonsToRemove": [
         "sendDataToCloud",
         "lasso2d",
         "autoScale2d",
         "select2d",
         "zoom2d",
         "pan2d",
         "zoomIn2d",
         "zoomOut2d",
         "resetScale2d",
         "toggleSpikelines",
         "hoverCompareCartesian",
         "hoverClosestCartesian"
        ],
        "plotlyServerURL": "https://plot.ly",
        "staticPlot": false,
        "toImageButtonOptions": {
         "height": null,
         "width": null
        }
       },
       "data": [
        {
         "base": 2.462866818893211,
         "hoverinfo": "text",
         "hoverlabel": {
          "bgcolor": "rgba(0, 0, 0, 0.8)"
         },
         "hovertext": [
          "Model: RandomForestRegressor loss after<br>variable: rapid is permuted: 3.048<br>Drop-out loss change: +0.586",
          "Model: RandomForestRegressor loss after<br>variable: comp_co5 is permuted: 2.891<br>Drop-out loss change: +0.428",
          "Model: RandomForestRegressor loss after<br>variable: comp_average is permuted: 2.854<br>Drop-out loss change: +0.391",
          "Model: RandomForestRegressor loss after<br>variable: comp_co6 is permuted: 2.844<br>Drop-out loss change: +0.382",
          "Model: RandomForestRegressor loss after<br>variable: cumu_a_time is permuted: 2.813<br>Drop-out loss change: +0.35",
          "Model: RandomForestRegressor loss after<br>variable: comp_mg1 is permuted: 2.785<br>Drop-out loss change: +0.323",
          "Model: RandomForestRegressor loss after<br>variable: n_complete is permuted: 2.763<br>Drop-out loss change: +0.3",
          "Model: RandomForestRegressor loss after<br>variable: unproductive is permuted: 2.735<br>Drop-out loss change: +0.272",
          "Model: RandomForestRegressor loss after<br>variable: incomplete_active is permuted: 2.709<br>Drop-out loss change: +0.246",
          "Model: RandomForestRegressor loss after<br>variable: productive is permuted: 2.685<br>Drop-out loss change: +0.222"
         ],
         "marker": {
          "color": "#46bac2"
         },
         "orientation": "h",
         "showlegend": false,
         "text": [
          "+0.586",
          "+0.428",
          "+0.391",
          "+0.382",
          "+0.35",
          "+0.323",
          "+0.3",
          "+0.272",
          "+0.246",
          "+0.222"
         ],
         "textposition": "outside",
         "type": "bar",
         "x": [
          0.585537705351753,
          0.4282635082603852,
          0.39117438348328903,
          0.3816240802804751,
          0.35006435140022196,
          0.3225214874402198,
          0.30013437140307,
          0.27190649670805644,
          0.2457950246987397,
          0.22189568181251262
         ],
         "xaxis": "x",
         "y": [
          "rapid",
          "comp_co5",
          "comp_average",
          "comp_co6",
          "cumu_a_time",
          "comp_mg1",
          "n_complete",
          "unproductive",
          "incomplete_active",
          "productive"
         ],
         "yaxis": "y"
        }
       ],
       "layout": {
        "annotations": [
         {
          "font": {
           "size": 16
          },
          "showarrow": false,
          "text": "RandomForestRegressor",
          "x": 0.5,
          "xanchor": "center",
          "xref": "paper",
          "y": 1,
          "yanchor": "bottom",
          "yref": "paper"
         },
         {
          "font": {
           "size": 16
          },
          "showarrow": false,
          "text": "drop-out loss",
          "x": 0.5,
          "xanchor": "center",
          "xref": "paper",
          "y": 0,
          "yanchor": "top",
          "yref": "paper",
          "yshift": -30
         }
        ],
        "autosize": true,
        "font": {
         "color": "#371ea3"
        },
        "margin": {
         "b": 71,
         "r": 30,
         "t": 78
        },
        "shapes": [
         {
          "line": {
           "color": "#371ea3",
           "dash": "dot",
           "width": 1.5
          },
          "type": "line",
          "x0": 2.462866818893211,
          "x1": 2.462866818893211,
          "xref": "x",
          "y0": -1,
          "y1": 10,
          "yref": "y"
         }
        ],
        "template": {
         "data": {
          "scatter": [
           {
            "type": "scatter"
           }
          ]
         }
        },
        "title": {
         "text": "Variable Importance",
         "x": 0.15
        },
        "xaxis": {
         "anchor": "y",
         "automargin": true,
         "domain": [
          0,
          1
         ],
         "fixedrange": true,
         "gridwidth": 2,
         "range": [
          2.375036163090448,
          3.136235180047727
         ],
         "tickcolor": "white",
         "ticklen": 3,
         "ticks": "outside",
         "type": "linear",
         "zeroline": false
        },
        "yaxis": {
         "anchor": "x",
         "automargin": true,
         "autorange": true,
         "domain": [
          0,
          1
         ],
         "fixedrange": true,
         "gridwidth": 2,
         "range": [
          10.035483870967742,
          -1.0354838709677419
         ],
         "tickcolor": "white",
         "ticklen": 10,
         "ticks": "outside",
         "type": "category"
        }
       }
      },
      "image/png": "[encoded data removed]",
      "text/html": [
       "<div>                            <div id=\"cdcc6732-475e-4f13-abc1-bafefab755f7\" class=\"plotly-graph-div\" style=\"height:383.0px; width:100%;\"></div>            <script type=\"text/javascript\">                require([\"plotly\"], function(Plotly) {                    window.PLOTLYENV=window.PLOTLYENV || {};                                    if (document.getElementById(\"cdcc6732-475e-4f13-abc1-bafefab755f7\")) {                    Plotly.newPlot(                        \"cdcc6732-475e-4f13-abc1-bafefab755f7\",                        [{\"base\":2.462866818893211,\"hoverinfo\":\"text\",\"hoverlabel\":{\"bgcolor\":\"rgba(0,0,0,0.8)\"},\"hovertext\":[\"Model: RandomForestRegressor loss after<br>variable: rapid is permuted: 3.048<br>Drop-out loss change: +0.586\",\"Model: RandomForestRegressor loss after<br>variable: comp_co5 is permuted: 2.891<br>Drop-out loss change: +0.428\",\"Model: RandomForestRegressor loss after<br>variable: comp_average is permuted: 2.854<br>Drop-out loss change: +0.391\",\"Model: RandomForestRegressor loss after<br>variable: comp_co6 is permuted: 2.844<br>Drop-out loss change: +0.382\",\"Model: RandomForestRegressor loss after<br>variable: cumu_a_time is permuted: 2.813<br>Drop-out loss change: +0.35\",\"Model: RandomForestRegressor loss after<br>variable: comp_mg1 is permuted: 2.785<br>Drop-out loss change: +0.323\",\"Model: RandomForestRegressor loss after<br>variable: n_complete is permuted: 2.763<br>Drop-out loss change: +0.3\",\"Model: RandomForestRegressor loss after<br>variable: unproductive is permuted: 2.735<br>Drop-out loss change: +0.272\",\"Model: RandomForestRegressor loss after<br>variable: incomplete_active is permuted: 2.709<br>Drop-out loss change: +0.246\",\"Model: RandomForestRegressor loss after<br>variable: productive is permuted: 2.685<br>Drop-out loss change: +0.222\"],\"marker\":{\"color\":\"#46bac2\"},\"orientation\":\"h\",\"showlegend\":false,\"text\":[\"+0.586\",\"+0.428\",\"+0.391\",\"+0.382\",\"+0.35\",\"+0.323\",\"+0.3\",\"+0.272\",\"+0.246\",\"+0.222\"],\"textposition\":\"outside\",\"x\":[0.585537705351753,0.4282635082603852,0.39117438348328903,0.3816240802804751,0.35006435140022196,0.3225214874402198,0.30013437140307,0.27190649670805644,0.2457950246987397,0.22189568181251262],\"y\":[\"rapid\",\"comp_co5\",\"comp_average\",\"comp_co6\",\"cumu_a_time\",\"comp_mg1\",\"n_complete\",\"unproductive\",\"incomplete_active\",\"productive\"],\"type\":\"bar\",\"xaxis\":\"x\",\"yaxis\":\"y\"}],                        {\"template\":{\"data\":{\"scatter\":[{\"type\":\"scatter\"}]}},\"xaxis\":{\"anchor\":\"y\",\"domain\":[0.0,1.0],\"type\":\"linear\",\"gridwidth\":2,\"zeroline\":false,\"automargin\":true,\"ticks\":\"outside\",\"tickcolor\":\"white\",\"ticklen\":3,\"fixedrange\":true,\"range\":[2.375036163090448,3.136235180047727]},\"yaxis\":{\"anchor\":\"x\",\"domain\":[0.0,1.0],\"type\":\"category\",\"autorange\":\"reversed\",\"gridwidth\":2,\"automargin\":true,\"ticks\":\"outside\",\"tickcolor\":\"white\",\"ticklen\":10,\"fixedrange\":true},\"annotations\":[{\"font\":{\"size\":16},\"showarrow\":false,\"text\":\"RandomForestRegressor\",\"x\":0.5,\"xanchor\":\"center\",\"xref\":\"paper\",\"y\":1.0,\"yanchor\":\"bottom\",\"yref\":\"paper\"},{\"font\":{\"size\":16},\"showarrow\":false,\"text\":\"drop-out loss\",\"x\":0.5,\"xanchor\":\"center\",\"xref\":\"paper\",\"y\":0,\"yanchor\":\"top\",\"yref\":\"paper\",\"yshift\":-30}],\"shapes\":[{\"line\":{\"color\":\"#371ea3\",\"dash\":\"dot\",\"width\":1.5},\"type\":\"line\",\"x0\":2.462866818893211,\"x1\":2.462866818893211,\"xref\":\"x\",\"y0\":-1,\"y1\":10,\"yref\":\"y\"}],\"title\":{\"text\":\"Variable Importance\",\"x\":0.15},\"font\":{\"color\":\"#371ea3\"},\"margin\":{\"t\":78,\"b\":71,\"r\":30},\"height\":383.0},                        {\"displaylogo\": false, \"staticPlot\": false, \"toImageButtonOptions\": {\"height\": null, \"width\": null}, \"modeBarButtonsToRemove\": [\"sendDataToCloud\", \"lasso2d\", \"autoScale2d\", \"select2d\", \"zoom2d\", \"pan2d\", \"zoomIn2d\", \"zoomOut2d\", \"resetScale2d\", \"toggleSpikelines\", \"hoverCompareCartesian\", \"hoverClosestCartesian\"], \"responsive\": true}                    ).then(function(){\n",
       "                            \n",
       "var gd = document.getElementById('cdcc6732-475e-4f13-abc1-bafefab755f7');\n",
       "var x = new MutationObserver(function (mutations, observer) {{\n",
       "        var display = window.getComputedStyle(gd).display;\n",
       "        if (!display || display === 'none') {{\n",
       "            console.log([gd, 'removed!']);\n",
       "            Plotly.purge(gd);\n",
       "            observer.disconnect();\n",
       "        }}\n",
       "}});\n",
       "\n",
       "// Listen for the removal of the full notebook cells\n",
       "var notebookContainer = gd.closest('#notebook-container');\n",
       "if (notebookContainer) {{\n",
       "    x.observe(notebookContainer, {childList: true});\n",
       "}}\n",
       "\n",
       "// Listen for the clearing of the current output cell\n",
       "var outputEl = gd.closest('.output');\n",
       "if (outputEl) {{\n",
       "    x.observe(outputEl, {childList: true});\n",
       "}}\n",
       "\n",
       "                        })                };                });            </script>        </div>"
      ]
     },
     "metadata": {},
     "output_type": "display_data"
    },
    {
     "data": {
      "text/markdown": [
       "## gender_number"
      ],
      "text/plain": [
       "<IPython.core.display.Markdown object>"
      ]
     },
     "metadata": {},
     "output_type": "display_data"
    },
    {
     "data": {
      "text/markdown": [
       "### where gender_number==0.0"
      ],
      "text/plain": [
       "<IPython.core.display.Markdown object>"
      ]
     },
     "metadata": {},
     "output_type": "display_data"
    },
    {
     "data": {
      "text/markdown": [
       "**Mean Absolute Error:** 6.21 degrees."
      ],
      "text/plain": [
       "<IPython.core.display.Markdown object>"
      ]
     },
     "metadata": {},
     "output_type": "display_data"
    },
    {
     "data": {
      "text/markdown": [
       "**Pearson:**"
      ],
      "text/plain": [
       "<IPython.core.display.Markdown object>"
      ]
     },
     "metadata": {},
     "output_type": "display_data"
    },
    {
     "data": {
      "text/html": [
       "<div>\n",
       "<style scoped>\n",
       "    .dataframe tbody tr th:only-of-type {\n",
       "        vertical-align: middle;\n",
       "    }\n",
       "\n",
       "    .dataframe tbody tr th {\n",
       "        vertical-align: top;\n",
       "    }\n",
       "\n",
       "    .dataframe thead th {\n",
       "        text-align: right;\n",
       "    }\n",
       "</style>\n",
       "<table border=\"1\" class=\"dataframe\">\n",
       "  <thead>\n",
       "    <tr style=\"text-align: right;\">\n",
       "      <th></th>\n",
       "      <th>n</th>\n",
       "      <th>r</th>\n",
       "      <th>CI95%</th>\n",
       "      <th>p-val</th>\n",
       "      <th>BF10</th>\n",
       "      <th>power</th>\n",
       "    </tr>\n",
       "  </thead>\n",
       "  <tbody>\n",
       "    <tr>\n",
       "      <th>pearson</th>\n",
       "      <td>13</td>\n",
       "      <td>0.53399</td>\n",
       "      <td>[-0.02, 0.84]</td>\n",
       "      <td>0.06015</td>\n",
       "      <td>1.692</td>\n",
       "      <td>0.49418</td>\n",
       "    </tr>\n",
       "  </tbody>\n",
       "</table>\n",
       "</div>"
      ],
      "text/plain": [
       "          n       r          CI95%   p-val   BF10   power\n",
       "pearson  13 0.53399  [-0.02, 0.84] 0.06015  1.692 0.49418"
      ]
     },
     "metadata": {},
     "output_type": "display_data"
    },
    {
     "data": {
      "text/markdown": [
       "**R^2 Score:**"
      ],
      "text/plain": [
       "<IPython.core.display.Markdown object>"
      ]
     },
     "metadata": {},
     "output_type": "display_data"
    },
    {
     "data": {
      "text/plain": [
       "0.2523442919511466"
      ]
     },
     "metadata": {},
     "output_type": "display_data"
    },
    {
     "data": {
      "text/markdown": [
       "### where gender_number==1.0"
      ],
      "text/plain": [
       "<IPython.core.display.Markdown object>"
      ]
     },
     "metadata": {},
     "output_type": "display_data"
    },
    {
     "data": {
      "text/markdown": [
       "**Mean Absolute Error:** 4.42 degrees."
      ],
      "text/plain": [
       "<IPython.core.display.Markdown object>"
      ]
     },
     "metadata": {},
     "output_type": "display_data"
    },
    {
     "data": {
      "text/markdown": [
       "**Pearson:**"
      ],
      "text/plain": [
       "<IPython.core.display.Markdown object>"
      ]
     },
     "metadata": {},
     "output_type": "display_data"
    },
    {
     "data": {
      "text/html": [
       "<div>\n",
       "<style scoped>\n",
       "    .dataframe tbody tr th:only-of-type {\n",
       "        vertical-align: middle;\n",
       "    }\n",
       "\n",
       "    .dataframe tbody tr th {\n",
       "        vertical-align: top;\n",
       "    }\n",
       "\n",
       "    .dataframe thead th {\n",
       "        text-align: right;\n",
       "    }\n",
       "</style>\n",
       "<table border=\"1\" class=\"dataframe\">\n",
       "  <thead>\n",
       "    <tr style=\"text-align: right;\">\n",
       "      <th></th>\n",
       "      <th>n</th>\n",
       "      <th>r</th>\n",
       "      <th>CI95%</th>\n",
       "      <th>p-val</th>\n",
       "      <th>BF10</th>\n",
       "      <th>power</th>\n",
       "    </tr>\n",
       "  </thead>\n",
       "  <tbody>\n",
       "    <tr>\n",
       "      <th>pearson</th>\n",
       "      <td>21</td>\n",
       "      <td>0.42829</td>\n",
       "      <td>[-0.0, 0.73]</td>\n",
       "      <td>0.05274</td>\n",
       "      <td>1.57</td>\n",
       "      <td>0.50867</td>\n",
       "    </tr>\n",
       "  </tbody>\n",
       "</table>\n",
       "</div>"
      ],
      "text/plain": [
       "          n       r         CI95%   p-val  BF10   power\n",
       "pearson  21 0.42829  [-0.0, 0.73] 0.05274  1.57 0.50867"
      ]
     },
     "metadata": {},
     "output_type": "display_data"
    },
    {
     "data": {
      "text/markdown": [
       "**R^2 Score:**"
      ],
      "text/plain": [
       "<IPython.core.display.Markdown object>"
      ]
     },
     "metadata": {},
     "output_type": "display_data"
    },
    {
     "data": {
      "text/plain": [
       "0.15027912816533096"
      ]
     },
     "metadata": {},
     "output_type": "display_data"
    },
    {
     "data": {
      "text/markdown": [
       "## hand_number"
      ],
      "text/plain": [
       "<IPython.core.display.Markdown object>"
      ]
     },
     "metadata": {},
     "output_type": "display_data"
    },
    {
     "data": {
      "text/markdown": [
       "### where hand_number==0.0"
      ],
      "text/plain": [
       "<IPython.core.display.Markdown object>"
      ]
     },
     "metadata": {},
     "output_type": "display_data"
    },
    {
     "data": {
      "text/markdown": [
       "**Mean Absolute Error:** 5.2 degrees."
      ],
      "text/plain": [
       "<IPython.core.display.Markdown object>"
      ]
     },
     "metadata": {},
     "output_type": "display_data"
    },
    {
     "data": {
      "text/markdown": [
       "**Pearson:**"
      ],
      "text/plain": [
       "<IPython.core.display.Markdown object>"
      ]
     },
     "metadata": {},
     "output_type": "display_data"
    },
    {
     "data": {
      "text/html": [
       "<div>\n",
       "<style scoped>\n",
       "    .dataframe tbody tr th:only-of-type {\n",
       "        vertical-align: middle;\n",
       "    }\n",
       "\n",
       "    .dataframe tbody tr th {\n",
       "        vertical-align: top;\n",
       "    }\n",
       "\n",
       "    .dataframe thead th {\n",
       "        text-align: right;\n",
       "    }\n",
       "</style>\n",
       "<table border=\"1\" class=\"dataframe\">\n",
       "  <thead>\n",
       "    <tr style=\"text-align: right;\">\n",
       "      <th></th>\n",
       "      <th>n</th>\n",
       "      <th>r</th>\n",
       "      <th>CI95%</th>\n",
       "      <th>p-val</th>\n",
       "      <th>BF10</th>\n",
       "      <th>power</th>\n",
       "    </tr>\n",
       "  </thead>\n",
       "  <tbody>\n",
       "    <tr>\n",
       "      <th>pearson</th>\n",
       "      <td>26</td>\n",
       "      <td>0.58590</td>\n",
       "      <td>[0.26, 0.79]</td>\n",
       "      <td>0.00166</td>\n",
       "      <td>26.319</td>\n",
       "      <td>0.90509</td>\n",
       "    </tr>\n",
       "  </tbody>\n",
       "</table>\n",
       "</div>"
      ],
      "text/plain": [
       "          n       r         CI95%   p-val    BF10   power\n",
       "pearson  26 0.58590  [0.26, 0.79] 0.00166  26.319 0.90509"
      ]
     },
     "metadata": {},
     "output_type": "display_data"
    },
    {
     "data": {
      "text/markdown": [
       "**R^2 Score:**"
      ],
      "text/plain": [
       "<IPython.core.display.Markdown object>"
      ]
     },
     "metadata": {},
     "output_type": "display_data"
    },
    {
     "data": {
      "text/plain": [
       "0.32544642860489603"
      ]
     },
     "metadata": {},
     "output_type": "display_data"
    },
    {
     "data": {
      "text/markdown": [
       "### where hand_number==1.0"
      ],
      "text/plain": [
       "<IPython.core.display.Markdown object>"
      ]
     },
     "metadata": {},
     "output_type": "display_data"
    },
    {
     "data": {
      "text/markdown": [
       "**Mean Absolute Error:** 4.8 degrees."
      ],
      "text/plain": [
       "<IPython.core.display.Markdown object>"
      ]
     },
     "metadata": {},
     "output_type": "display_data"
    },
    {
     "data": {
      "text/markdown": [
       "**Pearson:**"
      ],
      "text/plain": [
       "<IPython.core.display.Markdown object>"
      ]
     },
     "metadata": {},
     "output_type": "display_data"
    },
    {
     "data": {
      "text/html": [
       "<div>\n",
       "<style scoped>\n",
       "    .dataframe tbody tr th:only-of-type {\n",
       "        vertical-align: middle;\n",
       "    }\n",
       "\n",
       "    .dataframe tbody tr th {\n",
       "        vertical-align: top;\n",
       "    }\n",
       "\n",
       "    .dataframe thead th {\n",
       "        text-align: right;\n",
       "    }\n",
       "</style>\n",
       "<table border=\"1\" class=\"dataframe\">\n",
       "  <thead>\n",
       "    <tr style=\"text-align: right;\">\n",
       "      <th></th>\n",
       "      <th>n</th>\n",
       "      <th>r</th>\n",
       "      <th>CI95%</th>\n",
       "      <th>p-val</th>\n",
       "      <th>BF10</th>\n",
       "      <th>power</th>\n",
       "    </tr>\n",
       "  </thead>\n",
       "  <tbody>\n",
       "    <tr>\n",
       "      <th>pearson</th>\n",
       "      <td>8</td>\n",
       "      <td>0.48004</td>\n",
       "      <td>[-0.34, 0.89]</td>\n",
       "      <td>0.22864</td>\n",
       "      <td>0.811</td>\n",
       "      <td>0.23551</td>\n",
       "    </tr>\n",
       "  </tbody>\n",
       "</table>\n",
       "</div>"
      ],
      "text/plain": [
       "         n       r          CI95%   p-val   BF10   power\n",
       "pearson  8 0.48004  [-0.34, 0.89] 0.22864  0.811 0.23551"
      ]
     },
     "metadata": {},
     "output_type": "display_data"
    },
    {
     "data": {
      "text/markdown": [
       "**R^2 Score:**"
      ],
      "text/plain": [
       "<IPython.core.display.Markdown object>"
      ]
     },
     "metadata": {},
     "output_type": "display_data"
    },
    {
     "data": {
      "text/plain": [
       "0.186201110104379"
      ]
     },
     "metadata": {},
     "output_type": "display_data"
    }
   ],
   "source": [
    "run_regressor(\"rf\", \"sbst\", features, protecteds)"
   ]
  },
  {
   "cell_type": "code",
   "execution_count": null,
   "id": "c68eb4e8-a9cf-4784-9663-5caa8932ea4b",
   "metadata": {},
   "outputs": [],
   "source": [
    "# run_regressor(\"xgb\", \"sri\", features, protecteds)"
   ]
  },
  {
   "cell_type": "code",
   "execution_count": null,
   "id": "6ba47ff3-eb0a-4deb-a8ec-aed400944ebd",
   "metadata": {},
   "outputs": [],
   "source": [
    "# run_regressor(\"xgb\", \"sbst\", features, protecteds)"
   ]
  }
 ],
 "metadata": {
  "kernelspec": {
   "display_name": "Python 3 (ipykernel)",
   "language": "python",
   "name": "python3"
  },
  "language_info": {
   "codemirror_mode": {
    "name": "ipython",
    "version": 3
   },
   "file_extension": ".py",
   "mimetype": "text/x-python",
   "name": "python",
   "nbconvert_exporter": "python",
   "pygments_lexer": "ipython3",
   "version": "3.7.12"
  }
 },
 "nbformat": 4,
 "nbformat_minor": 5
}
