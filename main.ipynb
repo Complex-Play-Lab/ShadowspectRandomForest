{
 "cells": [
  {
   "cell_type": "markdown",
   "id": "d4356ab9-ab51-4660-8b49-0859fb38979e",
   "metadata": {},
   "source": [
    "# Import"
   ]
  },
  {
   "cell_type": "code",
   "execution_count": 1,
   "id": "83957627-70f6-4747-958f-ad88d7ab5c00",
   "metadata": {},
   "outputs": [],
   "source": [
    "from pandas import read_csv, DataFrame\n",
    "from scipy.stats import pearsonr, f\n",
    "from sklearn.ensemble import RandomForestRegressor\n",
    "from sklearn.inspection import permutation_importance\n",
    "from sklearn.model_selection import cross_val_predict, cross_validate, RandomizedSearchCV\n",
    "from sklearn.metrics import r2_score\n",
    "from numpy import array, mean, append, unique\n",
    "from matplotlib.pyplot import subplots\n",
    "from matplotlib.cm import get_cmap\n",
    "from os import makedirs\n",
    "from IPython.display import display, Markdown\n",
    "from statsmodels.formula.api import glm\n",
    "from math import ceil, floor, sqrt\n",
    "from pingouin import anova, cronbach_alpha, pairwise_corr, linear_regression, corr\n",
    "from xgboost import XGBRegressor\n",
    "from dalex import Explainer\n",
    "from warnings import filterwarnings\n",
    "filterwarnings('ignore')"
   ]
  },
  {
   "cell_type": "markdown",
   "id": "83986d87-c5cf-4feb-b786-dd44cc4bfc9c",
   "metadata": {},
   "source": [
    "# Setup\n",
    "## Load data and setup output dir"
   ]
  },
  {
   "cell_type": "code",
   "execution_count": 2,
   "id": "3fa69b4c-8a45-4a37-b912-8903f313bb9f",
   "metadata": {},
   "outputs": [],
   "source": [
    "data = read_csv(\"data/anon.csv\", sep=\"\\t\")\n",
    "makedirs(\"output\", exist_ok=True)"
   ]
  },
  {
   "cell_type": "markdown",
   "id": "0d021220-035d-4833-b57e-8d918b399b23",
   "metadata": {},
   "source": [
    "## Factoring categorical data"
   ]
  },
  {
   "cell_type": "code",
   "execution_count": 3,
   "id": "ce66d455-bfab-4e95-9ca4-dfb8c22dde09",
   "metadata": {},
   "outputs": [],
   "source": [
    "data[\"q15_gpa\"] = data[\"q15\"].map({\n",
    "    \"A\": 4,\n",
    "    \"B\": 3,\n",
    "    \"C\": 2,\n",
    "    \"D\": 1,\n",
    "    \"F\": 0\n",
    "})\n",
    "\n",
    "data[\"gender_number\"] = data[\"gender\"].map({\n",
    "    \"Male\": 0,\n",
    "    \"Female\": 1\n",
    "})\n",
    "\n",
    "data[\"hand_number\"] = data[\"hand\"].map({\n",
    "    \"Right-handed\": 0,\n",
    "    \"Left-handed\": 1\n",
    "})\n",
    "\n",
    "data[\"gamer_number\"] = data[\"q9\"].map({\n",
    "    \"A frequent video game player\": 1,\n",
    "    \"An occasional video game player\": 1,\n",
    "    \"A novice video game player\": 0,\n",
    "    \"A non-video game player\": 0\n",
    "})"
   ]
  },
  {
   "cell_type": "markdown",
   "id": "8109e4c9-dff1-4927-9608-8bbc59d6042f",
   "metadata": {},
   "source": [
    "## Composite values"
   ]
  },
  {
   "cell_type": "code",
   "execution_count": 4,
   "id": "363a975b-1c14-40dd-b528-f149a96f3d4f",
   "metadata": {},
   "outputs": [],
   "source": [
    "agree_map = {\n",
    "    \"Strongly agree\": 2,\n",
    "    \"Somewhat agree\": 1,\n",
    "    \"Neither agree nor disagree\": 0,\n",
    "    \"Somewhate disagree\": -1,\n",
    "    \"Strongly disagree\": -2,\n",
    "}\n",
    "\n",
    "data[\"enjoyment\"] = data[\"q1_1\"].map(agree_map).fillna(0) + data[\"q1_2\"].map(agree_map).fillna(0) - data[\"q1_3\"].map(agree_map).fillna(0) + data[\"q1_4\"].map(agree_map).fillna(0) + data[\"q1_5\"].map(agree_map).fillna(0) + data[\"q1_6\"].map(agree_map).fillna(0)\n",
    "data[\"math_efficacy\"] = data[\"q13_1\"].map(agree_map).fillna(0) + data[\"q13_2\"].map(agree_map).fillna(0) + data[\"q13_3\"].map(agree_map).fillna(0) + data[\"q13_4\"].map(agree_map).fillna(0) + data[\"q13_5\"].map(agree_map).fillna(0) + data[\"q1_6\"].map(agree_map).fillna(0)\n",
    "data[\"math_anxiety\"] = data[\"q14_1\"].map(agree_map).fillna(0) + data[\"q14_2\"].map(agree_map).fillna(0) + data[\"q14_3\"].map(agree_map).fillna(0) + data[\"q14_4\"].map(agree_map).fillna(0) + data[\"q14_5\"].map(agree_map).fillna(0) + data[\"q1_6\"].map(agree_map).fillna(0)\n",
    "data[\"comp_average\"] = data[\"comp_mg1\"] + data[\"comp_gmd4\"] + data[\"comp_co5\"] + data[\"comp_co6\"]"
   ]
  },
  {
   "cell_type": "markdown",
   "id": "0f300d06-08db-46cd-a966-28e120d19e46",
   "metadata": {},
   "source": [
    "# Features and Labels"
   ]
  },
  {
   "cell_type": "code",
   "execution_count": 5,
   "id": "9dd69eda-68ac-45f9-bd88-f2d16c7af4ad",
   "metadata": {},
   "outputs": [],
   "source": [
    "# What columns do we care about and what dependent variable col are we trying to predict?\n",
    "features = [\n",
    "    \"total_events\",\n",
    "    \"total_breaks\",\n",
    "    \"total_submit\",\n",
    "    \"total_snapshot\",\n",
    "    \"total_view\",\n",
    "    \"total_manipulate\",\n",
    "    \"n_puzzle\",\n",
    "    \"n_puz_no_basic\",\n",
    "    \"p_puz_no_basic\",\n",
    "    \"n_complete\",\n",
    "    \"n_tutorial\",\n",
    "    # \"n_interm\", # missing 15+%\n",
    "    # \"n_adv\", # missing over 30 values\n",
    "    \"total_active\",\n",
    "    \"complete_active\",\n",
    "    \"incomplete_active\",\n",
    "    \"tutorial_atime_comp\",\n",
    "    # \"int_atime_comp\", # missing over 30 values\n",
    "    # \"adv_atime_comp\", # missing over 30 values\n",
    "    # \"tutorial_atime_incomp\", # missing over 30 values\n",
    "    # \"int_atime_incomp\", # missing over 30 values\n",
    "    # \"adv_atime_incomp\", # missing over 30 values\n",
    "    \"cumu_a_time\",\n",
    "    \"persistence_score\",\n",
    "    \"non_per\",\n",
    "    \"productive\",\n",
    "    \"unproductive\",\n",
    "    \"rapid\",\n",
    "    \"no_beh\",\n",
    "    \"avg_revisit\",\n",
    "    \"n_attempt\",\n",
    "    \"n_failed_att\",\n",
    "    \"revisits\",\n",
    "    \"diff_event1\",\n",
    "    # \"diff_event2\", # missing 15+%\n",
    "    # \"diff_event3\", # missing over 30 values\n",
    "    \"different_event\",\n",
    "    # \"sbst\", # dependent variable\n",
    "    \"gender_number\",\n",
    "    \"hand_number\",\n",
    "    # \"gamer_number\", # missing 15+%\n",
    "    \"enjoyment\",\n",
    "    \"comp_average\",\n",
    "    \"comp_mg1\",\n",
    "    \"comp_gmd4\",\n",
    "    \"comp_co5\",\n",
    "    \"comp_co6\",\n",
    "    # \"sri\" # dependent variable\n",
    "]\n",
    "\n",
    "labels = [\"sbst\", \"sri\"]\n",
    "protecteds = [\"gender_number\", \"hand_number\"] #, \"gamer_number\"]\n",
    "corr_extras = [\"so\", \"mr\", \"sv\"]\n",
    "everything = features + labels + corr_extras"
   ]
  },
  {
   "cell_type": "markdown",
   "id": "f6f0f2e9-0ee5-4f3b-a711-effc0350ee65",
   "metadata": {},
   "source": [
    "# Descriptive Stats"
   ]
  },
  {
   "cell_type": "markdown",
   "id": "91c1eefd-25a7-433b-94be-856bb71b91a4",
   "metadata": {},
   "source": [
    "## Count missing values"
   ]
  },
  {
   "cell_type": "code",
   "execution_count": 6,
   "id": "c894332d-f5d6-4622-956a-72d02be7f45e",
   "metadata": {},
   "outputs": [
    {
     "name": "stdout",
     "output_type": "stream",
     "text": [
      "Variable: total_events         Count Non-Missing: 47   Count Missing: 0    Percent Missing: 0.0\n",
      "Variable: total_breaks         Count Non-Missing: 47   Count Missing: 0    Percent Missing: 0.0\n",
      "Variable: total_submit         Count Non-Missing: 47   Count Missing: 0    Percent Missing: 0.0\n",
      "Variable: total_snapshot       Count Non-Missing: 47   Count Missing: 0    Percent Missing: 0.0\n",
      "Variable: total_view           Count Non-Missing: 47   Count Missing: 0    Percent Missing: 0.0\n",
      "Variable: total_manipulate     Count Non-Missing: 47   Count Missing: 0    Percent Missing: 0.0\n",
      "Variable: n_puzzle             Count Non-Missing: 47   Count Missing: 0    Percent Missing: 0.0\n",
      "Variable: n_puz_no_basic       Count Non-Missing: 47   Count Missing: 0    Percent Missing: 0.0\n",
      "Variable: p_puz_no_basic       Count Non-Missing: 47   Count Missing: 0    Percent Missing: 0.0\n",
      "Variable: n_complete           Count Non-Missing: 47   Count Missing: 0    Percent Missing: 0.0\n",
      "Variable: n_tutorial           Count Non-Missing: 47   Count Missing: 0    Percent Missing: 0.0\n",
      "Variable: total_active         Count Non-Missing: 47   Count Missing: 0    Percent Missing: 0.0\n",
      "Variable: complete_active      Count Non-Missing: 45   Count Missing: 2    Percent Missing: 4.255\n",
      "Variable: incomplete_active    Count Non-Missing: 44   Count Missing: 3    Percent Missing: 6.383\n",
      "Variable: tutorial_atime_comp  Count Non-Missing: 45   Count Missing: 2    Percent Missing: 4.255\n",
      "Variable: cumu_a_time          Count Non-Missing: 47   Count Missing: 0    Percent Missing: 0.0\n",
      "Variable: persistence_score    Count Non-Missing: 47   Count Missing: 0    Percent Missing: 0.0\n",
      "Variable: non_per              Count Non-Missing: 47   Count Missing: 0    Percent Missing: 0.0\n",
      "Variable: productive           Count Non-Missing: 47   Count Missing: 0    Percent Missing: 0.0\n",
      "Variable: unproductive         Count Non-Missing: 47   Count Missing: 0    Percent Missing: 0.0\n",
      "Variable: rapid                Count Non-Missing: 47   Count Missing: 0    Percent Missing: 0.0\n",
      "Variable: no_beh               Count Non-Missing: 47   Count Missing: 0    Percent Missing: 0.0\n",
      "Variable: avg_revisit          Count Non-Missing: 40   Count Missing: 7    Percent Missing: 14.89\n",
      "Variable: n_attempt            Count Non-Missing: 46   Count Missing: 1    Percent Missing: 2.128\n",
      "Variable: n_failed_att         Count Non-Missing: 46   Count Missing: 1    Percent Missing: 2.128\n",
      "Variable: revisits             Count Non-Missing: 46   Count Missing: 1    Percent Missing: 2.128\n",
      "Variable: diff_event1          Count Non-Missing: 47   Count Missing: 0    Percent Missing: 0.0\n",
      "Variable: different_event      Count Non-Missing: 47   Count Missing: 0    Percent Missing: 0.0\n",
      "Variable: gender_number        Count Non-Missing: 44   Count Missing: 3    Percent Missing: 6.383\n",
      "Variable: hand_number          Count Non-Missing: 44   Count Missing: 3    Percent Missing: 6.383\n",
      "Variable: enjoyment            Count Non-Missing: 47   Count Missing: 0    Percent Missing: 0.0\n",
      "Variable: comp_average         Count Non-Missing: 45   Count Missing: 2    Percent Missing: 4.255\n",
      "Variable: comp_mg1             Count Non-Missing: 45   Count Missing: 2    Percent Missing: 4.255\n",
      "Variable: comp_gmd4            Count Non-Missing: 45   Count Missing: 2    Percent Missing: 4.255\n",
      "Variable: comp_co5             Count Non-Missing: 45   Count Missing: 2    Percent Missing: 4.255\n",
      "Variable: comp_co6             Count Non-Missing: 45   Count Missing: 2    Percent Missing: 4.255\n",
      "Variable: sbst                 Count Non-Missing: 42   Count Missing: 5    Percent Missing: 10.64\n",
      "Variable: sri                  Count Non-Missing: 44   Count Missing: 3    Percent Missing: 6.383\n",
      "Variable: so                   Count Non-Missing: 44   Count Missing: 3    Percent Missing: 6.383\n",
      "Variable: mr                   Count Non-Missing: 44   Count Missing: 3    Percent Missing: 6.383\n",
      "Variable: sv                   Count Non-Missing: 44   Count Missing: 3    Percent Missing: 6.383\n"
     ]
    }
   ],
   "source": [
    "for col in everything:\n",
    "    num = data[col].isna().sum()\n",
    "    percent = num / len(data) * 100\n",
    "    print(f\"Variable: {col:20} Count Non-Missing: {len(data)-num:<4} Count Missing: {num:<4} Percent Missing: {percent:.4}\")"
   ]
  },
  {
   "cell_type": "markdown",
   "id": "f3fd77c0-c2de-4bf7-8fd3-242c0ec62fb6",
   "metadata": {},
   "source": [
    "## Histogram"
   ]
  },
  {
   "cell_type": "code",
   "execution_count": 7,
   "id": "451ab765-e55b-479c-a7d9-a95c6609146b",
   "metadata": {},
   "outputs": [
    {
     "data": {
      "image/png": "[encoded data removed]",
      "text/plain": [
       "<Figure size 1512x1512 with 49 Axes>"
      ]
     },
     "metadata": {
      "needs_background": "light"
     },
     "output_type": "display_data"
    }
   ],
   "source": [
    "N = ceil(sqrt(len(features + labels)))\n",
    "fig, axs = subplots(N, N)\n",
    "fig.set_size_inches(3*N, 3*N)\n",
    "fig.tight_layout(pad=3.0)\n",
    "for i, col in enumerate(features + labels):\n",
    "    data[col].plot(kind=\"hist\", ax=axs[i//N][i%N], title=col, bins=25)\n",
    "\n",
    "fig.savefig(\"output/hists.png\")"
   ]
  },
  {
   "cell_type": "markdown",
   "id": "fb6ac09a-9909-4da0-99cb-e5cc84da077a",
   "metadata": {},
   "source": [
    "## Percentages in binary categories"
   ]
  },
  {
   "cell_type": "code",
   "execution_count": 8,
   "id": "d5ea1e08-25dc-46a9-b659-a48039e44b27",
   "metadata": {},
   "outputs": [
    {
     "name": "stdout",
     "output_type": "stream",
     "text": [
      "Percent of students that are female: 51.06\n",
      "Percent of students that are left-handed: 19.15\n",
      "Percent of students that are gamers: 36.17\n"
     ]
    }
   ],
   "source": [
    "# gender\n",
    "percent_female = len(data[data[\"gender_number\"] == 1]) / len(data) * 100\n",
    "print(f\"Percent of students that are female: {percent_female:.4}\")\n",
    "\n",
    "# handedness\n",
    "percent_left = len(data[data[\"hand_number\"] == 1]) / len(data) * 100\n",
    "print(f\"Percent of students that are left-handed: {percent_left:.4}\")\n",
    "\n",
    "# handedness\n",
    "percent_gamer = len(data[data[\"gamer_number\"] == 1]) / len(data) * 100\n",
    "print(f\"Percent of students that are gamers: {percent_gamer:.4}\")"
   ]
  },
  {
   "cell_type": "markdown",
   "id": "d7589d45-3ea5-4428-a6f4-41cdc464d5dd",
   "metadata": {},
   "source": [
    "# Analysis"
   ]
  },
  {
   "cell_type": "markdown",
   "id": "9d4e5ff6-e9b7-4825-813b-322af2d71cf4",
   "metadata": {},
   "source": [
    "## Correlation"
   ]
  },
  {
   "cell_type": "code",
   "execution_count": 9,
   "id": "92e39ce1-143e-420f-94cb-a10d277b78e8",
   "metadata": {},
   "outputs": [
    {
     "data": {
      "text/html": [
       "<div>\n",
       "<style scoped>\n",
       "    .dataframe tbody tr th:only-of-type {\n",
       "        vertical-align: middle;\n",
       "    }\n",
       "\n",
       "    .dataframe tbody tr th {\n",
       "        vertical-align: top;\n",
       "    }\n",
       "\n",
       "    .dataframe thead th {\n",
       "        text-align: right;\n",
       "    }\n",
       "</style>\n",
       "<table border=\"1\" class=\"dataframe\">\n",
       "  <thead>\n",
       "    <tr style=\"text-align: right;\">\n",
       "      <th></th>\n",
       "      <th>X</th>\n",
       "      <th>Y</th>\n",
       "      <th>method</th>\n",
       "      <th>alternative</th>\n",
       "      <th>n</th>\n",
       "      <th>r</th>\n",
       "      <th>CI95%</th>\n",
       "      <th>p-unc</th>\n",
       "      <th>BF10</th>\n",
       "      <th>power</th>\n",
       "    </tr>\n",
       "  </thead>\n",
       "  <tbody>\n",
       "    <tr>\n",
       "      <th>0</th>\n",
       "      <td>total_events</td>\n",
       "      <td>total_breaks</td>\n",
       "      <td>pearson</td>\n",
       "      <td>two-sided</td>\n",
       "      <td>47</td>\n",
       "      <td>0.645940</td>\n",
       "      <td>[0.44, 0.79]</td>\n",
       "      <td>9.422787e-07</td>\n",
       "      <td>2.084e+04</td>\n",
       "      <td>0.999264</td>\n",
       "    </tr>\n",
       "    <tr>\n",
       "      <th>1</th>\n",
       "      <td>total_events</td>\n",
       "      <td>total_submit</td>\n",
       "      <td>pearson</td>\n",
       "      <td>two-sided</td>\n",
       "      <td>47</td>\n",
       "      <td>0.831245</td>\n",
       "      <td>[0.71, 0.9]</td>\n",
       "      <td>4.723115e-13</td>\n",
       "      <td>1.794e+10</td>\n",
       "      <td>1.000000</td>\n",
       "    </tr>\n",
       "    <tr>\n",
       "      <th>2</th>\n",
       "      <td>total_events</td>\n",
       "      <td>total_snapshot</td>\n",
       "      <td>pearson</td>\n",
       "      <td>two-sided</td>\n",
       "      <td>47</td>\n",
       "      <td>0.878537</td>\n",
       "      <td>[0.79, 0.93]</td>\n",
       "      <td>4.868513e-16</td>\n",
       "      <td>1.23e+13</td>\n",
       "      <td>1.000000</td>\n",
       "    </tr>\n",
       "    <tr>\n",
       "      <th>3</th>\n",
       "      <td>total_events</td>\n",
       "      <td>total_view</td>\n",
       "      <td>pearson</td>\n",
       "      <td>two-sided</td>\n",
       "      <td>47</td>\n",
       "      <td>0.873332</td>\n",
       "      <td>[0.78, 0.93]</td>\n",
       "      <td>1.182286e-15</td>\n",
       "      <td>5.292e+12</td>\n",
       "      <td>1.000000</td>\n",
       "    </tr>\n",
       "    <tr>\n",
       "      <th>4</th>\n",
       "      <td>total_events</td>\n",
       "      <td>total_manipulate</td>\n",
       "      <td>pearson</td>\n",
       "      <td>two-sided</td>\n",
       "      <td>47</td>\n",
       "      <td>0.969912</td>\n",
       "      <td>[0.95, 0.98]</td>\n",
       "      <td>2.981582e-29</td>\n",
       "      <td>4.834e+25</td>\n",
       "      <td>1.000000</td>\n",
       "    </tr>\n",
       "    <tr>\n",
       "      <th>...</th>\n",
       "      <td>...</td>\n",
       "      <td>...</td>\n",
       "      <td>...</td>\n",
       "      <td>...</td>\n",
       "      <td>...</td>\n",
       "      <td>...</td>\n",
       "      <td>...</td>\n",
       "      <td>...</td>\n",
       "      <td>...</td>\n",
       "      <td>...</td>\n",
       "    </tr>\n",
       "    <tr>\n",
       "      <th>815</th>\n",
       "      <td>sri</td>\n",
       "      <td>mr</td>\n",
       "      <td>pearson</td>\n",
       "      <td>two-sided</td>\n",
       "      <td>44</td>\n",
       "      <td>0.891088</td>\n",
       "      <td>[0.81, 0.94]</td>\n",
       "      <td>5.306859e-16</td>\n",
       "      <td>1.082e+13</td>\n",
       "      <td>1.000000</td>\n",
       "    </tr>\n",
       "    <tr>\n",
       "      <th>816</th>\n",
       "      <td>sri</td>\n",
       "      <td>sv</td>\n",
       "      <td>pearson</td>\n",
       "      <td>two-sided</td>\n",
       "      <td>44</td>\n",
       "      <td>0.865925</td>\n",
       "      <td>[0.77, 0.93]</td>\n",
       "      <td>3.236657e-14</td>\n",
       "      <td>2.203e+11</td>\n",
       "      <td>1.000000</td>\n",
       "    </tr>\n",
       "    <tr>\n",
       "      <th>817</th>\n",
       "      <td>so</td>\n",
       "      <td>mr</td>\n",
       "      <td>pearson</td>\n",
       "      <td>two-sided</td>\n",
       "      <td>44</td>\n",
       "      <td>0.610590</td>\n",
       "      <td>[0.38, 0.77]</td>\n",
       "      <td>1.076214e-05</td>\n",
       "      <td>2199.77</td>\n",
       "      <td>0.995703</td>\n",
       "    </tr>\n",
       "    <tr>\n",
       "      <th>818</th>\n",
       "      <td>so</td>\n",
       "      <td>sv</td>\n",
       "      <td>pearson</td>\n",
       "      <td>two-sided</td>\n",
       "      <td>44</td>\n",
       "      <td>0.617640</td>\n",
       "      <td>[0.39, 0.77]</td>\n",
       "      <td>7.954919e-06</td>\n",
       "      <td>2907.53</td>\n",
       "      <td>0.996541</td>\n",
       "    </tr>\n",
       "    <tr>\n",
       "      <th>819</th>\n",
       "      <td>mr</td>\n",
       "      <td>sv</td>\n",
       "      <td>pearson</td>\n",
       "      <td>two-sided</td>\n",
       "      <td>44</td>\n",
       "      <td>0.695910</td>\n",
       "      <td>[0.5, 0.82]</td>\n",
       "      <td>1.569329e-07</td>\n",
       "      <td>1.115e+05</td>\n",
       "      <td>0.999835</td>\n",
       "    </tr>\n",
       "  </tbody>\n",
       "</table>\n",
       "<p>820 rows × 10 columns</p>\n",
       "</div>"
      ],
      "text/plain": [
       "                X                 Y   method alternative   n         r  \\\n",
       "0    total_events      total_breaks  pearson   two-sided  47  0.645940   \n",
       "1    total_events      total_submit  pearson   two-sided  47  0.831245   \n",
       "2    total_events    total_snapshot  pearson   two-sided  47  0.878537   \n",
       "3    total_events        total_view  pearson   two-sided  47  0.873332   \n",
       "4    total_events  total_manipulate  pearson   two-sided  47  0.969912   \n",
       "..            ...               ...      ...         ...  ..       ...   \n",
       "815           sri                mr  pearson   two-sided  44  0.891088   \n",
       "816           sri                sv  pearson   two-sided  44  0.865925   \n",
       "817            so                mr  pearson   two-sided  44  0.610590   \n",
       "818            so                sv  pearson   two-sided  44  0.617640   \n",
       "819            mr                sv  pearson   two-sided  44  0.695910   \n",
       "\n",
       "            CI95%         p-unc       BF10     power  \n",
       "0    [0.44, 0.79]  9.422787e-07  2.084e+04  0.999264  \n",
       "1     [0.71, 0.9]  4.723115e-13  1.794e+10  1.000000  \n",
       "2    [0.79, 0.93]  4.868513e-16   1.23e+13  1.000000  \n",
       "3    [0.78, 0.93]  1.182286e-15  5.292e+12  1.000000  \n",
       "4    [0.95, 0.98]  2.981582e-29  4.834e+25  1.000000  \n",
       "..            ...           ...        ...       ...  \n",
       "815  [0.81, 0.94]  5.306859e-16  1.082e+13  1.000000  \n",
       "816  [0.77, 0.93]  3.236657e-14  2.203e+11  1.000000  \n",
       "817  [0.38, 0.77]  1.076214e-05    2199.77  0.995703  \n",
       "818  [0.39, 0.77]  7.954919e-06    2907.53  0.996541  \n",
       "819   [0.5, 0.82]  1.569329e-07  1.115e+05  0.999835  \n",
       "\n",
       "[820 rows x 10 columns]"
      ]
     },
     "metadata": {},
     "output_type": "display_data"
    }
   ],
   "source": [
    "pw = pairwise_corr(data[features + labels + corr_extras])\n",
    "pw.to_csv(\"output/corr.csv\", sep=\"\\t\")\n",
    "display(pw)"
   ]
  },
  {
   "cell_type": "markdown",
   "id": "f3e1e28d-bf02-43b1-b193-ce0439d272cc",
   "metadata": {},
   "source": [
    "## Cronbach's Alpha"
   ]
  },
  {
   "cell_type": "code",
   "execution_count": 10,
   "id": "5238e768-1563-4a0b-a50a-ef277f08c003",
   "metadata": {},
   "outputs": [
    {
     "name": "stdout",
     "output_type": "stream",
     "text": [
      "Cronbach's Alpha for SRI facets: 0.8359066056875625\n",
      "Cronbach's Alpha for SBST facets: 0.8990425510278549\n"
     ]
    }
   ],
   "source": [
    "alpha, _ = cronbach_alpha(data=data[[\"so\", \"mr\", \"sv\"]])\n",
    "print(f\"Cronbach's Alpha for SRI facets: {alpha}\")\n",
    "\n",
    "alpha, _ = cronbach_alpha(data=data[[f\"sbst{i}\" for i in range(1,31)]])\n",
    "print(f\"Cronbach's Alpha for SBST facets: {alpha}\")"
   ]
  },
  {
   "cell_type": "markdown",
   "id": "07db19f3-56be-4a72-a039-2428c5fc022b",
   "metadata": {},
   "source": [
    "## ANOVA"
   ]
  },
  {
   "cell_type": "code",
   "execution_count": 11,
   "id": "1a4077cf-b13c-4a94-96e9-a502c4239aee",
   "metadata": {},
   "outputs": [
    {
     "name": "stdout",
     "output_type": "stream",
     "text": [
      "ANOVA of sri between gender:\n"
     ]
    },
    {
     "data": {
      "text/html": [
       "<div>\n",
       "<style scoped>\n",
       "    .dataframe tbody tr th:only-of-type {\n",
       "        vertical-align: middle;\n",
       "    }\n",
       "\n",
       "    .dataframe tbody tr th {\n",
       "        vertical-align: top;\n",
       "    }\n",
       "\n",
       "    .dataframe thead th {\n",
       "        text-align: right;\n",
       "    }\n",
       "</style>\n",
       "<table border=\"1\" class=\"dataframe\">\n",
       "  <thead>\n",
       "    <tr style=\"text-align: right;\">\n",
       "      <th></th>\n",
       "      <th>Source</th>\n",
       "      <th>ddof1</th>\n",
       "      <th>ddof2</th>\n",
       "      <th>F</th>\n",
       "      <th>p-unc</th>\n",
       "      <th>np2</th>\n",
       "    </tr>\n",
       "  </thead>\n",
       "  <tbody>\n",
       "    <tr>\n",
       "      <th>0</th>\n",
       "      <td>gender</td>\n",
       "      <td>1</td>\n",
       "      <td>42</td>\n",
       "      <td>1.777605</td>\n",
       "      <td>0.18963</td>\n",
       "      <td>0.040605</td>\n",
       "    </tr>\n",
       "  </tbody>\n",
       "</table>\n",
       "</div>"
      ],
      "text/plain": [
       "   Source  ddof1  ddof2         F    p-unc       np2\n",
       "0  gender      1     42  1.777605  0.18963  0.040605"
      ]
     },
     "metadata": {},
     "output_type": "display_data"
    },
    {
     "name": "stdout",
     "output_type": "stream",
     "text": [
      "\n",
      "ANOVA of sbst between gender:\n"
     ]
    },
    {
     "data": {
      "text/html": [
       "<div>\n",
       "<style scoped>\n",
       "    .dataframe tbody tr th:only-of-type {\n",
       "        vertical-align: middle;\n",
       "    }\n",
       "\n",
       "    .dataframe tbody tr th {\n",
       "        vertical-align: top;\n",
       "    }\n",
       "\n",
       "    .dataframe thead th {\n",
       "        text-align: right;\n",
       "    }\n",
       "</style>\n",
       "<table border=\"1\" class=\"dataframe\">\n",
       "  <thead>\n",
       "    <tr style=\"text-align: right;\">\n",
       "      <th></th>\n",
       "      <th>Source</th>\n",
       "      <th>ddof1</th>\n",
       "      <th>ddof2</th>\n",
       "      <th>F</th>\n",
       "      <th>p-unc</th>\n",
       "      <th>np2</th>\n",
       "    </tr>\n",
       "  </thead>\n",
       "  <tbody>\n",
       "    <tr>\n",
       "      <th>0</th>\n",
       "      <td>gender</td>\n",
       "      <td>1</td>\n",
       "      <td>39</td>\n",
       "      <td>1.834019</td>\n",
       "      <td>0.183449</td>\n",
       "      <td>0.044914</td>\n",
       "    </tr>\n",
       "  </tbody>\n",
       "</table>\n",
       "</div>"
      ],
      "text/plain": [
       "   Source  ddof1  ddof2         F     p-unc       np2\n",
       "0  gender      1     39  1.834019  0.183449  0.044914"
      ]
     },
     "metadata": {},
     "output_type": "display_data"
    },
    {
     "name": "stdout",
     "output_type": "stream",
     "text": [
      "\n",
      "ANOVA of n_complete between gender:\n"
     ]
    },
    {
     "data": {
      "text/html": [
       "<div>\n",
       "<style scoped>\n",
       "    .dataframe tbody tr th:only-of-type {\n",
       "        vertical-align: middle;\n",
       "    }\n",
       "\n",
       "    .dataframe tbody tr th {\n",
       "        vertical-align: top;\n",
       "    }\n",
       "\n",
       "    .dataframe thead th {\n",
       "        text-align: right;\n",
       "    }\n",
       "</style>\n",
       "<table border=\"1\" class=\"dataframe\">\n",
       "  <thead>\n",
       "    <tr style=\"text-align: right;\">\n",
       "      <th></th>\n",
       "      <th>Source</th>\n",
       "      <th>ddof1</th>\n",
       "      <th>ddof2</th>\n",
       "      <th>F</th>\n",
       "      <th>p-unc</th>\n",
       "      <th>np2</th>\n",
       "    </tr>\n",
       "  </thead>\n",
       "  <tbody>\n",
       "    <tr>\n",
       "      <th>0</th>\n",
       "      <td>gender</td>\n",
       "      <td>1</td>\n",
       "      <td>42</td>\n",
       "      <td>0.614792</td>\n",
       "      <td>0.437389</td>\n",
       "      <td>0.014427</td>\n",
       "    </tr>\n",
       "  </tbody>\n",
       "</table>\n",
       "</div>"
      ],
      "text/plain": [
       "   Source  ddof1  ddof2         F     p-unc       np2\n",
       "0  gender      1     42  0.614792  0.437389  0.014427"
      ]
     },
     "metadata": {},
     "output_type": "display_data"
    },
    {
     "name": "stdout",
     "output_type": "stream",
     "text": [
      "\n",
      "ANOVA of sri between handedness:\n"
     ]
    },
    {
     "data": {
      "text/html": [
       "<div>\n",
       "<style scoped>\n",
       "    .dataframe tbody tr th:only-of-type {\n",
       "        vertical-align: middle;\n",
       "    }\n",
       "\n",
       "    .dataframe tbody tr th {\n",
       "        vertical-align: top;\n",
       "    }\n",
       "\n",
       "    .dataframe thead th {\n",
       "        text-align: right;\n",
       "    }\n",
       "</style>\n",
       "<table border=\"1\" class=\"dataframe\">\n",
       "  <thead>\n",
       "    <tr style=\"text-align: right;\">\n",
       "      <th></th>\n",
       "      <th>Source</th>\n",
       "      <th>ddof1</th>\n",
       "      <th>ddof2</th>\n",
       "      <th>F</th>\n",
       "      <th>p-unc</th>\n",
       "      <th>np2</th>\n",
       "    </tr>\n",
       "  </thead>\n",
       "  <tbody>\n",
       "    <tr>\n",
       "      <th>0</th>\n",
       "      <td>hand_number</td>\n",
       "      <td>1</td>\n",
       "      <td>42</td>\n",
       "      <td>0.536977</td>\n",
       "      <td>0.467758</td>\n",
       "      <td>0.012624</td>\n",
       "    </tr>\n",
       "  </tbody>\n",
       "</table>\n",
       "</div>"
      ],
      "text/plain": [
       "        Source  ddof1  ddof2         F     p-unc       np2\n",
       "0  hand_number      1     42  0.536977  0.467758  0.012624"
      ]
     },
     "metadata": {},
     "output_type": "display_data"
    },
    {
     "name": "stdout",
     "output_type": "stream",
     "text": [
      "\n",
      "ANOVA of sbst between handedness:\n"
     ]
    },
    {
     "data": {
      "text/html": [
       "<div>\n",
       "<style scoped>\n",
       "    .dataframe tbody tr th:only-of-type {\n",
       "        vertical-align: middle;\n",
       "    }\n",
       "\n",
       "    .dataframe tbody tr th {\n",
       "        vertical-align: top;\n",
       "    }\n",
       "\n",
       "    .dataframe thead th {\n",
       "        text-align: right;\n",
       "    }\n",
       "</style>\n",
       "<table border=\"1\" class=\"dataframe\">\n",
       "  <thead>\n",
       "    <tr style=\"text-align: right;\">\n",
       "      <th></th>\n",
       "      <th>Source</th>\n",
       "      <th>ddof1</th>\n",
       "      <th>ddof2</th>\n",
       "      <th>F</th>\n",
       "      <th>p-unc</th>\n",
       "      <th>np2</th>\n",
       "    </tr>\n",
       "  </thead>\n",
       "  <tbody>\n",
       "    <tr>\n",
       "      <th>0</th>\n",
       "      <td>hand_number</td>\n",
       "      <td>1</td>\n",
       "      <td>39</td>\n",
       "      <td>0.184474</td>\n",
       "      <td>0.66992</td>\n",
       "      <td>0.004708</td>\n",
       "    </tr>\n",
       "  </tbody>\n",
       "</table>\n",
       "</div>"
      ],
      "text/plain": [
       "        Source  ddof1  ddof2         F    p-unc       np2\n",
       "0  hand_number      1     39  0.184474  0.66992  0.004708"
      ]
     },
     "metadata": {},
     "output_type": "display_data"
    },
    {
     "name": "stdout",
     "output_type": "stream",
     "text": [
      "\n",
      "ANOVA of n_complete between handedness:\n"
     ]
    },
    {
     "data": {
      "text/html": [
       "<div>\n",
       "<style scoped>\n",
       "    .dataframe tbody tr th:only-of-type {\n",
       "        vertical-align: middle;\n",
       "    }\n",
       "\n",
       "    .dataframe tbody tr th {\n",
       "        vertical-align: top;\n",
       "    }\n",
       "\n",
       "    .dataframe thead th {\n",
       "        text-align: right;\n",
       "    }\n",
       "</style>\n",
       "<table border=\"1\" class=\"dataframe\">\n",
       "  <thead>\n",
       "    <tr style=\"text-align: right;\">\n",
       "      <th></th>\n",
       "      <th>Source</th>\n",
       "      <th>ddof1</th>\n",
       "      <th>ddof2</th>\n",
       "      <th>F</th>\n",
       "      <th>p-unc</th>\n",
       "      <th>np2</th>\n",
       "    </tr>\n",
       "  </thead>\n",
       "  <tbody>\n",
       "    <tr>\n",
       "      <th>0</th>\n",
       "      <td>hand_number</td>\n",
       "      <td>1</td>\n",
       "      <td>42</td>\n",
       "      <td>1.301829</td>\n",
       "      <td>0.260344</td>\n",
       "      <td>0.030064</td>\n",
       "    </tr>\n",
       "  </tbody>\n",
       "</table>\n",
       "</div>"
      ],
      "text/plain": [
       "        Source  ddof1  ddof2         F     p-unc       np2\n",
       "0  hand_number      1     42  1.301829  0.260344  0.030064"
      ]
     },
     "metadata": {},
     "output_type": "display_data"
    },
    {
     "name": "stdout",
     "output_type": "stream",
     "text": [
      "\n",
      "ANOVA of sri between gamerness:\n"
     ]
    },
    {
     "data": {
      "text/html": [
       "<div>\n",
       "<style scoped>\n",
       "    .dataframe tbody tr th:only-of-type {\n",
       "        vertical-align: middle;\n",
       "    }\n",
       "\n",
       "    .dataframe tbody tr th {\n",
       "        vertical-align: top;\n",
       "    }\n",
       "\n",
       "    .dataframe thead th {\n",
       "        text-align: right;\n",
       "    }\n",
       "</style>\n",
       "<table border=\"1\" class=\"dataframe\">\n",
       "  <thead>\n",
       "    <tr style=\"text-align: right;\">\n",
       "      <th></th>\n",
       "      <th>Source</th>\n",
       "      <th>ddof1</th>\n",
       "      <th>ddof2</th>\n",
       "      <th>F</th>\n",
       "      <th>p-unc</th>\n",
       "      <th>np2</th>\n",
       "    </tr>\n",
       "  </thead>\n",
       "  <tbody>\n",
       "    <tr>\n",
       "      <th>0</th>\n",
       "      <td>gamer_number</td>\n",
       "      <td>1</td>\n",
       "      <td>26</td>\n",
       "      <td>0.156389</td>\n",
       "      <td>0.695729</td>\n",
       "      <td>0.005979</td>\n",
       "    </tr>\n",
       "  </tbody>\n",
       "</table>\n",
       "</div>"
      ],
      "text/plain": [
       "         Source  ddof1  ddof2         F     p-unc       np2\n",
       "0  gamer_number      1     26  0.156389  0.695729  0.005979"
      ]
     },
     "metadata": {},
     "output_type": "display_data"
    },
    {
     "name": "stdout",
     "output_type": "stream",
     "text": [
      "\n",
      "ANOVA of sbst between gamerness:\n"
     ]
    },
    {
     "data": {
      "text/html": [
       "<div>\n",
       "<style scoped>\n",
       "    .dataframe tbody tr th:only-of-type {\n",
       "        vertical-align: middle;\n",
       "    }\n",
       "\n",
       "    .dataframe tbody tr th {\n",
       "        vertical-align: top;\n",
       "    }\n",
       "\n",
       "    .dataframe thead th {\n",
       "        text-align: right;\n",
       "    }\n",
       "</style>\n",
       "<table border=\"1\" class=\"dataframe\">\n",
       "  <thead>\n",
       "    <tr style=\"text-align: right;\">\n",
       "      <th></th>\n",
       "      <th>Source</th>\n",
       "      <th>ddof1</th>\n",
       "      <th>ddof2</th>\n",
       "      <th>F</th>\n",
       "      <th>p-unc</th>\n",
       "      <th>np2</th>\n",
       "    </tr>\n",
       "  </thead>\n",
       "  <tbody>\n",
       "    <tr>\n",
       "      <th>0</th>\n",
       "      <td>gamer_number</td>\n",
       "      <td>1</td>\n",
       "      <td>27</td>\n",
       "      <td>0.303893</td>\n",
       "      <td>0.585985</td>\n",
       "      <td>0.01113</td>\n",
       "    </tr>\n",
       "  </tbody>\n",
       "</table>\n",
       "</div>"
      ],
      "text/plain": [
       "         Source  ddof1  ddof2         F     p-unc      np2\n",
       "0  gamer_number      1     27  0.303893  0.585985  0.01113"
      ]
     },
     "metadata": {},
     "output_type": "display_data"
    },
    {
     "name": "stdout",
     "output_type": "stream",
     "text": [
      "\n",
      "ANOVA of n_complete between gamerness:\n"
     ]
    },
    {
     "data": {
      "text/html": [
       "<div>\n",
       "<style scoped>\n",
       "    .dataframe tbody tr th:only-of-type {\n",
       "        vertical-align: middle;\n",
       "    }\n",
       "\n",
       "    .dataframe tbody tr th {\n",
       "        vertical-align: top;\n",
       "    }\n",
       "\n",
       "    .dataframe thead th {\n",
       "        text-align: right;\n",
       "    }\n",
       "</style>\n",
       "<table border=\"1\" class=\"dataframe\">\n",
       "  <thead>\n",
       "    <tr style=\"text-align: right;\">\n",
       "      <th></th>\n",
       "      <th>Source</th>\n",
       "      <th>ddof1</th>\n",
       "      <th>ddof2</th>\n",
       "      <th>F</th>\n",
       "      <th>p-unc</th>\n",
       "      <th>np2</th>\n",
       "    </tr>\n",
       "  </thead>\n",
       "  <tbody>\n",
       "    <tr>\n",
       "      <th>0</th>\n",
       "      <td>gamer_number</td>\n",
       "      <td>1</td>\n",
       "      <td>27</td>\n",
       "      <td>1.672019</td>\n",
       "      <td>0.206943</td>\n",
       "      <td>0.058315</td>\n",
       "    </tr>\n",
       "  </tbody>\n",
       "</table>\n",
       "</div>"
      ],
      "text/plain": [
       "         Source  ddof1  ddof2         F     p-unc       np2\n",
       "0  gamer_number      1     27  1.672019  0.206943  0.058315"
      ]
     },
     "metadata": {},
     "output_type": "display_data"
    },
    {
     "name": "stdout",
     "output_type": "stream",
     "text": [
      "\n"
     ]
    }
   ],
   "source": [
    "# SRI and gender\n",
    "aov = anova(data=data, dv=\"sri\", between=\"gender\")\n",
    "print(\"ANOVA of sri between gender:\")\n",
    "display(aov)\n",
    "print()\n",
    "\n",
    "# SBST and gender\n",
    "aov = anova(data=data, dv=\"sbst\", between=\"gender\")\n",
    "print(\"ANOVA of sbst between gender:\")\n",
    "display(aov)\n",
    "print()\n",
    "\n",
    "# n_complete and gender\n",
    "aov = anova(data=data, dv=\"n_complete\", between=\"gender\")\n",
    "print(\"ANOVA of n_complete between gender:\")\n",
    "display(aov)\n",
    "print()\n",
    "\n",
    "\n",
    "# SRI and hand\n",
    "aov = anova(data=data, dv=\"sri\", between=\"hand_number\")\n",
    "print(\"ANOVA of sri between handedness:\")\n",
    "display(aov)\n",
    "print()\n",
    "\n",
    "# SBST and hand\n",
    "aov = anova(data=data, dv=\"sbst\", between=\"hand_number\")\n",
    "print(\"ANOVA of sbst between handedness:\")\n",
    "display(aov)\n",
    "print()\n",
    "\n",
    "# n_complete and hand\n",
    "aov = anova(data=data, dv=\"n_complete\", between=\"hand_number\")\n",
    "print(\"ANOVA of n_complete between handedness:\")\n",
    "display(aov)\n",
    "print()\n",
    "\n",
    "\n",
    "# SRI and gamer\n",
    "aov = anova(data=data, dv=\"sri\", between=\"gamer_number\")\n",
    "print(\"ANOVA of sri between gamerness:\")\n",
    "display(aov)\n",
    "print()\n",
    "\n",
    "# SBST and gamer\n",
    "aov = anova(data=data, dv=\"sbst\", between=\"gamer_number\")\n",
    "print(\"ANOVA of sbst between gamerness:\")\n",
    "display(aov)\n",
    "print()\n",
    "\n",
    "# n_complete and gamer\n",
    "aov = anova(data=data, dv=\"n_complete\", between=\"gamer_number\")\n",
    "print(\"ANOVA of n_complete between gamerness:\")\n",
    "display(aov)\n",
    "print()"
   ]
  },
  {
   "cell_type": "markdown",
   "id": "12ae9b03-e91a-41b1-a010-a24a942e89ec",
   "metadata": {},
   "source": [
    "## Random Forest and XGB"
   ]
  },
  {
   "cell_type": "markdown",
   "id": "c016c669-e6a6-4e55-b282-5d52bf0fc008",
   "metadata": {},
   "source": [
    "### Helper"
   ]
  },
  {
   "cell_type": "code",
   "execution_count": 26,
   "id": "29b460ae-81ff-42b3-b148-a9d7d2635c02",
   "metadata": {},
   "outputs": [],
   "source": [
    "# specify the models\n",
    "label_dict = {\n",
    "    label: data[data[label] > 0][everything].dropna()\n",
    "    for label in labels\n",
    "}\n",
    "\n",
    "model_dict = {\n",
    "    \"xgb\": XGBRegressor(tree_method=\"hist\", random_state=42),\n",
    "    \"rf\": RandomForestRegressor(n_estimators=1000, random_state=42)\n",
    "}\n",
    "\n",
    "param_dict = { # TODO\n",
    "    \"xgb\": {},\n",
    "    \"rf\": {\n",
    "        'bootstrap': [True, False],\n",
    "        'max_depth': [10, 20, 30, 40, 50, 60, 70, 80, 90, 100, None],\n",
    "        'max_features': ['auto', 'sqrt'],\n",
    "        'min_samples_leaf': [1, 2, 4],\n",
    "        'min_samples_split': [2, 5, 10],\n",
    "        'n_estimators': [200, 400, 600, 800, 1000, 1200, 1400, 1600, 1800, 2000]\n",
    "    }\n",
    "}\n",
    "\n",
    "# Helper to run all the steps for a given dependent variable and regressor\n",
    "def run_regressor(m, label, features, protecteds):\n",
    "    \n",
    "    # Heading\n",
    "    display(Markdown(f\"---\\n\\n# {m} {label}\"))\n",
    "    \n",
    "    # Conventional Shorthand\n",
    "    model = model_dict[m]\n",
    "    subdata = label_dict[label]\n",
    "    X = subdata[features]\n",
    "    y = subdata[label]\n",
    "    \n",
    "    # Hyperparameter tuning\n",
    "    parameters = param_dict[m]\n",
    "    search = RandomizedSearchCV(model, parameters, scoring=\"r2\", n_iter=200, cv=2, verbose=2, random_state=42, n_jobs=-1)\n",
    "    search.fit(X, y)\n",
    "    display(Markdown(f\"**Hyperparameters:**\"))\n",
    "    display(DataFrame(search.best_params_, index=[0]))\n",
    "    model.set_params(**search.best_params_)\n",
    "    \n",
    "    # Fit model\n",
    "    yhat = cross_val_predict(model, X, y, cv=2)\n",
    "    model.fit(X, y)\n",
    "    \n",
    "    # Check goodness\n",
    "    errors = abs(yhat - y)\n",
    "    mae = round(mean(errors), 2)\n",
    "    display(Markdown(f\"**Mean Absolute Error:** {mae} degrees.\"))\n",
    "    display(Markdown(f\"**Pearson:**\"))\n",
    "    display(corr(yhat, y))\n",
    "    display(Markdown(f\"**R^2 Score:**\"))\n",
    "    display(r2_score(y, yhat))\n",
    "    \n",
    "    # Explain features\n",
    "    explain = Explainer(model, X, y, verbose=False)\n",
    "    explain.model_parts().plot()\n",
    "    \n",
    "    # Check fairness\n",
    "    for col in protecteds:\n",
    "        display(Markdown(f\"## {col}\"))\n",
    "        for c in unique(X[col].values):\n",
    "            display(Markdown(f\"### where {col}=={c}\"))\n",
    "            rows = X[col] == c\n",
    "            try:\n",
    "                mae = round(mean(errors[rows]), 2)\n",
    "                display(Markdown(f\"**Mean Absolute Error:** {mae} degrees.\"))\n",
    "                display(Markdown(f\"**Pearson:**\"))\n",
    "                display(corr(yhat[rows], y[rows]))\n",
    "                display(Markdown(f\"**R^2 Score:**\"))\n",
    "                display(r2_score(y[rows], yhat[rows]))\n",
    "            except Exception as e:\n",
    "                print(f\"(Unable to run a regression on {col}, there are probably not enough values in one of the test subgroups.\")"
   ]
  },
  {
   "cell_type": "markdown",
   "id": "4930317f-23a6-46f7-8952-fdba00684550",
   "metadata": {},
   "source": [
    "### Run"
   ]
  },
  {
   "cell_type": "code",
   "execution_count": 27,
   "id": "cbf2f713-9a1f-4a7e-8853-90a65a81f415",
   "metadata": {},
   "outputs": [
    {
     "data": {
      "text/markdown": [
       "---\n",
       "\n",
       "# rf sri"
      ],
      "text/plain": [
       "<IPython.core.display.Markdown object>"
      ]
     },
     "metadata": {},
     "output_type": "display_data"
    },
    {
     "name": "stdout",
     "output_type": "stream",
     "text": [
      "Fitting 2 folds for each of 50 candidates, totalling 100 fits\n",
      "[CV] END bootstrap=True, max_depth=10, max_features=sqrt, min_samples_leaf=2, min_samples_split=10, n_estimators=2000; total time=   2.0s\n",
      "[CV] END bootstrap=True, max_depth=10, max_features=sqrt, min_samples_leaf=2, min_samples_split=10, n_estimators=2000; total time=   2.2s\n",
      "[CV] END bootstrap=True, max_depth=60, max_features=sqrt, min_samples_leaf=2, min_samples_split=2, n_estimators=1200; total time=   1.3s\n",
      "[CV] END bootstrap=True, max_depth=60, max_features=sqrt, min_samples_leaf=2, min_samples_split=2, n_estimators=1200; total time=   1.2s\n",
      "[CV] END bootstrap=True, max_depth=None, max_features=auto, min_samples_leaf=2, min_samples_split=5, n_estimators=1400; total time=   1.6s\n",
      "[CV] END bootstrap=True, max_depth=None, max_features=auto, min_samples_leaf=2, min_samples_split=5, n_estimators=1400; total time=   1.6s\n",
      "[CV] END bootstrap=True, max_depth=50, max_features=auto, min_samples_leaf=1, min_samples_split=2, n_estimators=200; total time=   0.2s\n",
      "[CV] END bootstrap=True, max_depth=50, max_features=auto, min_samples_leaf=1, min_samples_split=2, n_estimators=200; total time=   0.2s\n",
      "[CV] END bootstrap=True, max_depth=20, max_features=sqrt, min_samples_leaf=2, min_samples_split=10, n_estimators=1200; total time=   1.3s\n",
      "[CV] END bootstrap=True, max_depth=20, max_features=sqrt, min_samples_leaf=2, min_samples_split=10, n_estimators=1200; total time=   1.3s\n",
      "[CV] END bootstrap=True, max_depth=50, max_features=sqrt, min_samples_leaf=2, min_samples_split=5, n_estimators=1600; total time=   1.8s\n",
      "[CV] END bootstrap=True, max_depth=50, max_features=sqrt, min_samples_leaf=2, min_samples_split=5, n_estimators=1600; total time=   1.7s\n",
      "[CV] END bootstrap=False, max_depth=70, max_features=sqrt, min_samples_leaf=1, min_samples_split=2, n_estimators=800; total time=   0.6s\n",
      "[CV] END bootstrap=False, max_depth=70, max_features=sqrt, min_samples_leaf=1, min_samples_split=2, n_estimators=800; total time=   0.7s\n",
      "[CV] END bootstrap=True, max_depth=30, max_features=auto, min_samples_leaf=2, min_samples_split=5, n_estimators=1800; total time=   1.9s\n",
      "[CV] END bootstrap=True, max_depth=30, max_features=auto, min_samples_leaf=2, min_samples_split=5, n_estimators=1800; total time=   2.1s\n",
      "[CV] END bootstrap=False, max_depth=50, max_features=sqrt, min_samples_leaf=2, min_samples_split=2, n_estimators=600; total time=   0.4s\n",
      "[CV] END bootstrap=False, max_depth=50, max_features=sqrt, min_samples_leaf=2, min_samples_split=2, n_estimators=600; total time=   0.4s\n",
      "[CV] END bootstrap=False, max_depth=90, max_features=sqrt, min_samples_leaf=4, min_samples_split=5, n_estimators=1000; total time=   0.8s\n",
      "[CV] END bootstrap=False, max_depth=90, max_features=sqrt, min_samples_leaf=4, min_samples_split=5, n_estimators=1000; total time=   0.7s\n",
      "[CV] END bootstrap=False, max_depth=80, max_features=auto, min_samples_leaf=1, min_samples_split=10, n_estimators=1800; total time=   1.4s\n",
      "[CV] END bootstrap=False, max_depth=80, max_features=auto, min_samples_leaf=1, min_samples_split=10, n_estimators=1800; total time=   1.6s\n",
      "[CV] END bootstrap=False, max_depth=90, max_features=auto, min_samples_leaf=4, min_samples_split=2, n_estimators=2000; total time=   1.5s\n",
      "[CV] END bootstrap=False, max_depth=90, max_features=auto, min_samples_leaf=4, min_samples_split=2, n_estimators=2000; total time=   1.5s\n",
      "[CV] END bootstrap=False, max_depth=90, max_features=auto, min_samples_leaf=2, min_samples_split=10, n_estimators=2000; total time=   1.7s\n",
      "[CV] END bootstrap=False, max_depth=90, max_features=auto, min_samples_leaf=2, min_samples_split=10, n_estimators=2000; total time=   1.7s\n",
      "[CV] END bootstrap=True, max_depth=20, max_features=sqrt, min_samples_leaf=4, min_samples_split=10, n_estimators=1000; total time=   1.1s\n",
      "[CV] END bootstrap=True, max_depth=20, max_features=sqrt, min_samples_leaf=4, min_samples_split=10, n_estimators=1000; total time=   1.0s\n",
      "[CV] END bootstrap=False, max_depth=90, max_features=sqrt, min_samples_leaf=1, min_samples_split=2, n_estimators=400; total time=   0.3s\n",
      "[CV] END bootstrap=False, max_depth=90, max_features=sqrt, min_samples_leaf=1, min_samples_split=2, n_estimators=400; total time=   0.3s\n",
      "[CV] END bootstrap=False, max_depth=10, max_features=sqrt, min_samples_leaf=4, min_samples_split=10, n_estimators=2000; total time=   1.4s\n",
      "[CV] END bootstrap=False, max_depth=10, max_features=sqrt, min_samples_leaf=4, min_samples_split=10, n_estimators=2000; total time=   1.6s\n",
      "[CV] END bootstrap=False, max_depth=40, max_features=sqrt, min_samples_leaf=2, min_samples_split=5, n_estimators=200; total time=   0.1s\n",
      "[CV] END bootstrap=False, max_depth=40, max_features=sqrt, min_samples_leaf=2, min_samples_split=5, n_estimators=200; total time=   0.1s\n",
      "[CV] END bootstrap=False, max_depth=70, max_features=auto, min_samples_leaf=2, min_samples_split=2, n_estimators=1200; total time=   0.9s\n",
      "[CV] END bootstrap=False, max_depth=70, max_features=auto, min_samples_leaf=2, min_samples_split=2, n_estimators=1200; total time=   1.0s\n",
      "[CV] END bootstrap=False, max_depth=30, max_features=sqrt, min_samples_leaf=4, min_samples_split=5, n_estimators=1400; total time=   1.0s\n",
      "[CV] END bootstrap=False, max_depth=30, max_features=sqrt, min_samples_leaf=4, min_samples_split=5, n_estimators=1400; total time=   1.0s\n",
      "[CV] END bootstrap=True, max_depth=70, max_features=sqrt, min_samples_leaf=1, min_samples_split=5, n_estimators=2000; total time=   2.4s\n",
      "[CV] END bootstrap=True, max_depth=70, max_features=sqrt, min_samples_leaf=1, min_samples_split=5, n_estimators=2000; total time=   2.4s\n",
      "[CV] END bootstrap=True, max_depth=None, max_features=auto, min_samples_leaf=4, min_samples_split=5, n_estimators=1000; total time=   1.1s\n",
      "[CV] END bootstrap=True, max_depth=None, max_features=auto, min_samples_leaf=4, min_samples_split=5, n_estimators=1000; total time=   1.2s\n",
      "[CV] END bootstrap=False, max_depth=30, max_features=auto, min_samples_leaf=4, min_samples_split=2, n_estimators=200; total time=   0.2s\n",
      "[CV] END bootstrap=False, max_depth=30, max_features=auto, min_samples_leaf=4, min_samples_split=2, n_estimators=200; total time=   0.2s\n",
      "[CV] END bootstrap=True, max_depth=70, max_features=sqrt, min_samples_leaf=4, min_samples_split=2, n_estimators=400; total time=   0.4s\n",
      "[CV] END bootstrap=True, max_depth=70, max_features=sqrt, min_samples_leaf=4, min_samples_split=2, n_estimators=400; total time=   0.4s\n",
      "[CV] END bootstrap=False, max_depth=90, max_features=sqrt, min_samples_leaf=2, min_samples_split=5, n_estimators=1600; total time=   1.2s\n",
      "[CV] END bootstrap=False, max_depth=90, max_features=sqrt, min_samples_leaf=2, min_samples_split=5, n_estimators=1600; total time=   1.2s\n",
      "[CV] END bootstrap=False, max_depth=None, max_features=sqrt, min_samples_leaf=1, min_samples_split=2, n_estimators=200; total time=   0.2s\n",
      "[CV] END bootstrap=False, max_depth=None, max_features=sqrt, min_samples_leaf=1, min_samples_split=2, n_estimators=200; total time=   0.2s\n",
      "[CV] END bootstrap=True, max_depth=20, max_features=sqrt, min_samples_leaf=1, min_samples_split=2, n_estimators=200; total time=   0.2s\n",
      "[CV] END bootstrap=True, max_depth=20, max_features=sqrt, min_samples_leaf=1, min_samples_split=2, n_estimators=200; total time=   0.2s\n",
      "[CV] END bootstrap=False, max_depth=20, max_features=auto, min_samples_leaf=1, min_samples_split=5, n_estimators=1800; total time=   1.5s\n",
      "[CV] END bootstrap=False, max_depth=20, max_features=auto, min_samples_leaf=1, min_samples_split=5, n_estimators=1800; total time=   1.6s\n",
      "[CV] END bootstrap=True, max_depth=90, max_features=sqrt, min_samples_leaf=4, min_samples_split=10, n_estimators=200; total time=   0.2s\n",
      "[CV] END bootstrap=True, max_depth=90, max_features=sqrt, min_samples_leaf=4, min_samples_split=10, n_estimators=200; total time=   0.2s\n",
      "[CV] END bootstrap=True, max_depth=100, max_features=sqrt, min_samples_leaf=2, min_samples_split=2, n_estimators=1200; total time=   1.3s\n",
      "[CV] END bootstrap=True, max_depth=100, max_features=sqrt, min_samples_leaf=2, min_samples_split=2, n_estimators=1200; total time=   1.3s\n",
      "[CV] END bootstrap=True, max_depth=100, max_features=sqrt, min_samples_leaf=4, min_samples_split=10, n_estimators=1200; total time=   1.4s\n",
      "[CV] END bootstrap=True, max_depth=100, max_features=sqrt, min_samples_leaf=4, min_samples_split=10, n_estimators=1200; total time=   1.3s\n",
      "[CV] END bootstrap=True, max_depth=20, max_features=auto, min_samples_leaf=2, min_samples_split=2, n_estimators=400; total time=   0.5s\n",
      "[CV] END bootstrap=True, max_depth=20, max_features=auto, min_samples_leaf=2, min_samples_split=2, n_estimators=400; total time=   0.5s\n",
      "[CV] END bootstrap=False, max_depth=80, max_features=sqrt, min_samples_leaf=2, min_samples_split=5, n_estimators=1600; total time=   1.3s\n",
      "[CV] END bootstrap=False, max_depth=80, max_features=sqrt, min_samples_leaf=2, min_samples_split=5, n_estimators=1600; total time=   1.2s\n",
      "[CV] END bootstrap=True, max_depth=100, max_features=auto, min_samples_leaf=1, min_samples_split=10, n_estimators=400; total time=   0.5s\n",
      "[CV] END bootstrap=True, max_depth=100, max_features=auto, min_samples_leaf=1, min_samples_split=10, n_estimators=400; total time=   0.5s\n",
      "[CV] END bootstrap=False, max_depth=70, max_features=auto, min_samples_leaf=4, min_samples_split=2, n_estimators=2000; total time=   1.5s\n",
      "[CV] END bootstrap=False, max_depth=70, max_features=auto, min_samples_leaf=4, min_samples_split=2, n_estimators=2000; total time=   1.5s\n",
      "[CV] END bootstrap=True, max_depth=10, max_features=auto, min_samples_leaf=1, min_samples_split=5, n_estimators=1000; total time=   1.2s\n",
      "[CV] END bootstrap=True, max_depth=10, max_features=auto, min_samples_leaf=1, min_samples_split=5, n_estimators=1000; total time=   1.2s\n",
      "[CV] END bootstrap=False, max_depth=50, max_features=sqrt, min_samples_leaf=2, min_samples_split=2, n_estimators=200; total time=   0.2s\n",
      "[CV] END bootstrap=False, max_depth=50, max_features=sqrt, min_samples_leaf=2, min_samples_split=2, n_estimators=200; total time=   0.2s\n",
      "[CV] END bootstrap=True, max_depth=None, max_features=sqrt, min_samples_leaf=1, min_samples_split=10, n_estimators=600; total time=   0.6s\n",
      "[CV] END bootstrap=True, max_depth=None, max_features=sqrt, min_samples_leaf=1, min_samples_split=10, n_estimators=600; total time=   0.7s\n",
      "[CV] END bootstrap=False, max_depth=30, max_features=sqrt, min_samples_leaf=4, min_samples_split=5, n_estimators=200; total time=   0.3s\n",
      "[CV] END bootstrap=False, max_depth=30, max_features=sqrt, min_samples_leaf=4, min_samples_split=5, n_estimators=200; total time=   0.2s\n",
      "[CV] END bootstrap=False, max_depth=20, max_features=sqrt, min_samples_leaf=1, min_samples_split=5, n_estimators=1800; total time=   1.5s\n",
      "[CV] END bootstrap=False, max_depth=20, max_features=sqrt, min_samples_leaf=1, min_samples_split=5, n_estimators=1800; total time=   1.5s\n",
      "[CV] END bootstrap=False, max_depth=80, max_features=sqrt, min_samples_leaf=2, min_samples_split=2, n_estimators=400; total time=   0.3s\n",
      "[CV] END bootstrap=False, max_depth=80, max_features=sqrt, min_samples_leaf=2, min_samples_split=2, n_estimators=400; total time=   0.4s\n",
      "[CV] END bootstrap=False, max_depth=10, max_features=auto, min_samples_leaf=1, min_samples_split=10, n_estimators=800; total time=   0.7s\n",
      "[CV] END bootstrap=False, max_depth=10, max_features=auto, min_samples_leaf=1, min_samples_split=10, n_estimators=800; total time=   0.8s\n",
      "[CV] END bootstrap=False, max_depth=None, max_features=auto, min_samples_leaf=1, min_samples_split=5, n_estimators=200; total time=   0.2s\n",
      "[CV] END bootstrap=False, max_depth=None, max_features=auto, min_samples_leaf=1, min_samples_split=5, n_estimators=200; total time=   0.2s\n",
      "[CV] END bootstrap=True, max_depth=60, max_features=auto, min_samples_leaf=1, min_samples_split=5, n_estimators=600; total time=   0.7s\n",
      "[CV] END bootstrap=True, max_depth=60, max_features=auto, min_samples_leaf=1, min_samples_split=5, n_estimators=600; total time=   0.7s\n",
      "[CV] END bootstrap=True, max_depth=20, max_features=auto, min_samples_leaf=4, min_samples_split=2, n_estimators=200; total time=   0.2s\n",
      "[CV] END bootstrap=True, max_depth=20, max_features=auto, min_samples_leaf=4, min_samples_split=2, n_estimators=200; total time=   0.2s\n",
      "[CV] END bootstrap=True, max_depth=50, max_features=sqrt, min_samples_leaf=1, min_samples_split=2, n_estimators=1800; total time=   2.2s\n",
      "[CV] END bootstrap=True, max_depth=50, max_features=sqrt, min_samples_leaf=1, min_samples_split=2, n_estimators=1800; total time=   2.2s\n",
      "[CV] END bootstrap=True, max_depth=50, max_features=sqrt, min_samples_leaf=4, min_samples_split=10, n_estimators=1600; total time=   1.6s\n",
      "[CV] END bootstrap=True, max_depth=50, max_features=sqrt, min_samples_leaf=4, min_samples_split=10, n_estimators=1600; total time=   1.7s\n",
      "[CV] END bootstrap=True, max_depth=50, max_features=auto, min_samples_leaf=1, min_samples_split=10, n_estimators=1000; total time=   1.5s\n",
      "[CV] END bootstrap=True, max_depth=50, max_features=auto, min_samples_leaf=1, min_samples_split=10, n_estimators=1000; total time=   1.3s\n",
      "[CV] END bootstrap=True, max_depth=10, max_features=auto, min_samples_leaf=4, min_samples_split=5, n_estimators=200; total time=   0.4s\n",
      "[CV] END bootstrap=True, max_depth=10, max_features=auto, min_samples_leaf=4, min_samples_split=5, n_estimators=200; total time=   0.3s\n",
      "[CV] END bootstrap=True, max_depth=50, max_features=sqrt, min_samples_leaf=1, min_samples_split=5, n_estimators=2000; total time=   3.3s\n",
      "[CV] END bootstrap=True, max_depth=50, max_features=sqrt, min_samples_leaf=1, min_samples_split=5, n_estimators=2000; total time=   4.0s\n",
      "[CV] END bootstrap=False, max_depth=80, max_features=auto, min_samples_leaf=2, min_samples_split=5, n_estimators=1800; total time=   2.6s\n",
      "[CV] END bootstrap=False, max_depth=80, max_features=auto, min_samples_leaf=2, min_samples_split=5, n_estimators=1800; total time=   2.2s\n"
     ]
    },
    {
     "data": {
      "text/markdown": [
       "**Hyperparameters:**"
      ],
      "text/plain": [
       "<IPython.core.display.Markdown object>"
      ]
     },
     "metadata": {},
     "output_type": "display_data"
    },
    {
     "data": {
      "text/html": [
       "<div>\n",
       "<style scoped>\n",
       "    .dataframe tbody tr th:only-of-type {\n",
       "        vertical-align: middle;\n",
       "    }\n",
       "\n",
       "    .dataframe tbody tr th {\n",
       "        vertical-align: top;\n",
       "    }\n",
       "\n",
       "    .dataframe thead th {\n",
       "        text-align: right;\n",
       "    }\n",
       "</style>\n",
       "<table border=\"1\" class=\"dataframe\">\n",
       "  <thead>\n",
       "    <tr style=\"text-align: right;\">\n",
       "      <th></th>\n",
       "      <th>n_estimators</th>\n",
       "      <th>min_samples_split</th>\n",
       "      <th>min_samples_leaf</th>\n",
       "      <th>max_features</th>\n",
       "      <th>max_depth</th>\n",
       "      <th>bootstrap</th>\n",
       "    </tr>\n",
       "  </thead>\n",
       "  <tbody>\n",
       "    <tr>\n",
       "      <th>0</th>\n",
       "      <td>200</td>\n",
       "      <td>2</td>\n",
       "      <td>1</td>\n",
       "      <td>sqrt</td>\n",
       "      <td>None</td>\n",
       "      <td>False</td>\n",
       "    </tr>\n",
       "  </tbody>\n",
       "</table>\n",
       "</div>"
      ],
      "text/plain": [
       "   n_estimators  min_samples_split  min_samples_leaf max_features max_depth  \\\n",
       "0           200                  2                 1         sqrt      None   \n",
       "\n",
       "   bootstrap  \n",
       "0      False  "
      ]
     },
     "metadata": {},
     "output_type": "display_data"
    },
    {
     "data": {
      "text/markdown": [
       "**Mean Absolute Error:** 4.42 degrees."
      ],
      "text/plain": [
       "<IPython.core.display.Markdown object>"
      ]
     },
     "metadata": {},
     "output_type": "display_data"
    },
    {
     "data": {
      "text/markdown": [
       "**Pearson:**"
      ],
      "text/plain": [
       "<IPython.core.display.Markdown object>"
      ]
     },
     "metadata": {},
     "output_type": "display_data"
    },
    {
     "data": {
      "text/html": [
       "<div>\n",
       "<style scoped>\n",
       "    .dataframe tbody tr th:only-of-type {\n",
       "        vertical-align: middle;\n",
       "    }\n",
       "\n",
       "    .dataframe tbody tr th {\n",
       "        vertical-align: top;\n",
       "    }\n",
       "\n",
       "    .dataframe thead th {\n",
       "        text-align: right;\n",
       "    }\n",
       "</style>\n",
       "<table border=\"1\" class=\"dataframe\">\n",
       "  <thead>\n",
       "    <tr style=\"text-align: right;\">\n",
       "      <th></th>\n",
       "      <th>n</th>\n",
       "      <th>r</th>\n",
       "      <th>CI95%</th>\n",
       "      <th>p-val</th>\n",
       "      <th>BF10</th>\n",
       "      <th>power</th>\n",
       "    </tr>\n",
       "  </thead>\n",
       "  <tbody>\n",
       "    <tr>\n",
       "      <th>pearson</th>\n",
       "      <td>33</td>\n",
       "      <td>0.543065</td>\n",
       "      <td>[0.25, 0.75]</td>\n",
       "      <td>0.001092</td>\n",
       "      <td>35.732</td>\n",
       "      <td>0.921515</td>\n",
       "    </tr>\n",
       "  </tbody>\n",
       "</table>\n",
       "</div>"
      ],
      "text/plain": [
       "          n         r         CI95%     p-val    BF10     power\n",
       "pearson  33  0.543065  [0.25, 0.75]  0.001092  35.732  0.921515"
      ]
     },
     "metadata": {},
     "output_type": "display_data"
    },
    {
     "data": {
      "text/markdown": [
       "**R^2 Score:**"
      ],
      "text/plain": [
       "<IPython.core.display.Markdown object>"
      ]
     },
     "metadata": {},
     "output_type": "display_data"
    },
    {
     "data": {
      "text/plain": [
       "0.2871281921641792"
      ]
     },
     "metadata": {},
     "output_type": "display_data"
    },
    {
     "data": {
      "application/vnd.plotly.v1+json": {
       "config": {
        "displaylogo": false,
        "modeBarButtonsToRemove": [
         "sendDataToCloud",
         "lasso2d",
         "autoScale2d",
         "select2d",
         "zoom2d",
         "pan2d",
         "zoomIn2d",
         "zoomOut2d",
         "resetScale2d",
         "toggleSpikelines",
         "hoverCompareCartesian",
         "hoverClosestCartesian"
        ],
        "plotlyServerURL": "https://plot.ly",
        "staticPlot": false,
        "toImageButtonOptions": {
         "height": null,
         "width": null
        }
       },
       "data": [
        {
         "base": 0,
         "hoverinfo": "text",
         "hoverlabel": {
          "bgcolor": "rgba(0, 0, 0, 0.8)"
         },
         "hovertext": [
          "Model: RandomForestRegressor loss after<br>variable: comp_co6 is permuted: 1.68<br>Drop-out loss change: +1.68",
          "Model: RandomForestRegressor loss after<br>variable: comp_gmd4 is permuted: 1.253<br>Drop-out loss change: +1.253",
          "Model: RandomForestRegressor loss after<br>variable: comp_co5 is permuted: 1.205<br>Drop-out loss change: +1.205",
          "Model: RandomForestRegressor loss after<br>variable: total_breaks is permuted: 0.817<br>Drop-out loss change: +0.817",
          "Model: RandomForestRegressor loss after<br>variable: incomplete_active is permuted: 0.813<br>Drop-out loss change: +0.813",
          "Model: RandomForestRegressor loss after<br>variable: cumu_a_time is permuted: 0.787<br>Drop-out loss change: +0.787",
          "Model: RandomForestRegressor loss after<br>variable: n_complete is permuted: 0.78<br>Drop-out loss change: +0.78",
          "Model: RandomForestRegressor loss after<br>variable: comp_average is permuted: 0.777<br>Drop-out loss change: +0.777",
          "Model: RandomForestRegressor loss after<br>variable: total_submit is permuted: 0.637<br>Drop-out loss change: +0.637",
          "Model: RandomForestRegressor loss after<br>variable: unproductive is permuted: 0.608<br>Drop-out loss change: +0.608"
         ],
         "marker": {
          "color": "#46bac2"
         },
         "orientation": "h",
         "showlegend": false,
         "text": [
          "+1.68",
          "+1.253",
          "+1.205",
          "+0.817",
          "+0.813",
          "+0.787",
          "+0.78",
          "+0.777",
          "+0.637",
          "+0.608"
         ],
         "textposition": "outside",
         "type": "bar",
         "x": [
          1.6796481315935794,
          1.252668435723551,
          1.2048327754499333,
          0.8165110053320394,
          0.8129472086674976,
          0.7870144965703343,
          0.7796936058892294,
          0.7766975633286329,
          0.637203089417018,
          0.608327505903786
         ],
         "xaxis": "x",
         "y": [
          "comp_co6",
          "comp_gmd4",
          "comp_co5",
          "total_breaks",
          "incomplete_active",
          "cumu_a_time",
          "n_complete",
          "comp_average",
          "total_submit",
          "unproductive"
         ],
         "yaxis": "y"
        }
       ],
       "layout": {
        "annotations": [
         {
          "font": {
           "size": 16
          },
          "showarrow": false,
          "text": "RandomForestRegressor",
          "x": 0.5,
          "xanchor": "center",
          "xref": "paper",
          "y": 1,
          "yanchor": "bottom",
          "yref": "paper"
         },
         {
          "font": {
           "size": 16
          },
          "showarrow": false,
          "text": "drop-out loss",
          "x": 0.5,
          "xanchor": "center",
          "xref": "paper",
          "y": 0,
          "yanchor": "top",
          "yref": "paper",
          "yshift": -30
         }
        ],
        "autosize": true,
        "font": {
         "color": "#371ea3"
        },
        "margin": {
         "b": 71,
         "r": 30,
         "t": 78
        },
        "shapes": [
         {
          "line": {
           "color": "#371ea3",
           "dash": "dot",
           "width": 1.5
          },
          "type": "line",
          "x0": 0,
          "x1": 0,
          "xref": "x",
          "y0": -1,
          "y1": 10,
          "yref": "y"
         }
        ],
        "template": {
         "data": {
          "scatter": [
           {
            "type": "scatter"
           }
          ]
         }
        },
        "title": {
         "text": "Variable Importance",
         "x": 0.15
        },
        "xaxis": {
         "anchor": "y",
         "automargin": true,
         "domain": [
          0,
          1
         ],
         "fixedrange": true,
         "gridwidth": 2,
         "range": [
          -0.2519472197390369,
          1.9315953513326163
         ],
         "tickcolor": "white",
         "ticklen": 3,
         "ticks": "outside",
         "type": "linear",
         "zeroline": false
        },
        "yaxis": {
         "anchor": "x",
         "automargin": true,
         "autorange": true,
         "domain": [
          0,
          1
         ],
         "fixedrange": true,
         "gridwidth": 2,
         "range": [
          10.035483870967742,
          -1.0354838709677419
         ],
         "tickcolor": "white",
         "ticklen": 10,
         "ticks": "outside",
         "type": "category"
        }
       }
      },
      "image/png": "[encoded data removed]",
      "text/html": [
       "<div>                            <div id=\"37839728-84b1-4dd5-81e1-8770025a03cb\" class=\"plotly-graph-div\" style=\"height:383.0px; width:100%;\"></div>            <script type=\"text/javascript\">                require([\"plotly\"], function(Plotly) {                    window.PLOTLYENV=window.PLOTLYENV || {};                                    if (document.getElementById(\"37839728-84b1-4dd5-81e1-8770025a03cb\")) {                    Plotly.newPlot(                        \"37839728-84b1-4dd5-81e1-8770025a03cb\",                        [{\"base\":0.0,\"hoverinfo\":\"text\",\"hoverlabel\":{\"bgcolor\":\"rgba(0,0,0,0.8)\"},\"hovertext\":[\"Model: RandomForestRegressor loss after<br>variable: comp_co6 is permuted: 1.68<br>Drop-out loss change: +1.68\",\"Model: RandomForestRegressor loss after<br>variable: comp_gmd4 is permuted: 1.253<br>Drop-out loss change: +1.253\",\"Model: RandomForestRegressor loss after<br>variable: comp_co5 is permuted: 1.205<br>Drop-out loss change: +1.205\",\"Model: RandomForestRegressor loss after<br>variable: total_breaks is permuted: 0.817<br>Drop-out loss change: +0.817\",\"Model: RandomForestRegressor loss after<br>variable: incomplete_active is permuted: 0.813<br>Drop-out loss change: +0.813\",\"Model: RandomForestRegressor loss after<br>variable: cumu_a_time is permuted: 0.787<br>Drop-out loss change: +0.787\",\"Model: RandomForestRegressor loss after<br>variable: n_complete is permuted: 0.78<br>Drop-out loss change: +0.78\",\"Model: RandomForestRegressor loss after<br>variable: comp_average is permuted: 0.777<br>Drop-out loss change: +0.777\",\"Model: RandomForestRegressor loss after<br>variable: total_submit is permuted: 0.637<br>Drop-out loss change: +0.637\",\"Model: RandomForestRegressor loss after<br>variable: unproductive is permuted: 0.608<br>Drop-out loss change: +0.608\"],\"marker\":{\"color\":\"#46bac2\"},\"orientation\":\"h\",\"showlegend\":false,\"text\":[\"+1.68\",\"+1.253\",\"+1.205\",\"+0.817\",\"+0.813\",\"+0.787\",\"+0.78\",\"+0.777\",\"+0.637\",\"+0.608\"],\"textposition\":\"outside\",\"x\":[1.6796481315935794,1.252668435723551,1.2048327754499333,0.8165110053320394,0.8129472086674976,0.7870144965703343,0.7796936058892294,0.7766975633286329,0.637203089417018,0.608327505903786],\"y\":[\"comp_co6\",\"comp_gmd4\",\"comp_co5\",\"total_breaks\",\"incomplete_active\",\"cumu_a_time\",\"n_complete\",\"comp_average\",\"total_submit\",\"unproductive\"],\"type\":\"bar\",\"xaxis\":\"x\",\"yaxis\":\"y\"}],                        {\"template\":{\"data\":{\"scatter\":[{\"type\":\"scatter\"}]}},\"xaxis\":{\"anchor\":\"y\",\"domain\":[0.0,1.0],\"type\":\"linear\",\"gridwidth\":2,\"zeroline\":false,\"automargin\":true,\"ticks\":\"outside\",\"tickcolor\":\"white\",\"ticklen\":3,\"fixedrange\":true,\"range\":[-0.2519472197390369,1.9315953513326163]},\"yaxis\":{\"anchor\":\"x\",\"domain\":[0.0,1.0],\"type\":\"category\",\"autorange\":\"reversed\",\"gridwidth\":2,\"automargin\":true,\"ticks\":\"outside\",\"tickcolor\":\"white\",\"ticklen\":10,\"fixedrange\":true},\"annotations\":[{\"font\":{\"size\":16},\"showarrow\":false,\"text\":\"RandomForestRegressor\",\"x\":0.5,\"xanchor\":\"center\",\"xref\":\"paper\",\"y\":1.0,\"yanchor\":\"bottom\",\"yref\":\"paper\"},{\"font\":{\"size\":16},\"showarrow\":false,\"text\":\"drop-out loss\",\"x\":0.5,\"xanchor\":\"center\",\"xref\":\"paper\",\"y\":0,\"yanchor\":\"top\",\"yref\":\"paper\",\"yshift\":-30}],\"shapes\":[{\"line\":{\"color\":\"#371ea3\",\"dash\":\"dot\",\"width\":1.5},\"type\":\"line\",\"x0\":0.0,\"x1\":0.0,\"xref\":\"x\",\"y0\":-1,\"y1\":10,\"yref\":\"y\"}],\"title\":{\"text\":\"Variable Importance\",\"x\":0.15},\"font\":{\"color\":\"#371ea3\"},\"margin\":{\"t\":78,\"b\":71,\"r\":30},\"height\":383.0},                        {\"displaylogo\": false, \"staticPlot\": false, \"toImageButtonOptions\": {\"height\": null, \"width\": null}, \"modeBarButtonsToRemove\": [\"sendDataToCloud\", \"lasso2d\", \"autoScale2d\", \"select2d\", \"zoom2d\", \"pan2d\", \"zoomIn2d\", \"zoomOut2d\", \"resetScale2d\", \"toggleSpikelines\", \"hoverCompareCartesian\", \"hoverClosestCartesian\"], \"responsive\": true}                    ).then(function(){\n",
       "                            \n",
       "var gd = document.getElementById('37839728-84b1-4dd5-81e1-8770025a03cb');\n",
       "var x = new MutationObserver(function (mutations, observer) {{\n",
       "        var display = window.getComputedStyle(gd).display;\n",
       "        if (!display || display === 'none') {{\n",
       "            console.log([gd, 'removed!']);\n",
       "            Plotly.purge(gd);\n",
       "            observer.disconnect();\n",
       "        }}\n",
       "}});\n",
       "\n",
       "// Listen for the removal of the full notebook cells\n",
       "var notebookContainer = gd.closest('#notebook-container');\n",
       "if (notebookContainer) {{\n",
       "    x.observe(notebookContainer, {childList: true});\n",
       "}}\n",
       "\n",
       "// Listen for the clearing of the current output cell\n",
       "var outputEl = gd.closest('.output');\n",
       "if (outputEl) {{\n",
       "    x.observe(outputEl, {childList: true});\n",
       "}}\n",
       "\n",
       "                        })                };                });            </script>        </div>"
      ]
     },
     "metadata": {},
     "output_type": "display_data"
    },
    {
     "data": {
      "text/markdown": [
       "## gender_number"
      ],
      "text/plain": [
       "<IPython.core.display.Markdown object>"
      ]
     },
     "metadata": {},
     "output_type": "display_data"
    },
    {
     "data": {
      "text/markdown": [
       "### where gender_number==0.0"
      ],
      "text/plain": [
       "<IPython.core.display.Markdown object>"
      ]
     },
     "metadata": {},
     "output_type": "display_data"
    },
    {
     "data": {
      "text/markdown": [
       "**Mean Absolute Error:** 5.73 degrees."
      ],
      "text/plain": [
       "<IPython.core.display.Markdown object>"
      ]
     },
     "metadata": {},
     "output_type": "display_data"
    },
    {
     "data": {
      "text/markdown": [
       "**Pearson:**"
      ],
      "text/plain": [
       "<IPython.core.display.Markdown object>"
      ]
     },
     "metadata": {},
     "output_type": "display_data"
    },
    {
     "data": {
      "text/html": [
       "<div>\n",
       "<style scoped>\n",
       "    .dataframe tbody tr th:only-of-type {\n",
       "        vertical-align: middle;\n",
       "    }\n",
       "\n",
       "    .dataframe tbody tr th {\n",
       "        vertical-align: top;\n",
       "    }\n",
       "\n",
       "    .dataframe thead th {\n",
       "        text-align: right;\n",
       "    }\n",
       "</style>\n",
       "<table border=\"1\" class=\"dataframe\">\n",
       "  <thead>\n",
       "    <tr style=\"text-align: right;\">\n",
       "      <th></th>\n",
       "      <th>n</th>\n",
       "      <th>r</th>\n",
       "      <th>CI95%</th>\n",
       "      <th>p-val</th>\n",
       "      <th>BF10</th>\n",
       "      <th>power</th>\n",
       "    </tr>\n",
       "  </thead>\n",
       "  <tbody>\n",
       "    <tr>\n",
       "      <th>pearson</th>\n",
       "      <td>12</td>\n",
       "      <td>0.418277</td>\n",
       "      <td>[-0.2, 0.8]</td>\n",
       "      <td>0.176001</td>\n",
       "      <td>0.811</td>\n",
       "      <td>0.28288</td>\n",
       "    </tr>\n",
       "  </tbody>\n",
       "</table>\n",
       "</div>"
      ],
      "text/plain": [
       "          n         r        CI95%     p-val   BF10    power\n",
       "pearson  12  0.418277  [-0.2, 0.8]  0.176001  0.811  0.28288"
      ]
     },
     "metadata": {},
     "output_type": "display_data"
    },
    {
     "data": {
      "text/markdown": [
       "**R^2 Score:**"
      ],
      "text/plain": [
       "<IPython.core.display.Markdown object>"
      ]
     },
     "metadata": {},
     "output_type": "display_data"
    },
    {
     "data": {
      "text/plain": [
       "-0.10345645067133669"
      ]
     },
     "metadata": {},
     "output_type": "display_data"
    },
    {
     "data": {
      "text/markdown": [
       "### where gender_number==1.0"
      ],
      "text/plain": [
       "<IPython.core.display.Markdown object>"
      ]
     },
     "metadata": {},
     "output_type": "display_data"
    },
    {
     "data": {
      "text/markdown": [
       "**Mean Absolute Error:** 3.67 degrees."
      ],
      "text/plain": [
       "<IPython.core.display.Markdown object>"
      ]
     },
     "metadata": {},
     "output_type": "display_data"
    },
    {
     "data": {
      "text/markdown": [
       "**Pearson:**"
      ],
      "text/plain": [
       "<IPython.core.display.Markdown object>"
      ]
     },
     "metadata": {},
     "output_type": "display_data"
    },
    {
     "data": {
      "text/html": [
       "<div>\n",
       "<style scoped>\n",
       "    .dataframe tbody tr th:only-of-type {\n",
       "        vertical-align: middle;\n",
       "    }\n",
       "\n",
       "    .dataframe tbody tr th {\n",
       "        vertical-align: top;\n",
       "    }\n",
       "\n",
       "    .dataframe thead th {\n",
       "        text-align: right;\n",
       "    }\n",
       "</style>\n",
       "<table border=\"1\" class=\"dataframe\">\n",
       "  <thead>\n",
       "    <tr style=\"text-align: right;\">\n",
       "      <th></th>\n",
       "      <th>n</th>\n",
       "      <th>r</th>\n",
       "      <th>CI95%</th>\n",
       "      <th>p-val</th>\n",
       "      <th>BF10</th>\n",
       "      <th>power</th>\n",
       "    </tr>\n",
       "  </thead>\n",
       "  <tbody>\n",
       "    <tr>\n",
       "      <th>pearson</th>\n",
       "      <td>21</td>\n",
       "      <td>0.54941</td>\n",
       "      <td>[0.15, 0.79]</td>\n",
       "      <td>0.009886</td>\n",
       "      <td>6.098</td>\n",
       "      <td>0.761827</td>\n",
       "    </tr>\n",
       "  </tbody>\n",
       "</table>\n",
       "</div>"
      ],
      "text/plain": [
       "          n        r         CI95%     p-val   BF10     power\n",
       "pearson  21  0.54941  [0.15, 0.79]  0.009886  6.098  0.761827"
      ]
     },
     "metadata": {},
     "output_type": "display_data"
    },
    {
     "data": {
      "text/markdown": [
       "**R^2 Score:**"
      ],
      "text/plain": [
       "<IPython.core.display.Markdown object>"
      ]
     },
     "metadata": {},
     "output_type": "display_data"
    },
    {
     "data": {
      "text/plain": [
       "0.23622774255788292"
      ]
     },
     "metadata": {},
     "output_type": "display_data"
    },
    {
     "data": {
      "text/markdown": [
       "## hand_number"
      ],
      "text/plain": [
       "<IPython.core.display.Markdown object>"
      ]
     },
     "metadata": {},
     "output_type": "display_data"
    },
    {
     "data": {
      "text/markdown": [
       "### where hand_number==0.0"
      ],
      "text/plain": [
       "<IPython.core.display.Markdown object>"
      ]
     },
     "metadata": {},
     "output_type": "display_data"
    },
    {
     "data": {
      "text/markdown": [
       "**Mean Absolute Error:** 4.23 degrees."
      ],
      "text/plain": [
       "<IPython.core.display.Markdown object>"
      ]
     },
     "metadata": {},
     "output_type": "display_data"
    },
    {
     "data": {
      "text/markdown": [
       "**Pearson:**"
      ],
      "text/plain": [
       "<IPython.core.display.Markdown object>"
      ]
     },
     "metadata": {},
     "output_type": "display_data"
    },
    {
     "data": {
      "text/html": [
       "<div>\n",
       "<style scoped>\n",
       "    .dataframe tbody tr th:only-of-type {\n",
       "        vertical-align: middle;\n",
       "    }\n",
       "\n",
       "    .dataframe tbody tr th {\n",
       "        vertical-align: top;\n",
       "    }\n",
       "\n",
       "    .dataframe thead th {\n",
       "        text-align: right;\n",
       "    }\n",
       "</style>\n",
       "<table border=\"1\" class=\"dataframe\">\n",
       "  <thead>\n",
       "    <tr style=\"text-align: right;\">\n",
       "      <th></th>\n",
       "      <th>n</th>\n",
       "      <th>r</th>\n",
       "      <th>CI95%</th>\n",
       "      <th>p-val</th>\n",
       "      <th>BF10</th>\n",
       "      <th>power</th>\n",
       "    </tr>\n",
       "  </thead>\n",
       "  <tbody>\n",
       "    <tr>\n",
       "      <th>pearson</th>\n",
       "      <td>25</td>\n",
       "      <td>0.509903</td>\n",
       "      <td>[0.14, 0.75]</td>\n",
       "      <td>0.009217</td>\n",
       "      <td>6.128</td>\n",
       "      <td>0.765304</td>\n",
       "    </tr>\n",
       "  </tbody>\n",
       "</table>\n",
       "</div>"
      ],
      "text/plain": [
       "          n         r         CI95%     p-val   BF10     power\n",
       "pearson  25  0.509903  [0.14, 0.75]  0.009217  6.128  0.765304"
      ]
     },
     "metadata": {},
     "output_type": "display_data"
    },
    {
     "data": {
      "text/markdown": [
       "**R^2 Score:**"
      ],
      "text/plain": [
       "<IPython.core.display.Markdown object>"
      ]
     },
     "metadata": {},
     "output_type": "display_data"
    },
    {
     "data": {
      "text/plain": [
       "0.24414632153273674"
      ]
     },
     "metadata": {},
     "output_type": "display_data"
    },
    {
     "data": {
      "text/markdown": [
       "### where hand_number==1.0"
      ],
      "text/plain": [
       "<IPython.core.display.Markdown object>"
      ]
     },
     "metadata": {},
     "output_type": "display_data"
    },
    {
     "data": {
      "text/markdown": [
       "**Mean Absolute Error:** 5.02 degrees."
      ],
      "text/plain": [
       "<IPython.core.display.Markdown object>"
      ]
     },
     "metadata": {},
     "output_type": "display_data"
    },
    {
     "data": {
      "text/markdown": [
       "**Pearson:**"
      ],
      "text/plain": [
       "<IPython.core.display.Markdown object>"
      ]
     },
     "metadata": {},
     "output_type": "display_data"
    },
    {
     "data": {
      "text/html": [
       "<div>\n",
       "<style scoped>\n",
       "    .dataframe tbody tr th:only-of-type {\n",
       "        vertical-align: middle;\n",
       "    }\n",
       "\n",
       "    .dataframe tbody tr th {\n",
       "        vertical-align: top;\n",
       "    }\n",
       "\n",
       "    .dataframe thead th {\n",
       "        text-align: right;\n",
       "    }\n",
       "</style>\n",
       "<table border=\"1\" class=\"dataframe\">\n",
       "  <thead>\n",
       "    <tr style=\"text-align: right;\">\n",
       "      <th></th>\n",
       "      <th>n</th>\n",
       "      <th>r</th>\n",
       "      <th>CI95%</th>\n",
       "      <th>p-val</th>\n",
       "      <th>BF10</th>\n",
       "      <th>power</th>\n",
       "    </tr>\n",
       "  </thead>\n",
       "  <tbody>\n",
       "    <tr>\n",
       "      <th>pearson</th>\n",
       "      <td>8</td>\n",
       "      <td>0.627451</td>\n",
       "      <td>[-0.14, 0.92]</td>\n",
       "      <td>0.09584</td>\n",
       "      <td>1.431</td>\n",
       "      <td>0.412842</td>\n",
       "    </tr>\n",
       "  </tbody>\n",
       "</table>\n",
       "</div>"
      ],
      "text/plain": [
       "         n         r          CI95%    p-val   BF10     power\n",
       "pearson  8  0.627451  [-0.14, 0.92]  0.09584  1.431  0.412842"
      ]
     },
     "metadata": {},
     "output_type": "display_data"
    },
    {
     "data": {
      "text/markdown": [
       "**R^2 Score:**"
      ],
      "text/plain": [
       "<IPython.core.display.Markdown object>"
      ]
     },
     "metadata": {},
     "output_type": "display_data"
    },
    {
     "data": {
      "text/plain": [
       "0.3652005346005345"
      ]
     },
     "metadata": {},
     "output_type": "display_data"
    }
   ],
   "source": [
    "run_regressor(\"rf\", \"sri\", features, protecteds)"
   ]
  },
  {
   "cell_type": "code",
   "execution_count": 14,
   "id": "93ed8b13-1726-43f0-b3be-1aeb5216eff8",
   "metadata": {},
   "outputs": [],
   "source": [
    "# run_regressor(\"rf\", \"sbst\", features, protecteds)"
   ]
  },
  {
   "cell_type": "code",
   "execution_count": 15,
   "id": "c68eb4e8-a9cf-4784-9663-5caa8932ea4b",
   "metadata": {},
   "outputs": [],
   "source": [
    "# run_regressor(\"xgb\", \"sri\", features, protecteds)"
   ]
  },
  {
   "cell_type": "code",
   "execution_count": 16,
   "id": "6ba47ff3-eb0a-4deb-a8ec-aed400944ebd",
   "metadata": {},
   "outputs": [],
   "source": [
    "# run_regressor(\"xgb\", \"sbst\", features, protecteds)"
   ]
  }
 ],
 "metadata": {
  "kernelspec": {
   "display_name": "Python 3 (ipykernel)",
   "language": "python",
   "name": "python3"
  },
  "language_info": {
   "codemirror_mode": {
    "name": "ipython",
    "version": 3
   },
   "file_extension": ".py",
   "mimetype": "text/x-python",
   "name": "python",
   "nbconvert_exporter": "python",
   "pygments_lexer": "ipython3",
   "version": "3.7.12"
  }
 },
 "nbformat": 4,
 "nbformat_minor": 5
}
